{
 "cells": [
  {
   "cell_type": "markdown",
   "metadata": {},
   "source": [
    "<a href=\"https://colab.research.google.com/github/cohmathonc/biosci670/blob/master/GrowthModels/GrowthModels_LogGrowthNumerical.ipynb\" target=\"_parent\"><img src=\"https://colab.research.google.com/assets/colab-badge.svg\" alt=\"Open In Colab\"/></a>"
   ]
  },
  {
   "cell_type": "code",
   "execution_count": null,
   "metadata": {},
   "outputs": [],
   "source": [
    "import numpy as np\n",
    "import matplotlib.pylab as plt\n",
    "import pandas as pd"
   ]
  },
  {
   "cell_type": "markdown",
   "metadata": {
    "slideshow": {
     "slide_type": "slide"
    }
   },
   "source": [
    "# Numeric Solution of Logistic Growth Problem"
   ]
  },
  {
   "cell_type": "markdown",
   "metadata": {
    "slideshow": {
     "slide_type": "fragment"
    }
   },
   "source": [
    "$$\\frac{d\\, N}{d\\, t}=r\\, N \\left(1-\\frac{N}{K}\\right)$$\n",
    "\n",
    " - population $N$ grows (or shrinks) with *constant rate* $r$ \n",
    " - only a finite maximum population (*carrying capacity* $K$) can be sustained: limited by resources or other forms of competition among population members\n",
    " \n",
    "The analytic solution is the logistic function with initial population size $N(t=0)=N_0$:\n",
    "\n",
    "$$N(t) = \\frac{N_0\\, K}{(K-N_0)\\exp(-r\\,t)+N_0}=\\frac{N_0\\, K\\exp(r\\,t)}{K+ N_0\\,(\\exp(r\\,t)-1)}$$"
   ]
  },
  {
   "cell_type": "markdown",
   "metadata": {
    "slideshow": {
     "slide_type": "slide"
    }
   },
   "source": [
    "## Numeric Integration"
   ]
  },
  {
   "cell_type": "markdown",
   "metadata": {
    "slideshow": {
     "slide_type": "slide"
    }
   },
   "source": [
    "### Define computational function for ODE"
   ]
  },
  {
   "cell_type": "markdown",
   "metadata": {
    "slideshow": {
     "slide_type": "fragment"
    }
   },
   "source": [
    "Define a python function that implements the ODE: \n",
    "\n",
    "  $$f(t,y)= f(y) = \\frac{d\\, y}{d\\, t}=r\\, y \\left(1-\\frac{y}{K}\\right)$$\n",
    "  \n",
    "The function should accept input *arguments* `t`, `y`. \n",
    "For now, 'hard-code' parameters `r`, `K` in the function body.\n",
    " "
   ]
  },
  {
   "cell_type": "code",
   "execution_count": null,
   "metadata": {
    "slideshow": {
     "slide_type": "fragment"
    }
   },
   "outputs": [],
   "source": [
    "def ode_logistic_growth(t, y):\n",
    "    K = 1\n",
    "    r = 1\n",
    "    return r*y-r*y*y/K"
   ]
  },
  {
   "cell_type": "markdown",
   "metadata": {
    "slideshow": {
     "slide_type": "slide"
    }
   },
   "source": [
    "### Solver"
   ]
  },
  {
   "cell_type": "code",
   "execution_count": null,
   "metadata": {
    "code_folding": [],
    "slideshow": {
     "slide_type": "fragment"
    }
   },
   "outputs": [],
   "source": [
    "def solve_euler(f, t, y_0):\n",
    "    \"\"\"\n",
    "    Uses explicit euler method to solve ODE: y'=f(t, y) \n",
    "    with initial value y(t_0)=y_0.\n",
    "\n",
    "    Args:\n",
    "    - f: ODE-defining function object, expected signature f(t, y), \n",
    "         where t is evaluation point and y is function value\n",
    "    - t: array of evaluation points\n",
    "    - y_0: initial value, i.e. y(t[0])\n",
    "    Returns:\n",
    "    - array containing approximated function values y(t[i]) \n",
    "    \"\"\"\n",
    "    y = np.zeros(t.shape)\n",
    "    y[0] = y_0\n",
    "    for i in range(0, len(t)-1):\n",
    "        y[i+1] = y[i] + (t[i+1]-t[i]) * f(t[i],y[i])\n",
    "    return y"
   ]
  },
  {
   "cell_type": "markdown",
   "metadata": {
    "slideshow": {
     "slide_type": "slide"
    }
   },
   "source": [
    "### Solve ODE"
   ]
  },
  {
   "cell_type": "markdown",
   "metadata": {
    "slideshow": {
     "slide_type": "fragment"
    }
   },
   "source": [
    "- Define array `t` that discretizes time interval $[t_0, t_{\\text{max}}]$ in $n$ subintervals of length $\\Delta t$.\n",
    "- Apply numerical ODE solver to your ODE-defining function, providing\n",
    "    - initial value $N_0$ \n",
    "    - array of integration time points $t_i$: `t`\n",
    "    - other parameters of your ODE as keyword arguments\n",
    "  Use: $t_0=0\\, h$, $t_{\\text{max}}=120\\, h$, $\\Delta t = 0.1$, $N_0=10^3$, $r=0.12 / h$, $K=10^6$\n",
    "    \n",
    "- Plot solution.\n",
    "\n",
    "- Check if initial condition is fulfilled and if solution shows the expected limit behavior."
   ]
  },
  {
   "cell_type": "code",
   "execution_count": null,
   "metadata": {
    "code_folding": [],
    "slideshow": {
     "slide_type": "fragment"
    }
   },
   "outputs": [],
   "source": [
    "# ODE with specific parameters\n",
    "def ode_logistic_growth_with_params(t, y):\n",
    "    K = 1E6\n",
    "    r = 0.12\n",
    "    return r*y-r*y*y/K\n",
    "\n",
    "# time discretization\n",
    "t = np.arange(0, 120, 0.1)\n",
    "# solve ODE\n",
    "y_numeric = solve_euler(ode_logistic_growth_with_params, t, y_0=1E3)"
   ]
  },
  {
   "cell_type": "code",
   "execution_count": null,
   "metadata": {
    "slideshow": {
     "slide_type": "fragment"
    }
   },
   "outputs": [],
   "source": [
    "plt.plot(t, y_numeric, label=\"numeric solution\")\n",
    "plt.legend()"
   ]
  },
  {
   "cell_type": "markdown",
   "metadata": {},
   "source": [
    "## Comparison to Analytic Solution"
   ]
  },
  {
   "cell_type": "markdown",
   "metadata": {},
   "source": [
    "Testing a new numeric method or implementation on simple test problems with known solutions is a good way to identify problems and gain confidence in the results it produces. \n",
    "\n",
    "We will compare the numerical solution of the ODE to its analytical solution."
   ]
  },
  {
   "cell_type": "markdown",
   "metadata": {
    "slideshow": {
     "slide_type": "slide"
    }
   },
   "source": [
    "### Compute analytic solution"
   ]
  },
  {
   "cell_type": "markdown",
   "metadata": {
    "slideshow": {
     "slide_type": "fragment"
    }
   },
   "source": [
    "Write a function that implements the analytic solution of the logistic growth problem: \n",
    "\n",
    "\n",
    "$$N(t) = \\frac{N_0\\, K}{(K-N_0)\\exp(-r\\,t)+N_0}=\\frac{N_0\\, K\\exp(r\\,t)}{K+ N_0\\,(\\exp(r\\,t)-1)}\\, .$$"
   ]
  },
  {
   "cell_type": "code",
   "execution_count": null,
   "metadata": {
    "slideshow": {
     "slide_type": "fragment"
    }
   },
   "outputs": [],
   "source": [
    "def logistic_growth(N0, t, r, K):\n",
    "    enum = N0*K*np.exp(r*t)\n",
    "    denom = K + N0*np.exp(r*t) - N0\n",
    "    return enum/denom"
   ]
  },
  {
   "cell_type": "code",
   "execution_count": null,
   "metadata": {
    "slideshow": {
     "slide_type": "fragment"
    }
   },
   "outputs": [],
   "source": [
    "y_analytic = logistic_growth(1E3, t, r=0.12, K=1E6)\n",
    "plt.plot(t, y_analytic, label=\"analytic solution\")\n",
    "plt.legend()"
   ]
  },
  {
   "cell_type": "markdown",
   "metadata": {
    "slideshow": {
     "slide_type": "slide"
    }
   },
   "source": [
    "### Compare analytic and numeric solution"
   ]
  },
  {
   "cell_type": "markdown",
   "metadata": {
    "slideshow": {
     "slide_type": "fragment"
    }
   },
   "source": [
    "- Qualitatively compare (plot !) the numeric solutions to the analytic solution for different integration step sizes:\n",
    "     1. $\\Delta t = 0.1$\n",
    "     2. $\\Delta t = 1.0$\n",
    "     3. $\\Delta t = 5.0$\n",
    " \n",
    "- Repeat this for $r=0.5$ "
   ]
  },
  {
   "cell_type": "code",
   "execution_count": null,
   "metadata": {
    "slideshow": {
     "slide_type": "fragment"
    }
   },
   "outputs": [],
   "source": [
    "# ODE with specific parameters\n",
    "def ode_logistic_growth_with_params(t, y):\n",
    "    K = 1E6\n",
    "    r = 0.12\n",
    "    return r*y-r*y*y/K\n",
    "\n",
    "for delta_t in [5.0, 1.0, 0.1]:\n",
    "    t = np.arange(0, 120, delta_t)\n",
    "    y_numeric = solve_euler(ode_logistic_growth_with_params, t, y_0=1E3)\n",
    "    plt.plot(t, y_numeric, label=\"numeric solution: $\\Delta t = %.2f$\"%delta_t)\n",
    "    \n",
    "t_analytic = np.arange(0, 120, 0.1)\n",
    "y_analytic = logistic_growth(1E3, t, 0.12, 1E6)\n",
    "plt.plot(t, y_analytic, label=\"analytic solution\")\n",
    "plt.legend()"
   ]
  },
  {
   "cell_type": "markdown",
   "metadata": {
    "slideshow": {
     "slide_type": "slide"
    }
   },
   "source": [
    "## Logistic Growth with non-constant Growth Rate"
   ]
  },
  {
   "cell_type": "markdown",
   "metadata": {
    "slideshow": {
     "slide_type": "fragment"
    }
   },
   "source": [
    "So far we have assumed that the growth rate $r$ is constant in time, but more generally $r=r(t)$ may be a function of time. \n",
    "\n",
    "If an analytic expression is known for the functional form of the time dependency, the time-dependency can be included directly into the ODE-defining function and the time-dependent problem can be solved in the same way as the time-independent problem."
   ]
  },
  {
   "cell_type": "markdown",
   "metadata": {
    "slideshow": {
     "slide_type": "fragment"
    }
   },
   "source": [
    "Consider the following example of a time dependent growth rate (from lecture notes, section 3.4):\n",
    "\n",
    "\\begin{equation}\n",
    "    r(t)=\\frac{r_{in}+r_{fin}}{2} + \\frac{r_{fin}-r_{in}}{2}\\tanh(t-D),\n",
    "\\end{equation}\n",
    "\n",
    "with parameters $r_{in}$, $r_{fin}$, and $D$."
   ]
  },
  {
   "cell_type": "code",
   "execution_count": null,
   "metadata": {
    "slideshow": {
     "slide_type": "fragment"
    }
   },
   "outputs": [],
   "source": [
    "def ode_log_growth_time_dep(t, y):\n",
    "    rin  = -1\n",
    "    rfin = 1\n",
    "    K = 3\n",
    "    D = 2\n",
    "    r = 0.5*(rin+rfin)+0.5*(rfin-rin)*np.tanh(t-D)\n",
    "    return r*y-r*y*y/K\n",
    "\n",
    "t = np.arange(0, 20, 0.1)\n",
    "y_numeric = solve_euler(ode_log_growth_time_dep, t, y_0=0.5)\n",
    "\n",
    "plt.plot(t, y_numeric, label=\"numeric solution\")\n",
    "plt.legend()"
   ]
  },
  {
   "cell_type": "markdown",
   "metadata": {
    "slideshow": {
     "slide_type": "slide"
    }
   },
   "source": [
    "# Standard Solver Interface"
   ]
  },
  {
   "cell_type": "markdown",
   "metadata": {
    "slideshow": {
     "slide_type": "fragment"
    }
   },
   "source": [
    "The `scipy.integrate` package provides multiple ODE solvers, most of them can be accessed via the \n",
    "[`scipy.integrate.solve_ivp`](https://docs.scipy.org/doc/scipy/reference/generated/scipy.integrate.solve_ivp.html#scipy.integrate.solve_ivp) interface.\n",
    "By default, it uses the [`scipy.integrate.RK45`](https://docs.scipy.org/doc/scipy/reference/generated/scipy.integrate.RK45.html#scipy.integrate.RK45) solver, an explicit *adaptive* Runge-Kutta method.\n",
    "\n",
    "When using our own solver implementation we could decide how to call the ODE-defining function from within the solver, i.e. which arguments the ODE-defining function accepts and their order. \n",
    "Now, to work with `solve_ivp`, the ODE-defining function *must* have the signature `f(t, y)` where `t` is the current evaluation point and `y` the current function value."
   ]
  },
  {
   "cell_type": "markdown",
   "metadata": {
    "slideshow": {
     "slide_type": "fragment"
    }
   },
   "source": [
    "The `solve_ivp` interface returns not only an array of estimated function values (as our implementation of the euler method) but instead a results object that contains various types of information. \n",
    "You can inspect this object by printing or using `dir()`."
   ]
  },
  {
   "cell_type": "code",
   "execution_count": null,
   "metadata": {
    "slideshow": {
     "slide_type": "fragment"
    }
   },
   "outputs": [],
   "source": [
    "from scipy.integrate import solve_ivp\n",
    "\n",
    "def ode_logistic_growth_with_params(t, y):\n",
    "    K = 1E6\n",
    "    r = 0.12\n",
    "    return r*y-r*y*y/K\n",
    "\n",
    "t_0 = 0\n",
    "t_N = 120\n",
    "N0 = 1E3\n",
    "\n",
    "sol = solve_ivp(ode_logistic_growth_with_params, [t_0, t_N], [N0])   \n",
    "#print(\"results object: \",sol)"
   ]
  },
  {
   "cell_type": "code",
   "execution_count": null,
   "metadata": {
    "slideshow": {
     "slide_type": "fragment"
    }
   },
   "outputs": [],
   "source": [
    "plt.plot(sol.t, sol.y[0]) # note that the result y is returned as nested array"
   ]
  },
  {
   "cell_type": "markdown",
   "metadata": {
    "slideshow": {
     "slide_type": "slide"
    }
   },
   "source": [
    "## Adaptive Solver Settings"
   ]
  },
  {
   "cell_type": "markdown",
   "metadata": {
    "slideshow": {
     "slide_type": "fragment"
    }
   },
   "source": [
    "`solve_ivp` uses an *adaptive solver*, i.e. the stepsize $\\Delta t$ is controlled by estimating the local error and a target accuracy. See 'Adaptive Stepsize' in the [ODE notebook](https://github.com/cohmathonc/biosci670/blob/master/IntroductionComputationalMethods/05_IntroCompMethods_SolvingODEs.ipynb).\n",
    "\n",
    "- target accuracy can be set by parameters `rtol`, `atol`.\n",
    "- no limit on maximum stepsize by default, can be imposed via `max_step`"
   ]
  },
  {
   "cell_type": "code",
   "execution_count": null,
   "metadata": {
    "code_folding": [],
    "slideshow": {
     "slide_type": "fragment"
    }
   },
   "outputs": [],
   "source": [
    "# specific ODE function version for selected parameter sets\n",
    "def ode_logistic_growth_with_params(t, y):\n",
    "    K = 1E6\n",
    "    r = 0.12\n",
    "    return r*y-r*y*y/K\n",
    "\n",
    "sol = solve_ivp(fun=ode_logistic_growth_with_params, \n",
    "                t_span=[t_0, t_N], y0=[N0], \n",
    "                #max_step=5,\n",
    "                rtol=1E-6\n",
    "                )   \n",
    "plt.plot(sol.t, sol.y[0]) \n",
    "plt.plot(sol.t, sol.y[0], 'xr') "
   ]
  },
  {
   "cell_type": "markdown",
   "metadata": {
    "slideshow": {
     "slide_type": "slide"
    }
   },
   "source": [
    "## Function Evaluation at Specific (Time-)Points"
   ]
  },
  {
   "cell_type": "markdown",
   "metadata": {
    "slideshow": {
     "slide_type": "fragment"
    }
   },
   "source": [
    "The `t_eval` argument allows to obtain integration results at specific evaluation points.\n",
    "\n",
    "In contrast to the constant-stepsize solver that we implemented ourselves, `solve_ivp` will integrate the ODE in the entire domain and according to the specified accuracy.\n",
    "It will only return those function values that correspond to the evaluation points specified by `t_eval`."
   ]
  },
  {
   "cell_type": "code",
   "execution_count": null,
   "metadata": {
    "slideshow": {
     "slide_type": "fragment"
    }
   },
   "outputs": [],
   "source": [
    "sol_selected_points = solve_ivp(fun=ode_logistic_growth_with_params, \n",
    "                                 t_span=[t_0, t_N], y0=[N0], \n",
    "                                 t_eval=[0, 20, 50, 62.34567, 70, 100],\n",
    "                                 rtol=1E-3)\n",
    "plt.plot(sol.t, sol.y[0]) \n",
    "plt.plot(sol_selected_points.t, sol_selected_points.y[0], 'sg')"
   ]
  },
  {
   "cell_type": "markdown",
   "metadata": {
    "slideshow": {
     "slide_type": "slide"
    }
   },
   "source": [
    "# Optional function arguments: Parameters `K`, `r`"
   ]
  },
  {
   "cell_type": "markdown",
   "metadata": {
    "slideshow": {
     "slide_type": "fragment"
    }
   },
   "source": [
    "We are often interested in investigating the solution of an ODE in function of model parameters, such as `K` and `r` in the case of the logistic growth model.\n",
    "\n",
    "Until now, we 'hardcoded' these parameters in the definition of the ODE function, and have redefined this function (of defined a new function with distinct name) for each model parametrization:"
   ]
  },
  {
   "cell_type": "code",
   "execution_count": null,
   "metadata": {
    "slideshow": {
     "slide_type": "fragment"
    }
   },
   "outputs": [],
   "source": [
    "#  'Hard-code' parameters in the ODE-defining function\n",
    "def ode_logistic_growth_hardcoded_params(t, y):\n",
    "    K = 1E6\n",
    "    r = 0.12\n",
    "    return r*y-r*y*y/K\n",
    "\n",
    "sol = solve_ivp(fun=ode_logistic_growth_hardcoded_params, \n",
    "                t_span=[t_0, t_N], y0=[N0])   "
   ]
  },
  {
   "cell_type": "markdown",
   "metadata": {
    "slideshow": {
     "slide_type": "slide"
    }
   },
   "source": [
    "This approach is straightforward for a small number of parameter sets but becomes inconvenient if more than a few parameter combinations have to be explored manually and is not suited for automated exploration of the parameter space (e.g. for data fitting). \n",
    "\n",
    "In the following sections we will explore a few alternative approaches that enable us to pass parameters through the ODE solver to the ODE-defining function.\n",
    "For all of those approaches, we first need a more general ODE function that accepts the parameters of interest as arguments to its function call."
   ]
  },
  {
   "cell_type": "code",
   "execution_count": null,
   "metadata": {
    "slideshow": {
     "slide_type": "fragment"
    }
   },
   "outputs": [],
   "source": [
    "# a general ODE-defining function with parameters as arguments\n",
    "def ode_logistic_growth_args(t, y, r, K):\n",
    "    return r*y-r*y*y/K"
   ]
  },
  {
   "cell_type": "markdown",
   "metadata": {
    "slideshow": {
     "slide_type": "fragment"
    }
   },
   "source": [
    "As we know, the ODE solver makes repeated calls to the ODE function during the iterative solution process.\n",
    "Usually, the ODE solver passes the current time `t` and function value `y` to the ODE function.\n",
    "\n",
    "We now need to find a way to pass these additional parameters (`r`, `K`) to the ODE function whenever it is called by the ODE solver."
   ]
  },
  {
   "cell_type": "markdown",
   "metadata": {
    "slideshow": {
     "slide_type": "slide"
    }
   },
   "source": [
    "## Case 1: Your own solver -- full control over expected function signature"
   ]
  },
  {
   "cell_type": "markdown",
   "metadata": {
    "slideshow": {
     "slide_type": "fragment"
    }
   },
   "source": [
    "If you use a solver that you implemented yourself, you can control how the ODE function is called from within the solver.\n",
    "This allows you to adapt your solver in such a way that it passes any specified model parameters to the ODE function."
   ]
  },
  {
   "cell_type": "markdown",
   "metadata": {
    "slideshow": {
     "slide_type": "slide"
    }
   },
   "source": [
    "### Passing each parameter separately through solver function to ODE\n",
    "\n",
    "For example you could write a specific version of the solver that can solve logistic growth problems with parameters `r` and `K` by adding these parameters as arguments in the solver function definition (`param_r`, `param_K`), and passing these argument to the ODE-defining function when it is called."
   ]
  },
  {
   "cell_type": "code",
   "execution_count": null,
   "metadata": {
    "slideshow": {
     "slide_type": "fragment"
    }
   },
   "outputs": [],
   "source": [
    "def ode_log_growth(t, y, r, K):\n",
    "    return r*y-r*y*y/K\n",
    "\n",
    "def solve_euler_with_params(f, t, y_0, param_r, param_K):\n",
    "    y = np.zeros(t.shape)\n",
    "    y[0] = y_0\n",
    "    for i in range(0, len(t)-1):\n",
    "        y[i+1] = y[i] + (t[i+1]-t[i]) * f(t[i],y[i], param_r, param_K)\n",
    "    return y\n",
    "\n",
    "t = np.arange(0,100,1)\n",
    "y = solve_euler_with_params(ode_log_growth, t, 0.1, 0.12, 1E6)"
   ]
  },
  {
   "cell_type": "markdown",
   "metadata": {
    "slideshow": {
     "slide_type": "fragment"
    }
   },
   "source": [
    "This approach implies that a new dedicated solver function needs to be defined for ODEs with different numbers of parameters, i.e. a `solve_euler_1param(f, t, y_0, param1)` for ODEs with one parameter, a `solve_euler_2param(f, t, y_0, param1, param2)` for ODEs with two parameters,  a `solve_euler_3param(f, t, y_0, param1, param2, param3)` for ODEs with three parameters, etc."
   ]
  },
  {
   "cell_type": "markdown",
   "metadata": {
    "slideshow": {
     "slide_type": "slide"
    }
   },
   "source": [
    "### Passing an arbitrary number of parameters through solver function to ODE"
   ]
  },
  {
   "cell_type": "markdown",
   "metadata": {
    "slideshow": {
     "slide_type": "fragment"
    }
   },
   "source": [
    "Instead of passing single parameters separately, we could collect parameters in a *container*, e.g. a `dict` or `list` object, and pass this object to the ODE function."
   ]
  },
  {
   "cell_type": "code",
   "execution_count": null,
   "metadata": {
    "code_folding": [],
    "slideshow": {
     "slide_type": "fragment"
    }
   },
   "outputs": [],
   "source": [
    "# 1) parameters as list\n",
    "\n",
    "def ode_log_growth(t, y, param_list):\n",
    "    r = param_list[0]\n",
    "    K = param_list[1]\n",
    "    return r*y-r*y*y/K\n",
    "\n",
    "def solve_euler_with_param_list(f, t, y_0, parameters):\n",
    "    y = np.zeros(t.shape)\n",
    "    y[0] = y_0\n",
    "    for i in range(0, len(t)-1):\n",
    "        y[i+1] = y[i] + (t[i+1]-t[i]) * f(t[i],y[i], parameters)\n",
    "    return y\n",
    "\n",
    "t = np.arange(0,100,1)\n",
    "\n",
    "parameter_list = [0.12, 1E6]\n",
    "y = solve_euler_with_param_list(ode_log_growth, t, 0.1, parameter_list)"
   ]
  },
  {
   "cell_type": "code",
   "execution_count": null,
   "metadata": {
    "slideshow": {
     "slide_type": "fragment"
    }
   },
   "outputs": [],
   "source": [
    "# 2) parameters as dictionary\n",
    "\n",
    "def ode_log_growth(t, y, param_dict):\n",
    "    r = param_dict['r']\n",
    "    K = param_dict['K']\n",
    "    return r*y-r*y*y/K\n",
    "\n",
    "def solve_euler_with_param_dict(f, t, y_0, parameters):\n",
    "    y = np.zeros(t.shape)\n",
    "    y[0] = y_0\n",
    "    for i in range(0, len(t)-1):\n",
    "        y[i+1] = y[i] + (t[i+1]-t[i]) * f(t[i],y[i], parameters)\n",
    "    return y\n",
    "\n",
    "t = np.arange(0,100,1)\n",
    "\n",
    "parameters_dict = {'r':0.12, 'K':1E6}\n",
    "y = solve_euler_with_param_dict(ode_log_growth, t, 0.1, parameters_dict)"
   ]
  },
  {
   "cell_type": "markdown",
   "metadata": {
    "slideshow": {
     "slide_type": "fragment"
    }
   },
   "source": [
    "Note that in both cases (list, dict), the solver function is identical and can handle ODE-defining functions with any arbitrary number of parameters.\n",
    "\n",
    "However, you must be sure that parameters passed through the solver function are correctly interpreted by the respective ODE-defining function:\n",
    "- If you have designed the ODE function to expect a parameter *dictionary* with certain keys, then the parameter object passed to the solver function must be of type dictionary and must contain *the keys expected* by the ODE function.\n",
    "- Likewise, if you have designed the ODE function to expect a parameter *list* of certain length, then the parameter object passed to the solver function must be of type list and its content must be *ordered as expected* by the ODE function."
   ]
  },
  {
   "cell_type": "markdown",
   "metadata": {
    "slideshow": {
     "slide_type": "slide"
    }
   },
   "source": [
    "## Case 2: No control over function signatures\n"
   ]
  },
  {
   "cell_type": "markdown",
   "metadata": {
    "slideshow": {
     "slide_type": "fragment"
    }
   },
   "source": [
    "All of the above approaches required us to change the signature of the ODE function call in the definition of the solver function.  \n",
    "\n",
    "When using an 'external' function, such as `solve_ivp`, this is not easily possible.\n",
    "\n",
    "Very often, functions that take other functions as arguments and call these functions internally are designed such that they allow additional parameters to be passed into this internal function call. \n",
    "This is often implemented by exposing an (optional) argument that accepts a list of parameter values, exactly as we have discussed above in case 1.\n",
    "\n",
    "Unfortunately, `solve_ivp` does not provide such a functionality; internally it calls the ODE-defining function with signature `f(t, y)` without the possibility to pass any other arguments to `f`."
   ]
  },
  {
   "cell_type": "markdown",
   "metadata": {
    "slideshow": {
     "slide_type": "slide"
    }
   },
   "source": [
    "The workaround in those cases exploits so-called [*lambda expressions*](https://docs.python.org/3/tutorial/controlflow.html#lambda-expressions), which provide a method to define anonymous functions in python.\n",
    "( This is similar to the [@-handle](https://www.mathworks.com/help/matlab/matlab_prog/creating-a-function-handle.html) in Matlab)\n",
    "\n",
    "Lambda expressions can be used for inline definition of simple functions (limited to a single expression); consider the following example:"
   ]
  },
  {
   "cell_type": "code",
   "execution_count": null,
   "metadata": {
    "slideshow": {
     "slide_type": "fragment"
    }
   },
   "outputs": [],
   "source": [
    "# 'lambda expressions' allow definition of single-expression functions\n",
    "a=lambda x: 1+x\n",
    "print(a(1))\n",
    "\n",
    "#or even:\n",
    "(lambda x: 1+x)(2)"
   ]
  },
  {
   "cell_type": "markdown",
   "metadata": {
    "slideshow": {
     "slide_type": "fragment"
    }
   },
   "source": [
    "We can exploit this mechanism to replace the ODE-defining function (with arguments `t`, `y`, and other paramers) by an anonymous 'wrapper' function (with arguments `t`, `y`) directly in the `solve_ivp` function call:"
   ]
  },
  {
   "cell_type": "code",
   "execution_count": null,
   "metadata": {
    "slideshow": {
     "slide_type": "fragment"
    }
   },
   "outputs": [],
   "source": [
    "def ode_log_growth(t, y, r, K):\n",
    "    return r*y-r*y*y/K\n",
    "\n",
    "# using a lambda expression, we can redefine the ODE function directly in the solve_ip function call\n",
    "sol = solve_ivp(fun=lambda t, y: ode_log_growth(t, y, 0.12, 1E6), \n",
    "                t_span=[0, 120], y0=[1E3], rtol=1E-6)   \n",
    "\n",
    "plt.plot(sol.t, sol.y[0]) "
   ]
  },
  {
   "cell_type": "markdown",
   "metadata": {
    "slideshow": {
     "slide_type": "fragment"
    }
   },
   "source": [
    "This is the most flexible approach. It can be applied to any of the solvers that we used and for any model parameter specification method."
   ]
  },
  {
   "cell_type": "markdown",
   "metadata": {},
   "source": [
    "###### About \n",
    "This notebook is part of the *biosci670* course on *Mathematical Modeling and Methods for Biomedical Science*.\n",
    "See https://github.com/cohmathonc/biosci670 for more information and material."
   ]
  }
 ],
 "metadata": {
  "celltoolbar": "Slideshow",
  "kernelspec": {
   "display_name": "Python 3",
   "language": "python",
   "name": "python3"
  },
  "language_info": {
   "codemirror_mode": {
    "name": "ipython",
    "version": 3
   },
   "file_extension": ".py",
   "mimetype": "text/x-python",
   "name": "python",
   "nbconvert_exporter": "python",
   "pygments_lexer": "ipython3",
   "version": "3.6.8"
  },
  "toc": {
   "base_numbering": 1,
   "nav_menu": {},
   "number_sections": true,
   "sideBar": true,
   "skip_h1_title": false,
   "title_cell": "Table of Contents",
   "title_sidebar": "Contents",
   "toc_cell": false,
   "toc_position": {},
   "toc_section_display": true,
   "toc_window_display": true
  }
 },
 "nbformat": 4,
 "nbformat_minor": 2
}
