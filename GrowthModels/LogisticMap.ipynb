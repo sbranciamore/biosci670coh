{
 "cells": [
  {
   "cell_type": "code",
   "execution_count": null,
   "metadata": {
    "colab": {
     "base_uri": "https://localhost:8080/",
     "height": 282
    },
    "colab_type": "code",
    "id": "tgBkOTHbtyfJ",
    "outputId": "25be1c99-a2bc-453e-9a32-6e9a6e71b0b7"
   },
   "outputs": [],
   "source": [
    "import numpy as np\n",
    "%matplotlib inline\n",
    "import matplotlib.pyplot as plt\n",
    "\n",
    "\n",
    "font = {'font.family' : 'normal',\n",
    "        'font.weight' : 'normal',\n",
    "        'font.size'   : 20}\n",
    "plt.rcParams.update(font)"
   ]
  },
  {
   "cell_type": "markdown",
   "metadata": {},
   "source": [
    "# Logistic Map"
   ]
  },
  {
   "cell_type": "markdown",
   "metadata": {},
   "source": [
    "Until now we have considered dynamical systems in which time is a *continuous* quantity. These systems are described by differential equations.\n",
    "Another class of dynamical systems assumes time to be a *discrete* quantity. Such systems are known as difference equations, recursion relations, iterated maps or simply **maps**.\n",
    "\n",
    "An interesting example of such systems is the so-called **logistic map** which is a *discrete-time* analog of the logistic equation for population growth:\n",
    "\n",
    "$$x_{n+1} = r\\, x_n\\,(1-x_n)$$\n",
    "\n",
    "with $x_n \\geq 0$ a dimensionless measure of the population in the $n$-th generation, and $r \\geq 0$ the intrinsic growth rate.\n",
    "\n"
   ]
  },
  {
   "cell_type": "markdown",
   "metadata": {},
   "source": [
    "## Model"
   ]
  },
  {
   "cell_type": "code",
   "execution_count": null,
   "metadata": {
    "colab": {},
    "colab_type": "code",
    "id": "6Z6tTYpfvY5Q"
   },
   "outputs": [],
   "source": [
    "def log_map(x_previous, r):\n",
    "    \"\"\"Computes population of generation n+1 from generation n\"\"\"\n",
    "    x_next = r * x_previous * (1.0-x_previous)\n",
    "    return x_next\n"
   ]
  },
  {
   "cell_type": "code",
   "execution_count": null,
   "metadata": {},
   "outputs": [],
   "source": [
    "r = 0.1\n",
    "x_p = np.arange(0,1,0.01)\n",
    "x_n = log_map(x_p, r=r)\n",
    "\n",
    "fig, ax = plt.subplots(figsize=(15, 7))\n",
    "ax.plot(x_p, x_n)\n",
    "ax.grid()\n",
    "ax.set_xlabel('$x_n$')\n",
    "ax.set_ylabel('$x_{n+1}$')\n",
    "ax.set_title(\"logistic map for r=%.2f\"%(r))\n",
    "\n",
    "ax.axhline(y=r/4., color='red', linestyle=':', label='max @ $r/4=$%.2f'%(r/4))\n",
    "ax.legend(loc='upper right')\n"
   ]
  },
  {
   "cell_type": "markdown",
   "metadata": {},
   "source": [
    "## Evolution "
   ]
  },
  {
   "cell_type": "code",
   "execution_count": null,
   "metadata": {
    "colab": {
     "base_uri": "https://localhost:8080/",
     "height": 530
    },
    "colab_type": "code",
    "id": "ARtLJNnJwY2_",
    "outputId": "13cc5706-6242-46c4-94ee-4f027c35980f"
   },
   "outputs": [],
   "source": [
    "def compute_log_map(r, x0=0.1, n_max=100):\n",
    "    \"\"\"Computes logistic map over n_max generations\"\"\"\n",
    "    x = np.zeros(n_max)\n",
    "    x[0] = x0\n",
    "    for n in range(1,n_max):\n",
    "        x[n] = log_map(x[n-1],r)\n",
    "    return x"
   ]
  },
  {
   "cell_type": "markdown",
   "metadata": {},
   "source": [
    "What behavior do you observe in the following scenarios:\n",
    "\n",
    "- $r<1$\n",
    "- $1<r<3$\n",
    "- $r > 3$\n",
    "    - $r=3.3$\n",
    "    - $r=3.5$"
   ]
  },
  {
   "cell_type": "code",
   "execution_count": null,
   "metadata": {},
   "outputs": [],
   "source": [
    "y = compute_log_map(r=2.9, x0=0.3, n_max=50)\n",
    "x = np.arange(0,len(y))\n",
    "plt.plot(x, y,'-x')\n",
    "\n",
    "# n-period\n",
    "#n=32\n",
    "#plt.plot(x[::n], y[::n], '.r')\n"
   ]
  },
  {
   "cell_type": "markdown",
   "metadata": {},
   "source": [
    "- For $r<1$ population goes extinct, $x_n\\rightarrow 0$ as $n \\rightarrow \\infty$. \n",
    "- For $1<r<3$ population grows and eventually reaches a nonzero steady state.\n",
    "- For $r>3$ population builds up and then oscillates about the former steady state, with different *periods* dependening on the value of $r$, e.g. *period-2* cycle for $r=3.3$, *period-4* cycle for $r=3.5$, and further *period-doublings* with higher values of $r$ up to a limiting value $r_\\infty\\approx 3.569946$.\n",
    "\n",
    "For many values of $r>r_\\infty$, the long-term behavior is aperiodic.\n",
    "    "
   ]
  },
  {
   "cell_type": "markdown",
   "metadata": {},
   "source": [
    "## Cobweb Diagram"
   ]
  },
  {
   "cell_type": "markdown",
   "metadata": {},
   "source": [
    "*[Cobweb plots](https://en.wikipedia.org/wiki/Cobweb_plot)* are often used it visualize the behavior of iterated maps:\n",
    "$$x_{n+1} = f(x_n)$$\n",
    "\n",
    "They are constructed using two curves:\n",
    "- the diagonal $y=x_{n+1} = x_n$\n",
    "- the function curve $y=f(x_n)$\n",
    "\n",
    "To plot the behavior of a starting value $x_0$, the following steps are applied:\n",
    "\n",
    "1. find point with coordinates $(x_0, f(x_0))$\n",
    "2. plot horizontally from this point to the diagonal line to find the intersection point $(f(x_0), f(x_0))$\n",
    "3. plot vertically from the point on the diagonal to the function curve: $(f(x_0), f(f(x_0)))$\n",
    "4. repeat from 2. as needed\n"
   ]
  },
  {
   "cell_type": "code",
   "execution_count": null,
   "metadata": {},
   "outputs": [],
   "source": [
    "\n",
    "def plot_cobweb(f=log_map, r=0.1, x0=0.5, nmax=40):\n",
    "    # adapted from https://scipython.com/blog/cobweb-plots/\n",
    "    \"\"\"Cobweb plot\n",
    "\n",
    "    Plot y = f(x; r) and y = x for 0 <= x <= 1.\n",
    "    Illustrate the behavior of iterating x = f(x) starting at x = x0. \n",
    "    r is a parameter of the function f.\n",
    "    \"\"\"\n",
    "    x = np.linspace(0, 1, 500)\n",
    "    fig = plt.figure(figsize=(10,10))\n",
    "    ax = fig.add_subplot(111)\n",
    "\n",
    "    # Plot y = f(x) and y = x\n",
    "    ax.plot(x, f(x, r), color='k', lw=2)\n",
    "    ax.plot(x, x, color='k', linestyle=':',lw=2)\n",
    "\n",
    "    # Iterate x = f(x) for nmax steps, starting at (x0, 0).\n",
    "    px, py = np.empty((2,nmax+1,2))\n",
    "    px[0], py[0] = x0, 0\n",
    "    for n in range(1, nmax, 2):\n",
    "        px[n] = px[n-1]\n",
    "        py[n] = f(px[n-1], r)\n",
    "        px[n+1] = py[n]\n",
    "        py[n+1] = py[n]\n",
    "\n",
    "    # Plot the path traced out by the iteration.\n",
    "    ax.plot(px, py, color='b', alpha=0.5,lw=1)\n",
    "    ax.plot(px, py, linestyle='', marker='.', color='r', markersize=1)\n",
    "    \n",
    "    # fix points\n",
    "    xf_0 = 0\n",
    "    xf_1 = 1.-1./r\n",
    "    ax.plot(xf_0, xf_0, marker='o', color='g')\n",
    "    ax.plot(xf_1, xf_1, marker='o', color='g')\n",
    "\n",
    "    # Annotate and tidy the plot.\n",
    "    ax.minorticks_on()\n",
    "    ax.grid(which='minor', alpha=0.5)\n",
    "    ax.grid(which='major', alpha=0.5)\n",
    "    ax.set_aspect('equal')\n",
    "    ax.set_xlabel('$x_n$')\n",
    "    ax.set_ylabel('$x_{n+1}$')\n",
    "    ax.set_title('$x_0 = {:.1}, r = {:.2}$'.format(float(x0), float(r)))\n",
    "    ax.set_xlim(-0.05, 1.05)\n",
    "    ax.set_ylim(-0.05, 1.05)\n",
    "    plt.show()\n",
    "    "
   ]
  },
  {
   "cell_type": "code",
   "execution_count": null,
   "metadata": {},
   "outputs": [],
   "source": [
    "#plot_cobweb(log_map, r=1.5, x0=0.01, nmax=1000)"
   ]
  },
  {
   "cell_type": "code",
   "execution_count": null,
   "metadata": {},
   "outputs": [],
   "source": [
    "# interactive ipython widgets\n",
    "import ipywidgets as widgets\n",
    "from IPython.display import display\n",
    "\n",
    "\n",
    "#-- initial values\n",
    "w_x0 = widgets.FloatSlider(value=0.1, min=0.0, max=1.0, step=0.01, continuous_update=False, \n",
    "                                   description=r'\\(x_0\\)', orientation='horizontal', readout=True)\n",
    "w_r  = widgets.FloatSlider(value=1.5, min=0.0, max=5.0, step=0.01, continuous_update=False, \n",
    "                           description=r'\\(r\\)', orientation='horizontal', readout=True)\n",
    "w_n  = widgets.IntSlider(value=500, min=0, max=1000, step=1, continuous_update=False, \n",
    "                         description=r'\\(n\\)', orientation='horizontal', readout=True)\n",
    "ui = widgets.HBox([w_x0,w_r,w_n])\n",
    "\n",
    "out = widgets.interactive_output(plot_cobweb, { \n",
    "                                                'r' : w_r,\n",
    "                                                'x0': w_x0,\n",
    "                                                'nmax' : w_n    })\n",
    "\n",
    "# # display widget\n",
    "display(ui, out)"
   ]
  },
  {
   "cell_type": "markdown",
   "metadata": {},
   "source": [
    "[Link](https://commons.wikimedia.org/wiki/File:LogisticCobwebChaos.gif) to animated cobweb diagram."
   ]
  },
  {
   "cell_type": "markdown",
   "metadata": {},
   "source": [
    "## Orbit Diagram"
   ]
  },
  {
   "cell_type": "markdown",
   "metadata": {},
   "source": [
    "The longterm behavior of the iterative map for *all* values of parameter $r$ can be represented in an *orbit diagram* that plots the system's attractor as a function of $r$.\n",
    "\n",
    "To generate this plot, we \n",
    "- solve the logistic map for some random initial condition $x_0$ and iterate over a sufficiently large number of generations for the system to settle.\n",
    "- repeat this for all values $r$ in the interval of interest,\n",
    "- plot all solutions as function of $r$, excluding 'early' generations."
   ]
  },
  {
   "cell_type": "code",
   "execution_count": null,
   "metadata": {},
   "outputs": [],
   "source": [
    "# generate r_steps number of orbits, each with n_generations generations\n",
    "r_steps = 500\n",
    "n_generations = 1000\n",
    "x0 = 0.1\n",
    "\n",
    "\n",
    "rs = np.linspace(0, 4, r_steps)\n",
    "y  = np.zeros((r_steps, n_generations))*np.NaN\n",
    "for i, r in enumerate(rs):\n",
    "    y[i,:] = compute_log_map(r, x0=0.2, n_max=n_generations)\n",
    "    \n",
    "    \n",
    "# plot orbits in function of r\n",
    "fig, ax = plt.subplots(figsize=(15, 15))\n",
    "ax.plot(rs, y[:,50:], '.k', markersize=0.1)\n",
    "#ax.plot(rs, y[:,:], '.k', markersize=0.1)\n",
    "ax.set_xlabel('$r$')\n",
    "ax.set_ylabel('$x$')\n",
    "ax.grid(which='minor', alpha=0.5)\n",
    "ax.grid(which='major', alpha=0.5)\n",
    "ax.minorticks_on()\n",
    "plt.show()"
   ]
  },
  {
   "cell_type": "markdown",
   "metadata": {},
   "source": [
    "## Analysis"
   ]
  },
  {
   "cell_type": "markdown",
   "metadata": {},
   "source": [
    "Logistic map:\n",
    "$$x_{n+1} = F(x_n) = r\\, x_n\\,(1-x_n)$$"
   ]
  },
  {
   "cell_type": "markdown",
   "metadata": {},
   "source": [
    "### Fix Points"
   ]
  },
  {
   "cell_type": "markdown",
   "metadata": {},
   "source": [
    "Fix points satisfy \n",
    "$$x^* = F(x^*) = r\\, x^*\\,(1-x^*)$$\n",
    "\n",
    "Hence:\n",
    "1. $x^* =0$\n",
    "2. $x^* = r\\, x^*\\,(1-x^*)\\, \\rightarrow \\, x^*=1-\\frac{1}{r}$;\n",
    "   $x^*$ only in range of allowable $x$ if $r\\geq 1$ \n"
   ]
  },
  {
   "cell_type": "markdown",
   "metadata": {},
   "source": [
    "### Bifurcation"
   ]
  },
  {
   "cell_type": "markdown",
   "metadata": {},
   "source": [
    "Fixpoint $x^*$ is \n",
    "- *linearly stable* if the eigenvalue $\\left| \\lambda \\right|=\\left|F'(x^*)\\right| <1$ \n",
    "- *unstable* if the eigenvalue $\\left| \\lambda \\right|=\\left|F'(x^*)\\right| >1$. \n",
    "\n",
    "*Bifurcation* at $x^*$ if $\\left| \\lambda \\right|=\\left|F'(x^*)\\right| =1$."
   ]
  },
  {
   "cell_type": "markdown",
   "metadata": {},
   "source": [
    "$F'(x) = r - 2\\, r\\, x = r\\, (1-2x)$:\n",
    "- $F'(x^*=0) = r$\n",
    "    - stable if $ r <1 $\n",
    "    - unstable if $r>1$\n",
    "- $F'(x^*=1-\\frac{1}{r}) = r\\,(1-2\\, (1-\\frac{1}{r})) = 2- r$\n",
    "    - stable if $ -1 < (2-r) <1 $, i.e. $1 < r < 3$\n",
    "    - unstable if $r>3$\n"
   ]
  }
 ],
 "metadata": {
  "colab": {
   "name": "logistic map",
   "provenance": [],
   "version": "0.3.2"
  },
  "kernelspec": {
   "display_name": "Python 2",
   "language": "python",
   "name": "python2"
  },
  "language_info": {
   "codemirror_mode": {
    "name": "ipython",
    "version": 3
   },
   "file_extension": ".py",
   "mimetype": "text/x-python",
   "name": "python",
   "nbconvert_exporter": "python",
   "pygments_lexer": "ipython3",
   "version": "3.6.8"
  },
  "toc": {
   "base_numbering": 1,
   "nav_menu": {},
   "number_sections": true,
   "sideBar": true,
   "skip_h1_title": false,
   "title_cell": "Table of Contents",
   "title_sidebar": "Contents",
   "toc_cell": false,
   "toc_position": {},
   "toc_section_display": true,
   "toc_window_display": false
  }
 },
 "nbformat": 4,
 "nbformat_minor": 1
}
