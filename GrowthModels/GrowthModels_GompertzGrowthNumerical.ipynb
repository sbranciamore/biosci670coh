{
 "cells": [
  {
   "cell_type": "markdown",
   "metadata": {},
   "source": [
    "<a href=\"https://colab.research.google.com/github/cohmathonc/biosci670/blob/master/GrowthModels/GrowthModels_GompertzGrowthNumerical.ipynb\" target=\"_parent\"><img src=\"https://colab.research.google.com/assets/colab-badge.svg\" alt=\"Open In Colab\"/></a>"
   ]
  },
  {
   "cell_type": "code",
   "execution_count": null,
   "metadata": {
    "slideshow": {
     "slide_type": "skip"
    }
   },
   "outputs": [],
   "source": [
    "import numpy as np\n",
    "import matplotlib.pylab as plt\n",
    "import pandas as pd"
   ]
  },
  {
   "cell_type": "markdown",
   "metadata": {
    "slideshow": {
     "slide_type": "slide"
    }
   },
   "source": [
    "# Gompertzian Growth"
   ]
  },
  {
   "cell_type": "markdown",
   "metadata": {
    "slideshow": {
     "slide_type": "fragment"
    }
   },
   "source": [
    "The Gompertz model is an empirical growth model, based on the observation that population decline can be faster than a decaying exponential, which implies that the death rate must be increasing with age (because a constant death rate would result in exponential decrease).\n",
    "\n",
    "Mathematically, the Gompertz model can be expressed as a system of two coupled differential equations\n",
    "\n",
    "\\begin{align}\n",
    "      \\frac{dN}{dt} &=G(t)N(t) \\tag{1}\\\\\n",
    "      \\frac{dG}{dt} &=-r G(t) \\tag{2}\n",
    "\\end{align}\n",
    "\n",
    "where\n",
    " - the population $N(t)$ grows or shrinks over time with time-dependent growth factor $G(t)$\n",
    " - the growth factor $G(t)$ decays exponentially over time with constant rate $r$. "
   ]
  },
  {
   "cell_type": "markdown",
   "metadata": {
    "slideshow": {
     "slide_type": "fragment"
    }
   },
   "source": [
    "Here, we explore two ways to solve Gompertz model numerically: \n",
    "\n",
    "In the first approach, we make use of the known solution to ODE (2) to solve ODE (1) as a function of population $N$ and time $t$.\n",
    "Then, we solve the system of coupled ODEs directly, without relying on partial analytic solutions of the problem."
   ]
  },
  {
   "cell_type": "markdown",
   "metadata": {
    "slideshow": {
     "slide_type": "slide"
    }
   },
   "source": [
    "## Use known analytic expression of G(t) and solve single ODE "
   ]
  },
  {
   "cell_type": "markdown",
   "metadata": {
    "slideshow": {
     "slide_type": "fragment"
    }
   },
   "source": [
    "We already know the solution to ODE (2):\n",
    "\n",
    "$$G(t)=G_0\\exp(-r\\,t)$$\n",
    "\n",
    "with initial condition $G_0$.\n",
    "\n",
    "This allows us to rewrite ODE (1) by substituting the functional form of $G(t)$:\n",
    "$$\\frac{dN}{dt}=G(t)N(t) = G_0\\exp(-r\\,t)\\, N(t) \\tag{3}$$\n",
    "\n",
    "Now we have reduced the system of coupled ODEs that define the Gompertz model to a single ODE that depends on time $t$ and population $N$.\n",
    "\n",
    "This problem can be solved with the tools that we are already familiar with."
   ]
  },
  {
   "cell_type": "code",
   "execution_count": null,
   "metadata": {
    "slideshow": {
     "slide_type": "slide"
    }
   },
   "outputs": [],
   "source": [
    "# Gompertz ODE with growth rate r and initial growth factor G0\n",
    "def gompertz_single_ode(t, N):\n",
    "    r  = 0.3\n",
    "    G0 = 1\n",
    "    return G0*np.exp(-r*t)*N\n",
    "\n",
    "def solve_euler(f, t, y_0):\n",
    "    y = np.zeros(t.shape)\n",
    "    y[0] = y_0\n",
    "    for i in range(0, len(t)-1):\n",
    "        y[i+1] = y[i] + (t[i+1]-t[i]) * f(t[i],y[i])\n",
    "    return y\n",
    "\n",
    "t_single_ode = np.arange(0, 20, 0.1)\n",
    "y_numeric_single_ode = solve_euler(gompertz_single_ode, t_single_ode, y_0=100)\n",
    "\n",
    "plt.plot(t_single_ode, y_numeric_single_ode,'b' ,label=\"numeric solution, single ODE\")\n",
    "plt.legend()"
   ]
  },
  {
   "cell_type": "markdown",
   "metadata": {
    "slideshow": {
     "slide_type": "slide"
    }
   },
   "source": [
    "## Solve System of Coupled ODEs "
   ]
  },
  {
   "cell_type": "markdown",
   "metadata": {
    "slideshow": {
     "slide_type": "fragment"
    }
   },
   "source": [
    "Alternatively, we can solve the system of coupled differential equations numerically:\n",
    "\n",
    "\\begin{align}\n",
    "      \\frac{dN}{dt} &=G(t)N(t) &=& &f(t, N, G) &=& N'\\\\\n",
    "      \\frac{dG}{dt} &=-r G(t)  &=& &g(t, N, G)     &=& G'\n",
    "\\end{align}\n",
    "\n",
    "The basic idea of the Euler method was to approximate an unknown function at the next evaluation time point using its current value and its derivative.\n",
    "Here, we need to approximate two functions simultaneously in each integration step $i$: \n",
    "\n",
    "\\begin{align}\n",
    "      N_{i+1} &= N_i + \\Delta_i\\, f(t_i, N_i, G_i)\\\\\n",
    "      G_{i+1} &= G_i + \\Delta_i\\, g(t_i, N_i, G_i)\\\\\n",
    "\\end{align}\n"
   ]
  },
  {
   "cell_type": "markdown",
   "metadata": {
    "slideshow": {
     "slide_type": "fragment"
    }
   },
   "source": [
    "For implementation, we need a computational function that returns the values $f(t, N, G)$ and $g(t, N, G)$ for given $t, N, G$.\n",
    "Ideally, we would like this function to use the same call signature as the ODE defining functions that we had used before, i.e. one argument for function values ($N, G$), and one for time.\n",
    "\n",
    "This can be achieved by vectorization:\n",
    "\n",
    "Instead of accepting only a single scalar as input for the  current function value, we permit a k-dimensional array as input argument ($k=2$ in this example, i.e. `[N, G]`). \n",
    "Likewise, instead of returning only the derivative $y'$, we return an array of derivative values, one for each ODE in our system of ODEs (here: `[N', G']`).\n"
   ]
  },
  {
   "cell_type": "markdown",
   "metadata": {
    "slideshow": {
     "slide_type": "slide"
    }
   },
   "source": [
    "---\n",
    "**Exercise:**\n",
    "\n",
    "1. Define a vectorized ODE function with call signature `f(t, y)`, where `t` is an array of evaluation (time) points values and `y` an array of function values. \n",
    " The length of array `y` will correspond to the number of ODEs ($k$) in the coupled system.\n",
    " The ODE defining function should return an array `y_p` of same length as `y`.\n",
    "\n",
    "2. Adapt your implementation of the Euler method to be able to work with this vectorized ODE function. \n",
    "   The initial value argument `y_0` will now take an array of $k$ initial values, one for each of the ODEs. The solver function should return an array that contains the solution of all $k$ ODEs at all $n$ integration steps.\n",
    "   \n",
    "3. Solve for $N(t)$ and $G(t)$ using initial values $G_0=1$, $N_0=100$ and parameter $r=0.3$ between $t=0$ and $t=20$.\n",
    " \n",
    "4. Plot your results and compare to the result of the previous solution approach, and the analytic solution:\n",
    "\n",
    "    $$N(t)=N_0e^{-\\frac{G_0}{r}(e^{-r\\,t} -1)}$$\n",
    "5. Find a suitable integration stepsize.\n",
    "\n",
    "6. Verify that the system reaches its carrying capacity $K$ for $t\\to+\\infty$ and that your solution fulfills the following relation:\n",
    "\n",
    "    $$N_0e^{\\frac{G_0}{r}}=K$$\n",
    "---"
   ]
  },
  {
   "cell_type": "code",
   "execution_count": null,
   "metadata": {
    "code_folding": [
     11
    ],
    "slideshow": {
     "slide_type": "fragment"
    }
   },
   "outputs": [],
   "source": [
    "# identify y[0] with N and y[1] with G\n",
    "def gompertz_coupled_ode(t, y):\n",
    "    r = 0.3\n",
    "    y_p = np.zeros(y.shape)\n",
    "    y_p[0] = y[0] * y[1]\n",
    "    y_p[1] = -r*y[1]\n",
    "    return y_p\n",
    "\n",
    "def solve_euler_ndim(f, t, y_0):\n",
    "    y = np.zeros((len(y_0),len(t)))\n",
    "    y[:,0] = y_0\n",
    "    for i in range(0, len(t)-1):\n",
    "        y[:,i+1] = y[:,i] + (t[i+1]-t[i]) * f(t[i], y[:,i])\n",
    "    return y\n",
    "\n",
    "# initial values\n",
    "G0 = 1\n",
    "N0 = 100\n",
    "# time\n",
    "t_coupled_ode = np.arange(0, 20, 0.1)\n",
    "\n",
    "y_numeric_coupled_ode = solve_euler_ndim(gompertz_coupled_ode, t_coupled_ode, y_0=np.array([N0,G0]))\n",
    "#y_numeric_coupled_ode"
   ]
  },
  {
   "cell_type": "code",
   "execution_count": null,
   "metadata": {
    "code_folding": [],
    "slideshow": {
     "slide_type": "fragment"
    }
   },
   "outputs": [],
   "source": [
    "# plotting\n",
    "r=0.3\n",
    "analytic = N0*np.exp(-G0/r * (np.exp(-r*t_coupled_ode)-1))\n",
    "K = np.exp(G0/r)*N0\n",
    "\n",
    "fig, axes = plt.subplots(2, 1, figsize=(10,8), sharex=True)\n",
    "\n",
    "axes[0].plot(t_coupled_ode, y_numeric_coupled_ode[0,:], 'g', label='N(t) - coupled ODE')\n",
    "axes[0].plot(t_single_ode, y_numeric_single_ode, 'b', label='N(t) - single ODE')\n",
    "axes[0].plot(t_single_ode, analytic, 'k--', label='N(t) - analytic')\n",
    "axes[0].axhline(y=K, color='r', linestyle=':', label='expected carrying capacity')\n",
    "axes[0].set_xlabel(\"t\")\n",
    "axes[0].set_ylabel(\"N(t)\")\n",
    "axes[0].legend()\n",
    "\n",
    "axes[1].plot(t_coupled_ode, y_numeric_coupled_ode[1,:], 'm', label='G(t) - coupled ODE')\n",
    "axes[1].set_xlabel(\"t\")\n",
    "axes[1].set_ylabel(\"G(t)\")\n",
    "axes[1].legend()\n",
    "plt.show()"
   ]
  },
  {
   "cell_type": "markdown",
   "metadata": {
    "slideshow": {
     "slide_type": "slide"
    }
   },
   "source": [
    "## Solve Systems of Coupled ODEs with `scipy.integrate.solve_ivp`"
   ]
  },
  {
   "cell_type": "markdown",
   "metadata": {
    "slideshow": {
     "slide_type": "fragment"
    }
   },
   "source": [
    "`solve_ivp` solves coupled systems *by default*, and always expects an array of initial values `y0` as input.\n",
    "\n",
    "Applied to the Gompertz model:\n"
   ]
  },
  {
   "cell_type": "code",
   "execution_count": null,
   "metadata": {
    "code_folding": [],
    "slideshow": {
     "slide_type": "fragment"
    }
   },
   "outputs": [],
   "source": [
    "from scipy.integrate import solve_ivp\n",
    "\n",
    "# as in 1.2\n",
    "def gompertz_coupled_ode(t, y):\n",
    "    r = 0.3\n",
    "    y_p = np.zeros(y.shape)\n",
    "    y_p[0] = y[0] * y[1]\n",
    "    y_p[1] = -r*y[1]\n",
    "    return y_p\n",
    "\n",
    "# initial values\n",
    "G0 = 1\n",
    "N0 = 100\n",
    "# time\n",
    "t_0 = 0\n",
    "t_N = 20\n",
    "\n",
    "sol = solve_ivp(fun=gompertz_coupled_ode, \n",
    "                t_span=[t_0, t_N], y0=[N0, G0], \n",
    "                rtol=1E-6)   "
   ]
  },
  {
   "cell_type": "code",
   "execution_count": null,
   "metadata": {
    "code_folding": [],
    "slideshow": {
     "slide_type": "fragment"
    }
   },
   "outputs": [],
   "source": [
    "# plotting\n",
    "r=0.3\n",
    "analytic = N0*np.exp(-G0/r * (np.exp(-r*t_coupled_ode)-1))\n",
    "K = np.exp(G0/r)*N0\n",
    "\n",
    "fig, axes = plt.subplots(2, 1, figsize=(10,8), sharex=True)\n",
    "\n",
    "axes[0].plot(sol.t, sol.y[0,:], 'g', label='N(t) - coupled ODE (solve_ivp)')\n",
    "axes[0].plot(t_coupled_ode, analytic, 'k--', label='N(t) - analytic')\n",
    "axes[0].axhline(y=K, color='r', linestyle=':', label='expected carrying capacity')\n",
    "\n",
    "axes[0].set_xlabel(\"t\")\n",
    "axes[0].set_ylabel(\"N(t)\")\n",
    "axes[0].legend()\n",
    "\n",
    "axes[1].plot(sol.t, sol.y[1,:], 'm', label='G(t) - coupled ODE')\n",
    "axes[1].set_xlabel(\"t\")\n",
    "axes[1].set_ylabel(\"G(t)\")\n",
    "axes[1].legend()\n",
    "plt.show()"
   ]
  },
  {
   "cell_type": "markdown",
   "metadata": {},
   "source": [
    "###### About \n",
    "This notebook is part of the *biosci670* course on *Mathematical Modeling and Methods for Biomedical Science*.\n",
    "See https://github.com/cohmathonc/biosci670 for more information and material."
   ]
  }
 ],
 "metadata": {
  "celltoolbar": "Slideshow",
  "kernelspec": {
   "display_name": "Python 3",
   "language": "python",
   "name": "python3"
  },
  "language_info": {
   "codemirror_mode": {
    "name": "ipython",
    "version": 3
   },
   "file_extension": ".py",
   "mimetype": "text/x-python",
   "name": "python",
   "nbconvert_exporter": "python",
   "pygments_lexer": "ipython3",
   "version": "3.6.8"
  },
  "toc": {
   "base_numbering": 1,
   "nav_menu": {},
   "number_sections": true,
   "sideBar": true,
   "skip_h1_title": false,
   "title_cell": "Table of Contents",
   "title_sidebar": "Contents",
   "toc_cell": false,
   "toc_position": {
    "height": "calc(100% - 180px)",
    "left": "10px",
    "top": "150px",
    "width": "316.4705810546875px"
   },
   "toc_section_display": true,
   "toc_window_display": true
  }
 },
 "nbformat": 4,
 "nbformat_minor": 2
}
