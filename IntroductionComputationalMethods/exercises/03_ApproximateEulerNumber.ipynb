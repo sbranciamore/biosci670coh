{
 "cells": [
  {
   "cell_type": "markdown",
   "metadata": {},
   "source": [
    "<a href=\"https://colab.research.google.com/github/cohmathonc/biosci670/blob/master/IntroductionComputationalMethods/exercises/03_ApproximateEulerNumber.ipynb\" target=\"_parent\"><img src=\"https://colab.research.google.com/assets/colab-badge.svg\" alt=\"Open In Colab\"/></a>"
   ]
  },
  {
   "cell_type": "markdown",
   "metadata": {
    "colab_type": "text",
    "id": "B3AO3vaCDqRy"
   },
   "source": [
    "# Approximation of Euler Number"
   ]
  },
  {
   "cell_type": "markdown",
   "metadata": {
    "colab_type": "text",
    "id": "MesPZ18epOHI"
   },
   "source": [
    "In this exercise, you will explore the effect of working with different numeric types on the precision of your results and visualize results using `matplotlib`.\n"
   ]
  },
  {
   "cell_type": "markdown",
   "metadata": {
    "colab_type": "text",
    "id": "Vk0r6t8kFQZO"
   },
   "source": [
    "[Euler's number](https://en.wikipedia.org/wiki/E_(mathematical_constant)) *e* can be calculated as the sum of the infinte series \n",
    "\n",
    "$$e=\\sum_{n=0}^\\infty\\frac{1}{n\\,!}\\; .$$\n",
    "\n",
    "---\n",
    "**Exercise:**\n",
    "1. Approximate Euler's number for different $n$ between $n=0\\ldots30$ using above formula.\n",
    "   \n",
    "   You can use [`scipy.special.factorial`](https://docs.scipy.org/doc/scipy/reference/generated/scipy.special.factorial.html#scipy.special.factorial) to compute the factorial.\n",
    "  - Compare your approximation for each $n$ with `np.e` by computing the 'error' as the absolute difference between your approximation and `np.e`.\n",
    "  - What is the 'error'? What is your 'best' estimate of $e$.\n",
    "\n",
    "\n",
    "2. Plot your results: \n",
    "  - Plot the result of your approximation (y-axis) against $n$ (x-axis).\n",
    "  - Plot the error (y-axis) against $n$ (x-axis). You may want to use a [logarithmic y-axis](https://matplotlib.org/api/_as_gen/matplotlib.pyplot.semilogy.html#matplotlib.pyplot.semilogy).\n",
    "\n",
    "\n",
    "3. Compare data type precision with error.\n",
    "  - Get the precision of the data type that you are using for computation.\n",
    "    If you are using `numpy` and have not specified the numeric type explicitly, this will be `np.float64`.\n",
    "  - Use  [`finfo`](https://docs.scipy.org/doc/numpy/reference/generated/numpy.finfo.html#numpy-finfo) to obtain the smallest representable positive number with this data type, e.g. `np.finfo(np.float64).eps`\n",
    "  - Compare this *eps* number to the 'error' in your approximation of $e$ for $n>20$.\n",
    "  - Add a horizontal line to your 'error' plot that indicates this *eps* number using [plt.axhline](https://matplotlib.org/api/_as_gen/matplotlib.pyplot.axhline.html).\n",
    "  \n",
    "  \n",
    "4. Compare with the error for 32-bit approximation\n",
    "  - Limit the precision of your approximation to 32-bit and compute error.\n",
    "      \n",
    "    *Note:*\n",
    "    \n",
    "    We don't have full control over the numerical precision used by the [factorial](https://docs.scipy.org/doc/scipy/reference/generated/scipy.special.factorial.html#scipy.special.factorial).\n",
    "    Therefore, simply reduce the precision of the $e$ estimates to 32-bit before computing the error between estimated and reference $e$.\n",
    "    You can do this by \n",
    "    ```\n",
    "    value_e_32 = np.array(value_e, dtype=np.float32)\n",
    "    ```\n",
    "    assuming that `value_e` is a list or numpy array containing your estimates of $e$.\n",
    "\n",
    "  - Replot. As before, include the precision of the `np.float32` data type in your plot.\n",
    "\n",
    "\n",
    "---"
   ]
  },
  {
   "cell_type": "markdown",
   "metadata": {},
   "source": [
    "##### About \n",
    "This notebook is part of the *biosci670* course on *Mathematical Modeling and Methods for Biomedical Science*.\n",
    "See https://github.com/cohmathonc/biosci670 for more information and material."
   ]
  }
 ],
 "metadata": {
  "colab": {
   "collapsed_sections": [],
   "name": "approximate_euler_number_solution.ipynb",
   "provenance": [],
   "toc_visible": true,
   "version": "0.3.2"
  },
  "kernelspec": {
   "display_name": "Python 3",
   "language": "python",
   "name": "python3"
  },
  "language_info": {
   "codemirror_mode": {
    "name": "ipython",
    "version": 3
   },
   "file_extension": ".py",
   "mimetype": "text/x-python",
   "name": "python",
   "nbconvert_exporter": "python",
   "pygments_lexer": "ipython3",
   "version": "3.6.8"
  },
  "toc": {
   "base_numbering": 1,
   "nav_menu": {},
   "number_sections": true,
   "sideBar": true,
   "skip_h1_title": false,
   "title_cell": "Table of Contents",
   "title_sidebar": "Contents",
   "toc_cell": false,
   "toc_position": {},
   "toc_section_display": true,
   "toc_window_display": false
  }
 },
 "nbformat": 4,
 "nbformat_minor": 1
}
