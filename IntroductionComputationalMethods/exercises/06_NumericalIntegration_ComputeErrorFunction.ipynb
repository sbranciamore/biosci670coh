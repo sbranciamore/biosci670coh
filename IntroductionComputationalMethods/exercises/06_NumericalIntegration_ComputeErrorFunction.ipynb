{
 "cells": [
  {
   "cell_type": "markdown",
   "metadata": {},
   "source": [
    "<a href=\"https://colab.research.google.com/github/cohmathonc/biosci670/blob/master/IntroductionComputationalMethods/exercises/06_NumericalIntegration_ComputeErrorFunction.ipynb\" target=\"_parent\"><img src=\"https://colab.research.google.com/assets/colab-badge.svg\" alt=\"Open In Colab\"/></a>"
   ]
  },
  {
   "cell_type": "code",
   "execution_count": null,
   "metadata": {
    "colab": {},
    "colab_type": "code",
    "id": "c6K7JlJf5ndD"
   },
   "outputs": [],
   "source": [
    "import numpy as np\n",
    "import matplotlib.pylab as plt\n",
    "import pandas as pd"
   ]
  },
  {
   "cell_type": "markdown",
   "metadata": {
    "colab_type": "text",
    "id": "UqivxHm6BTYD"
   },
   "source": [
    "# Compute Error Function"
   ]
  },
  {
   "cell_type": "markdown",
   "metadata": {
    "colab_type": "text",
    "id": "l9DwM4BrB81D"
   },
   "source": [
    "There is no elementary function for the indefinite integral (antiderivative) of the *Gaussian function* $e^{-x^2}$:\n",
    "$$\\int e^{-x^2}\\, dx\\, \\tag{1a} .$$\n",
    "However, the definite integral of the Gaussian function over the entire real line can be evaluated:\n",
    "$$\\int_{-\\infty}^{\\infty} e^{-x^2}\\, dx = \\sqrt{\\pi}\\, \\tag{1c}.$$\n",
    "\n",
    "The definite integral of the Gaussian function over the integral $[-x, x]$ (with a normalization factor) is called the *error function*:\n",
    "$$\\text{erf}(x) = \\frac{1}{\\sqrt{\\pi}} \\int_{-x}^{x}e^{-t^2}\\, dt\\tag{1c}$$\n",
    "\n",
    "The error function is the cumulative distribution function of the normal distribution.\n",
    "For a normally (Gaussian) distributed random variable $Y$ with mean 0 and variance $\\sigma^2=1/2$, the error function (1c) describes the probability that $Y$ falls within the range $[-x, x]$.\n",
    "    \n",
    "    \n",
    "1. Define a function that computes the *Gaussian function* (1a) for a given $x$. Plot the function in the interval $[-3,3]$.\n",
    "\n",
    "\n",
    "2. Compute $\\text{erf}(1)$ using numerical integration. Plot the approximation error (in function of integration stepsize) for the quadrature functions  `scipy.integrate.trapz` and `scipy.integrate.simps`. Use the `math.erf` function as reference. \n",
    "\n",
    "    Which of both quadratures converges more quickly to the true value $\\text{erf}(1)$?\n",
    "\n",
    "\n",
    "3. Plot the error function in the interval $[-3, 3]$.\n",
    "    \n",
    "    *Hint:* You may want to use `scipy.integrate.cumtrapz`.\n",
    "    \n",
    "    \n",
    "4. Compute the probability that the value of a normally distributed variable $Y$ with mean 0 and variance $\\sigma^2=1/2$ falls within 1, 2 and 3 standard deviations $\\sigma$. \n"
   ]
  },
  {
   "cell_type": "markdown",
   "metadata": {},
   "source": [
    "##### About \n",
    "This notebook is part of the *biosci670* course on *Mathematical Modeling and Methods for Biomedical Science*.\n",
    "See https://github.com/cohmathonc/biosci670 for more information and material."
   ]
  }
 ],
 "metadata": {
  "colab": {
   "collapsed_sections": [
    "plodr4Y9Ap9m",
    "UqivxHm6BTYD",
    "KBQMIVtEXzK7",
    "iJ6aUbHTX7MZ",
    "oeTie8JMdDIh",
    "HtGP0DxWdrll",
    "5MjsT-4-uA5j",
    "tV62FaWs7wKE"
   ],
   "name": "CompMethods_Assignments.ipynb",
   "provenance": [],
   "version": "0.3.2"
  },
  "kernelspec": {
   "display_name": "Python 3",
   "language": "python",
   "name": "python3"
  },
  "language_info": {
   "codemirror_mode": {
    "name": "ipython",
    "version": 3
   },
   "file_extension": ".py",
   "mimetype": "text/x-python",
   "name": "python",
   "nbconvert_exporter": "python",
   "pygments_lexer": "ipython3",
   "version": "3.6.8"
  },
  "toc": {
   "base_numbering": 1,
   "nav_menu": {},
   "number_sections": true,
   "sideBar": true,
   "skip_h1_title": false,
   "title_cell": "Table of Contents",
   "title_sidebar": "Contents",
   "toc_cell": false,
   "toc_position": {},
   "toc_section_display": true,
   "toc_window_display": false
  }
 },
 "nbformat": 4,
 "nbformat_minor": 1
}
