{
 "cells": [
  {
   "cell_type": "markdown",
   "metadata": {},
   "source": [
    "<a href=\"https://colab.research.google.com/github/cohmathonc/biosci670/blob/master/IntroductionComputationalMethods/exercises/01_ComputingSummaryStatistics.ipynb\" target=\"_parent\"><img src=\"https://colab.research.google.com/assets/colab-badge.svg\" alt=\"Open In Colab\"/></a>"
   ]
  },
  {
   "cell_type": "markdown",
   "metadata": {},
   "source": [
    "## Computing Summary Statistics"
   ]
  },
  {
   "cell_type": "markdown",
   "metadata": {},
   "source": [
    "Given a sample of $N$ values ${X_1, X_2, \\ldots, X_N}$ of some experimentally observed quantity $X$:\n",
    "\n",
    "---\n",
    "**Exercise:**\n",
    "\n",
    "Define functions that compute:\n",
    "\n",
    "1. sample **mean** $\\bar{X}=\\frac{1}{N}\\sum_{i=1}^N X_i$, \n",
    "2. sample **variance** $\\sigma^2=\\frac{1}{N-1}\\sum_{i=1}^N \\left(X_i-\\bar{X_i}\\right)^2$,\n",
    "3. **maximum** $X_\\text{max}$ and **minimum** $X_\\text{min}$ value, and\n",
    "4. sample **median**.\n",
    "\n",
    "Having implemented all functions (1)-(4):\n",
    "5. Compare the results of your functions to those computed by the [`statistics`](https://docs.python.org/3/library/statistics.html) module from Python's standard library.\n",
    "   \n",
    "---"
   ]
  },
  {
   "cell_type": "markdown",
   "metadata": {},
   "source": [
    "*Notes*:\n",
    "\n",
    "- All functions should accept a list of numbers as single input argument and return a single number which corresponds to the computed value.\n",
    "- Don't forget to reuse functions that you have defined previously. For example, computation of the variance (2), requires evaluation of the mean. You can simply call an existing function in the definition block of another function.\n",
    "- Python provides in-built `min` and `max` functions that return the min/max value of an iterable object (list, sequence, etc). Don't use those in task (3), write your own implementation of `min()`, `max()`. Choose function names that do not collide with these built-in functions.\n",
    "-  Computation of the *median* in task (4) will require you to first sort the observed values in ascending order. Then two cases need to be distinguished:\n",
    "   - If the list contains an *odd* number of items, the median corresponds to the $(N+1)/2$-th item of the list.\n",
    "   - For an *even* number of items, the median is computed as the average of the $(N/2)$-th item and the $(N/2+1)$-th item.\n",
    "   \n",
    "    Remember that Python uses '0-based' indexing!\n",
    "- You are welcome to write your own sorting algorithm for (4), but you can also use the built-in [`sorted()`](https://docs.python.org/3/howto/sorting.html)  function:"
   ]
  },
  {
   "cell_type": "code",
   "execution_count": null,
   "metadata": {},
   "outputs": [],
   "source": [
    "a_list = [3, 1, 0, -1, 2, 4, -5, -2, 5, -4, -2]        # this is just an example list\n",
    "a_list_sorted = sorted(a_list)                         # `sorted` returns a sorted (ascending) \n",
    "                                                       # version of that list\n",
    "print(a_list)\n",
    "print(a_list_sorted)"
   ]
  },
  {
   "cell_type": "markdown",
   "metadata": {},
   "source": [
    "- You can generate 'observations' for testing your functions using a random number generator from the [`random`](https://docs.python.org/3/library/random.html) module from Python's standard library.\n",
    "  In the following example, we draw $N=100$ random numbers from a Gaussian distribution with mean $\\mu=50$ and standard deviation $\\sigma=15$:"
   ]
  },
  {
   "cell_type": "code",
   "execution_count": null,
   "metadata": {},
   "outputs": [],
   "source": [
    "import random                                          # module with random number generators\n",
    "\n",
    "N = 100\n",
    "mean_dist = 50\n",
    "std_dist  = 15\n",
    "\n",
    "observations = []                                      # an empty list\n",
    "for i in range(N):                                     # loop with N iterations -> draw N numbers\n",
    "    sample_value = random.gauss(mean_dist, std_dist)   # draw number from distribution\n",
    "    observations.append(sample_value)                  # add number to our 'observations' list\n",
    "    "
   ]
  },
  {
   "cell_type": "markdown",
   "metadata": {},
   "source": [
    "- You can report the results returned by your functions in a similar way:"
   ]
  },
  {
   "cell_type": "code",
   "execution_count": null,
   "metadata": {},
   "outputs": [],
   "source": [
    "import statistics\n",
    "\n",
    "print(\"mean:     %.4f\"% statistics.mean(observations))\n",
    "print(\"variance: %.4f\"% statistics.variance(observations))\n",
    "print(\"median:   %.4f\"% statistics.median(observations))\n",
    "print(\"min:      %.4f\"% min(observations))\n",
    "print(\"max:      %.4f\"% max(observations))"
   ]
  },
  {
   "cell_type": "markdown",
   "metadata": {
    "heading_collapsed": true
   },
   "source": [
    "###### About \n",
    "This notebook is part of the *biosci670* course on *Mathematical Modeling and Methods for Biomedical Science*.\n",
    "See https://github.com/cohmathonc/biosci670 for more information and material."
   ]
  }
 ],
 "metadata": {
  "kernelspec": {
   "display_name": "Python 3",
   "language": "python",
   "name": "python3"
  },
  "language_info": {
   "codemirror_mode": {
    "name": "ipython",
    "version": 3
   },
   "file_extension": ".py",
   "mimetype": "text/x-python",
   "name": "python",
   "nbconvert_exporter": "python",
   "pygments_lexer": "ipython3",
   "version": "3.6.8"
  },
  "toc": {
   "base_numbering": 1,
   "nav_menu": {},
   "number_sections": true,
   "sideBar": true,
   "skip_h1_title": false,
   "title_cell": "Table of Contents",
   "title_sidebar": "Contents",
   "toc_cell": false,
   "toc_position": {},
   "toc_section_display": true,
   "toc_window_display": false
  }
 },
 "nbformat": 4,
 "nbformat_minor": 2
}
