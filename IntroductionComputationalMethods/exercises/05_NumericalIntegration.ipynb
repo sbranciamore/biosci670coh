{
 "cells": [
  {
   "cell_type": "markdown",
   "metadata": {},
   "source": [
    "<a href=\"https://colab.research.google.com/github/cohmathonc/biosci670/blob/master/IntroductionComputationalMethods/exercises/05_NumericalIntegration.ipynb\" target=\"_parent\"><img src=\"https://colab.research.google.com/assets/colab-badge.svg\" alt=\"Open In Colab\"/></a>"
   ]
  },
  {
   "cell_type": "code",
   "execution_count": null,
   "metadata": {
    "colab": {},
    "colab_type": "code",
    "id": "c6K7JlJf5ndD"
   },
   "outputs": [],
   "source": [
    "import numpy as np\n",
    "import matplotlib.pylab as plt"
   ]
  },
  {
   "cell_type": "markdown",
   "metadata": {
    "colab_type": "text",
    "id": "USDaCiAT_ZuE"
   },
   "source": [
    "# Numerical Integration\n"
   ]
  },
  {
   "cell_type": "markdown",
   "metadata": {
    "colab_type": "text",
    "id": "AGvulThBAfwM"
   },
   "source": [
    "Approximate the integral $$\\int_0^{10}  (1+5x)\\, dx$$ using the trapezoidal quadrature.\n",
    "\n",
    "What is the truncation error of the trapezoidal quadrature for this function?"
   ]
  },
  {
   "cell_type": "markdown",
   "metadata": {},
   "source": [
    "##### About \n",
    "This notebook is part of the *biosci670* course on *Mathematical Modeling and Methods for Biomedical Science*.\n",
    "See https://github.com/cohmathonc/biosci670 for more information and material."
   ]
  }
 ],
 "metadata": {
  "colab": {
   "collapsed_sections": [
    "plodr4Y9Ap9m",
    "UqivxHm6BTYD",
    "KBQMIVtEXzK7",
    "iJ6aUbHTX7MZ",
    "oeTie8JMdDIh",
    "HtGP0DxWdrll",
    "5MjsT-4-uA5j",
    "tV62FaWs7wKE"
   ],
   "name": "CompMethods_Assignments.ipynb",
   "provenance": [],
   "version": "0.3.2"
  },
  "kernelspec": {
   "display_name": "Python 3",
   "language": "python",
   "name": "python3"
  },
  "language_info": {
   "codemirror_mode": {
    "name": "ipython",
    "version": 3
   },
   "file_extension": ".py",
   "mimetype": "text/x-python",
   "name": "python",
   "nbconvert_exporter": "python",
   "pygments_lexer": "ipython3",
   "version": "3.6.8"
  },
  "toc": {
   "base_numbering": 1,
   "nav_menu": {},
   "number_sections": true,
   "sideBar": true,
   "skip_h1_title": false,
   "title_cell": "Table of Contents",
   "title_sidebar": "Contents",
   "toc_cell": false,
   "toc_position": {},
   "toc_section_display": true,
   "toc_window_display": false
  }
 },
 "nbformat": 4,
 "nbformat_minor": 1
}
