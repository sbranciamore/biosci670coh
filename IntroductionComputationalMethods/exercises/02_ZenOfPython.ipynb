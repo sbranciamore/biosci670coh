{
 "cells": [
  {
   "cell_type": "markdown",
   "metadata": {},
   "source": [
    "<a href=\"https://colab.research.google.com/github/cohmathonc/biosci670/blob/master/IntroductionComputationalMethods/exercises/02_ZenOfPython.ipynb\" target=\"_parent\"><img src=\"https://colab.research.google.com/assets/colab-badge.svg\" alt=\"Open In Colab\"/></a>"
   ]
  },
  {
   "cell_type": "markdown",
   "metadata": {
    "colab_type": "text",
    "id": "gsXStGAR7XjM"
   },
   "source": [
    "# Zen of Python"
   ]
  },
  {
   "cell_type": "markdown",
   "metadata": {
    "colab_type": "text",
    "id": "dV-AiLL_7bYp"
   },
   "source": [
    "The 'Zen of Python' [easteregg](https://www.python.org/dev/peps/pep-0020/) module can be imported into the global namespace by `import this`.\n",
    "\n",
    "Any module is only imported once into an active interactive Python session. It will not be reimported. You can test this by executing the following cell twice. After the first execution, the 'Zen of Python' is shown as 'greeting message', but not after the second execution."
   ]
  },
  {
   "cell_type": "code",
   "execution_count": null,
   "metadata": {
    "colab": {},
    "colab_type": "code",
    "id": "QPPLV5js7W05"
   },
   "outputs": [],
   "source": [
    "import this"
   ]
  },
  {
   "cell_type": "markdown",
   "metadata": {
    "colab_type": "text",
    "id": "FpgmerTk8d9C"
   },
   "source": [
    "Nevetheless, you now have the `this` module in your namespace. \n",
    "Investigate the content of `this` by:"
   ]
  },
  {
   "cell_type": "code",
   "execution_count": null,
   "metadata": {
    "colab": {},
    "colab_type": "code",
    "id": "aAFmncAj7XWZ"
   },
   "outputs": [],
   "source": [
    "dir(this)"
   ]
  },
  {
   "cell_type": "markdown",
   "metadata": {
    "colab_type": "text",
    "id": "IijzAGex8od4"
   },
   "source": [
    "Elements in this list that have leading or tailing double underscores `__` are internal attributes of the module; not of interest for now.\n",
    "Inspect the other four attributes:"
   ]
  },
  {
   "cell_type": "code",
   "execution_count": null,
   "metadata": {
    "colab": {},
    "colab_type": "code",
    "id": "LH7NTQ-W8nSV"
   },
   "outputs": [],
   "source": [
    "print(\"this.c: \", this.c)\n",
    "print(\"this.d: \", this.d)\n",
    "print(\"this.i: \", this.i)\n",
    "print(\"this.s: \", this.s)"
   ]
  },
  {
   "cell_type": "markdown",
   "metadata": {
    "colab_type": "text",
    "id": "lEw2WOig9QV_"
   },
   "source": [
    "`this.s` appears to contain a long multiline string, with scrambled characters, `this.d` contains a dictionary that maps one letter to another letter. \n",
    "In fact, `this.d` provides the decoding key to recover the 'Zen of Python' from `this.s`.\n",
    "\n",
    "\n",
    "\n",
    "---\n",
    "**Exercise:**\n",
    "\n",
    "Decode `this.s` using `this.d`!\n",
    "\n",
    "---\n",
    "\n",
    "*Notes:*\n",
    "\n",
    "1. Strings behave similar to tuples, you can iterate over each character in the string.\n",
    "2. To reconstruct the original message, build a list that contains all decoded characters. \n",
    "3. You may not have sufficient information to decode each of the characters in `this.s`. To avoid errors, check whether you actually can decode a given character, i.e. whether the current character is contained in the index of the decoding dictionary before trying to use the dictionary for decoding. You can check whether a given item is in the index of a dictionary by:\n",
    "\n"
   ]
  },
  {
   "cell_type": "code",
   "execution_count": null,
   "metadata": {},
   "outputs": [],
   "source": [
    "a_dict = {'a' : 'b',\n",
    "          'b' : 'c'}\n",
    "\n",
    "print('a' in a_dict.keys())  # this returns a boolean value \n",
    "                             # -> True if 'item' in keys of dictionary 'some_dict'\n",
    "print('c' in a_dict.keys())    \n",
    "\n",
    "#print(a_dict['c'])          # You will receive a 'KeyError' when trying to access \n",
    "                             # a key that is not included in the dictionary"
   ]
  },
  {
   "cell_type": "markdown",
   "metadata": {},
   "source": [
    "4. Once you have a list of characters, you can reassemble a string from this list by:"
   ]
  },
  {
   "cell_type": "code",
   "execution_count": null,
   "metadata": {},
   "outputs": [],
   "source": [
    "a_list_of_characters = ['l','i','s','t',' ','o','f',' ','c','h','a','r','a','c','t','e','r','s']\n",
    "\n",
    "string_from_list = \"\".join(a_list_of_characters)\n",
    "\n",
    "print(a_list_of_characters)\n",
    "print(string_from_list)"
   ]
  },
  {
   "cell_type": "markdown",
   "metadata": {},
   "source": [
    "##### About \n",
    "This notebook is part of the *biosci670* course on *Mathematical Modeling and Methods for Biomedical Science*.\n",
    "See https://github.com/cohmathonc/biosci670 for more information and material."
   ]
  }
 ],
 "metadata": {
  "colab": {
   "collapsed_sections": [],
   "include_colab_link": true,
   "name": "zen_of_python.ipynb",
   "provenance": [],
   "version": "0.3.2"
  },
  "kernelspec": {
   "display_name": "Python 3",
   "language": "python",
   "name": "python3"
  },
  "language_info": {
   "codemirror_mode": {
    "name": "ipython",
    "version": 3
   },
   "file_extension": ".py",
   "mimetype": "text/x-python",
   "name": "python",
   "nbconvert_exporter": "python",
   "pygments_lexer": "ipython3",
   "version": "3.6.8"
  },
  "toc": {
   "base_numbering": 1,
   "nav_menu": {},
   "number_sections": true,
   "sideBar": true,
   "skip_h1_title": false,
   "title_cell": "Table of Contents",
   "title_sidebar": "Contents",
   "toc_cell": false,
   "toc_position": {},
   "toc_section_display": true,
   "toc_window_display": false
  }
 },
 "nbformat": 4,
 "nbformat_minor": 2
}
