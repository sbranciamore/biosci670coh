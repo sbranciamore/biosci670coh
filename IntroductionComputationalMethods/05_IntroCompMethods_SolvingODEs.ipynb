{
 "cells": [
  {
   "cell_type": "markdown",
   "metadata": {},
   "source": [
    "<a href=\"https://colab.research.google.com/github/cohmathonc/biosci670/blob/master/IntroductionComputationalMethods/05_IntroCompMethods_SolvingODEs.ipynb\" target=\"_parent\"><img src=\"https://colab.research.google.com/assets/colab-badge.svg\" alt=\"Open In Colab\"/></a>"
   ]
  },
  {
   "cell_type": "code",
   "execution_count": null,
   "metadata": {
    "colab": {},
    "colab_type": "code",
    "id": "C6ApcNN2QenU"
   },
   "outputs": [],
   "source": [
    "import numpy as np\n",
    "import matplotlib.pylab as plt\n",
    "import pandas as pd"
   ]
  },
  {
   "cell_type": "markdown",
   "metadata": {
    "colab_type": "text",
    "id": "AnO3FKrPL9gz"
   },
   "source": [
    "# Numerical Solution of ODEs"
   ]
  },
  {
   "cell_type": "markdown",
   "metadata": {
    "colab_type": "text",
    "id": "Wwq3JCL3Phvr"
   },
   "source": [
    "Consider a first order differential equation of the form\n",
    "\n",
    "$$y'=\\frac{dy}{dx}=f(x, y)\\, , \\qquad y(x=0)=y_0 \\tag{1}$$\n",
    "\n",
    "We want to find the function $y(x)$ that describes the evolution of this quantity in function of $x$.\n",
    "Let's assume the value of $y(x_0)$ at a specific point $x=x_0$ is known;  $y(x=x_0)$ is called the *initial value*.\n",
    "\n",
    "The task of finding function $y(x)$, given its derivative and initial value as in Eq. (1), is called an *initial value problem*.\n",
    "\n",
    "Recall the definition of the continuous derivative of an analytic function $f(x)$:\n",
    "\n",
    "$$y'(x_0)=\\lim_{\\Delta x\\rightarrow 0}\\frac{y(x_0+\\Delta x)-y(x_0)}{\\Delta x} =f(x_0, y)\\; . \\tag{2}$$\n"
   ]
  },
  {
   "cell_type": "markdown",
   "metadata": {
    "colab_type": "text",
    "id": "5k0ITOImMDji"
   },
   "source": [
    "## Numerical Integration Methods"
   ]
  },
  {
   "cell_type": "markdown",
   "metadata": {
    "colab_type": "text",
    "id": "Wea6F7ioPx03"
   },
   "source": [
    "We approximate Eq (2) by finite differences:\n",
    "\n",
    "$$y'(x)\\approx \\frac{y(x_0+\\Delta x)-y(x_0)}{\\Delta x} =f(x_0, y)\\; , \\tag{3}$$\n",
    "\n",
    "which allows us to express $y$ at a neighbouring point $x=x_0+\\Delta x$ in terms of its value at the current position $x_0$ and its derivative at this point:\n",
    "\n",
    "$$y(x_0+\\Delta x) = y(x_0) + y'(x)\\, \\Delta x = y(x_0) + f(x_0, y(x_0))\\, \\Delta x  \\tag{4} \\, .$$\n",
    "\n",
    "We can make the following geometric analogy:\n",
    "\n",
    "Consider the problem of calculating the shape of a curve $y(x)$ which starts at a given point $y(x_0)$and satisfies the differential equation (1). \n",
    "The differential equation can be thought of as a formula that describes the slope of the tangent line to the curve $y$ at any point $x_i$, provided that the position of that point on the curve $y(x_i)$ is known.\n",
    "Given a starting point $x_0$, we can compute the next point on the curve $y(x_0 + \\Delta x)=y(x_1)$ using Eq. (4). This procedure can be repeated until the end of the domain is reached.\n",
    "\n",
    "\n",
    "In this course we are mainly interested in the **time**-evolution of biological systems.\n",
    "Therefore, for our purpose, the variable $x$ in (1) and (2) will be time $t$ so that (4) becomes:\n",
    "\n",
    "$$y(t_0+\\Delta t) = y(t_0) + y'(t)\\, \\Delta t = y(t_0) + f(t_0, y(t_0))\\, \\Delta t  \\tag{5} \\, .$$\n",
    "\n"
   ]
  },
  {
   "cell_type": "markdown",
   "metadata": {
    "colab_type": "text",
    "id": "2es9tv3tMR64"
   },
   "source": [
    "### Euler Method (explicit)"
   ]
  },
  {
   "cell_type": "markdown",
   "metadata": {
    "colab_type": "text",
    "id": "TOt9hEoWF5Vh"
   },
   "source": [
    "Assume that we wish to approximate the unknown function $y(t)$ in the interval $[t_{\\text{min}}, t_\\text{max}]$ which is discretized into $N$ subintervals with $t_{\\text{min}}=t_0 < t_1 < t_2 < \\ldots <t_{N-1} < t_{N} =t_{\\text{max}}$. \n",
    "We define the *step size* between subsequent points as $\\Delta_i = t_{i+1}-t_i$,and\n",
    "write Eq. (4) as a *recursive* scheme:\n",
    "\n",
    "$$ y_{i+1} = y_i + \\Delta_i\\, f(t_i, y_i) \\tag{5}$$\n",
    "\n",
    "This is called the **Euler method**. \n",
    "The Euler method is an *explicit* integration method because any $y_{i+1}$ is an explicit function of the 'previous' $y_i$ for $i\\leq N-1$:\n",
    "\n",
    "\\begin{align}\n",
    "y_1 &= y_0 + \\Delta_0 \\, f(t_0, y_0) \\\\\n",
    "y_2 &= y_1 + \\Delta_1 \\, f(t_1, y_1) \\\\\n",
    "& \\dots \\\\\n",
    "y_{N-1} &= y_{N-2} + \\Delta_{N-2} \\, f(t_{N-2}, y_{N-2}) \\\\\n",
    "y_{N} &= y_{N-1} + \\Delta_{N-1} \\, f(t_{N-1}, y_{N-1}) \\\\\n",
    "\\end{align}\n",
    "\n",
    "If the evaluation points are spaced equally, $\\Delta_i = \\Delta = \\left| t_{\\text{max}}-t_\\text{min}\\right|/N$.\n"
   ]
  },
  {
   "cell_type": "markdown",
   "metadata": {},
   "source": [
    "The following example illustrates how this method approximates $y(t)$."
   ]
  },
  {
   "cell_type": "code",
   "execution_count": null,
   "metadata": {
    "code_folding": []
   },
   "outputs": [],
   "source": [
    "#=================================================\n",
    "# Approximate function using Euler's method\n",
    "#\n",
    "# Explore effect of varying 'delta_t'\n",
    "#=================================================\n",
    "delta_t = 0.2\n",
    "t_0 = 0\n",
    "y_0 = 1\n",
    "\n",
    "\n",
    "# function defs & preparation\n",
    "from cycler import cycler\n",
    "colors = ['#1f77b4', '#ff7f0e', '#2ca02c', '#d62728',\n",
    "          '#9467bd', '#8c564b', '#e377c2', '#7f7f7f',\n",
    "          '#bcbd22', '#17becf']\n",
    "color_cyler = cycler(color=colors)\n",
    "\n",
    "def f_y(y_0, t):\n",
    "    return y_0*np.exp(2*t)\n",
    "    \n",
    "def f_yp(y, t):\n",
    "    return 2*y\n",
    "\n",
    "def plot_deriv(ax, x, y, yp, delta_x=0.1, **kwargs):\n",
    "    x_plot = np.array([x, x+delta_x])\n",
    "    y_plot = np.array([y, y+yp*delta_x])\n",
    "    ax.plot(x_plot[1], y_plot[1], '.k')\n",
    "    ax.plot(x_plot, y_plot, linestyle = '--', **kwargs)\n",
    "    \n",
    "cm = plt.get_cmap('viridis_r')\n",
    "n_steps = int(1/delta_t)\n",
    "cgen = (cm(1.*i/n_steps) for i in range(n_steps))\n",
    "color_cyler = cycler(color=cgen)\n",
    "\n",
    "# plot (unknown) function\n",
    "t = np.arange(t_0,1,0.05)\n",
    "y = f_y(y_0, t)\n",
    "fig = plt.figure(figsize=(12,8))\n",
    "ax = fig.add_subplot(111) \n",
    "ax.plot(t, y, ':', label='y (unknown)')\n",
    "\n",
    "# plot approximation\n",
    "t_i = t_0\n",
    "y_i = y_0\n",
    "ax.plot(t_i, y_i, 'sk', label=\"y(t=%.2f)\"%t_i)\n",
    "for i, kwargs in zip(range(1,n_steps), color_cyler):\n",
    "    plot_deriv(ax, t_i, y_i, f_yp(y_i, t_i), delta_x=delta_t, **kwargs)\n",
    "    t_next = t_i + delta_t\n",
    "    y_next = y_i + delta_t*f_yp(y_i, t_i)\n",
    "    ax.plot(t_next, y_next, marker='s', **kwargs)\n",
    "    t_i = t_next\n",
    "    y_i = y_next\n",
    "ax.legend()   "
   ]
  },
  {
   "cell_type": "markdown",
   "metadata": {
    "colab_type": "text",
    "id": "RE_L0QFEQ-YX"
   },
   "source": [
    "\n",
    "\n",
    "---\n",
    "**Exercise (1):**\n",
    "\n",
    "1. Write a function that computes: \n",
    "  $$\\frac{d y(t)}{d t} = f(t,y)= y\\, t\\, .$$\n",
    "\n",
    "2. Write a function that implements the Euler Method.\n",
    "  This function should accept the following arguments:\n",
    "\n",
    "  - *f* : a function that computes $\\frac{dy}{dt}$ in function of $y$ and $t$, i.e. $f(t,y)$ above. \n",
    "  - *t*: array of points (evaluation time points) at which y(t) should be estimated\n",
    "  - *y_0*: initial value at $t=0$ \n",
    "  \n",
    "---\n"
   ]
  },
  {
   "cell_type": "code",
   "execution_count": null,
   "metadata": {
    "colab": {},
    "colab_type": "code",
    "id": "Z9U_qZkCRHis"
   },
   "outputs": [],
   "source": [
    "def dydt(t, y):\n",
    "  \"\"\"  \n",
    "  Args:\n",
    "    - t: scalar, usually time\n",
    "    - y: scalar, function value\n",
    "    \n",
    "  Returns:\n",
    "    - scalar, derivative dy/dt of (unknown) function y(t)\n",
    "  \"\"\"\n",
    "  return y*t\n",
    "\n",
    "def solve_euler(f, t, y_0):\n",
    "  \"\"\"\n",
    "  Uses explicit euler method to solve ODE: y'=f(t, y) \n",
    "  with initial value y(t_0)=y_0.\n",
    "  \n",
    "  Args:\n",
    "    - f: Function object that computes y', expected signature f(t, y), \n",
    "         where t is evaluation point and y is function value\n",
    "    - t: array of evaluation points\n",
    "    - y_0: initial value, i.e. y(t[0])\n",
    "  \n",
    "  Returns:\n",
    "    - array containing approximated function values y(t[i]) \n",
    "  \"\"\"\n",
    "  y = np.zeros_like(t)\n",
    "  y[0] = y_0\n",
    "  for i in range(0, len(t)-1):\n",
    "    y[i+1] = y[i] + (t[i+1]-t[i]) * f(t[i],y[i])\n",
    "  return y\n"
   ]
  },
  {
   "cell_type": "markdown",
   "metadata": {
    "colab_type": "text",
    "id": "ahG8ptNvT0CW"
   },
   "source": [
    "\n",
    "---\n",
    "**Exercise (2):**\n",
    "\n",
    "1. Use this function to solve \n",
    "$$\\frac{dy}{dt}=r\\, y \\qquad y(t_0=0)=y_0=0$$\n",
    "in the interval $t\\in [0, 10]$, with constant $r=0.5$.\n",
    "\n",
    "2. Compare your approximate solutions to the analytic solution for different choices of integration step size:\n",
    "$$y(t) = y_0\\,  e^{r\\, t}$$\n",
    "\n",
    "  What step size do you need for a good approximation?\n",
    "  \n",
    "3. Solve above equation for $r=-2.5$ and compare to analytic solution. What  do you observe at large step sizes $\\Delta t \\gtrapprox 0.5$.\n",
    "\n",
    "\n",
    "\n",
    "---\n",
    "\n",
    "*Note regarding function arguments*:\n",
    "\n",
    "The ODE in above example describes an *autonomous system*:\n",
    "$$\\frac{d y }{dt} = f(y(t), t) = f(y(t))$$\n",
    "that does not explicitly depend on the independent variable, time in this case.\n",
    "\n",
    "The computational function `f()` for computing the value $\\frac{dy}{dt}$ for a given $y$ therefore does not require $t$ as an argument.\n",
    "However, the implementation of the ODE solver function should be sufficiently generic so that it can be applied to autonomous as well as non-autonomous (with time dependency) systems.\n",
    "\n",
    "Standard ODE solvers therefore expect the function `f()` that computes the derivative  to accept two arguments, the current (estimated) value $y_i$ and the current time $t$. \n",
    "Different conventions exist for the order in which those arguments are expected, either `f(y, t)` or `f(t, y)` respectively.\n",
    "The order and type of the arguments of a function is called the *signature* of the function.\n",
    "We use the second option `f(t, y)` throughout this notebook, i.e. a function signature that has time as first argument, and function values as second argument.\n",
    "Also, we will include both arguments even when describing an autonomous system.\n"
   ]
  },
  {
   "cell_type": "code",
   "execution_count": null,
   "metadata": {
    "colab": {
     "base_uri": "https://localhost:8080/",
     "height": 378
    },
    "colab_type": "code",
    "executionInfo": {
     "elapsed": 1628,
     "status": "ok",
     "timestamp": 1549215932914,
     "user": {
      "displayName": "Daniel Abler",
      "photoUrl": "https://lh3.googleusercontent.com/-ejq0pqDW5hc/AAAAAAAAAAI/AAAAAAAAAAA/cpoZe-bw31c/s64/photo.jpg",
      "userId": "17487189290692389587"
     },
     "user_tz": 480
    },
    "id": "BrmB62XwQkbS",
    "outputId": "e2767b61-8924-4114-d1ef-f196bd9f280d"
   },
   "outputs": [],
   "source": [
    "# define functions\n",
    "def dydt_1(t, y):\n",
    "  return 0.5*y\n",
    "\n",
    "# analytic:\n",
    "def fun_an_1(t, y_0):\n",
    "  return y_0*np.exp(0.5*t)\n",
    "\n",
    "\n",
    "# define functions\n",
    "def dydt_2(t, y):\n",
    "  return -2.5*y\n",
    "\n",
    "# analytic:\n",
    "def fun_an_2(t, y_0):\n",
    "  return y_0*np.exp(-2.5*t)\n",
    "\n",
    "\n",
    "# domain bounds\n",
    "t_0 = 0\n",
    "t_N = 10\n",
    "\n",
    "# initial value\n",
    "y_0 = 1\n",
    "\n",
    "# create time data for numeric approximation\n",
    "n_steps = 15\n",
    "t = np.linspace(t_0, t_N, n_steps)\n",
    "step_size = (t_N-t_0)/n_steps\n",
    "#print(\"step size: \",step_size)\n",
    "\n",
    "# solve ODE\n",
    "y_1 = solve_euler(f=dydt_1, t=t, y_0=y_0)\n",
    "y_2 = solve_euler(f=dydt_2, t=t, y_0=y_0)\n",
    "\n",
    "# create data for analytic function on fine grid\n",
    "t_an = np.linspace(t_0, t_N, 100)\n",
    "y_an_1 = fun_an_1(t_an, y_0)\n",
    "y_an_2 = fun_an_2(t_an, y_0)\n",
    "\n",
    "# plot\n",
    "fig, axes= plt.subplots(1, 2, figsize=plt.figaspect(0.3))\n",
    "axes[0].plot(t, y_1, label='numeric approximation of $y(t)$')\n",
    "axes[0].plot(t_an, y_an_1, label='y(t)')\n",
    "axes[0].set_ylabel(\"y(t)\")\n",
    "axes[0].set_xlabel(\"t\")\n",
    "axes[0].set_title(\"function (1): $r=0.5$; stepsize $\\Delta t = %.2f$\"%step_size)\n",
    "axes[0].legend()\n",
    "\n",
    "axes[1].plot(t, y_2, label='numeric approximation of $y(t)$')\n",
    "axes[1].plot(t_an, y_an_2, label='y(t)')\n",
    "axes[1].set_ylabel(\"y(t)\")\n",
    "axes[1].set_xlabel(\"t\")\n",
    "axes[1].set_title(\"function (2): $r=-2.5$; stepsize $\\Delta t = %.2f$\"%step_size)\n",
    "axes[1].legend()\n",
    "\n",
    "plt.show()"
   ]
  },
  {
   "cell_type": "markdown",
   "metadata": {
    "colab_type": "text",
    "id": "c6M80mwVTms3"
   },
   "source": [
    "In the first of above examples ($r=0.5$), we noticed that the numeric approximation underestimates the values of the actual function $y(t)$ for stepsizes $\\Delta t \\gtrapprox 0.01$.\n",
    "In the second example ($r=-2.5$), we saw that for step sizes $\\Delta t \\gtrapprox 0.5$, the numeric approximation may become *unstable*, assuming very large values or oscillating around the actual function value.\n",
    "\n",
    "To ensure convergence with the explicit Euler method, very small stepsizes must be used. Oscillating function values can be numeric artefacts and a sign of numeric instability!\n",
    "\n",
    "\n"
   ]
  },
  {
   "cell_type": "markdown",
   "metadata": {
    "colab_type": "text",
    "id": "XaaQFOf_YdUZ"
   },
   "source": [
    "#### Error and Convergence"
   ]
  },
  {
   "cell_type": "markdown",
   "metadata": {
    "colab_type": "text",
    "id": "8ixBeeGTYw4t"
   },
   "source": [
    "The Euler method is an iterative method. In each iteration step, it estimates the function value $y_i$ using a finite difference approximation, Eq. (4), that involves previous (estimated) values $y_{i-1}$.\n",
    "As we have discussed in the notebook on [numeric derivatives](https://github.com/cohmathonc/biosci670/blob/master/IntroductionComputationalMethods/03_IntroCompMethods_NumericalDifferentiation.ipynb), this approximation involves a *truncation error* because it neglects contributions of higher function derivatives. \n",
    "\n",
    "The truncation error that is made in iteration step $i+1$, when there was no error in step $i$, is called *local truncation error* (LTE).\n",
    "To compute the LTE, we compare the Taylor expansion of $y(t+\\Delta t)$ to the iterative formula of the Euler method, Eq (5):\n",
    "\\begin{align}\n",
    " y(t_i+\\Delta t) &= y(t_i) + \\Delta t\\, y'(t_i) + \\frac{1}{2}\\Delta t^2\\, y''(\\tau) + \\mathcal{O}(\\Delta t^3) \\tag{6a}\\\\\n",
    " y_{i+1} &= y_i + \\Delta t \\underbrace{f(t_i, y_i)}_{y'} \\tag{6b}\n",
    "\\end{align}\n",
    "\n",
    "where we assume that no error has been made in previous steps, i.e. that the estimate $y_i$ is identical to the actual function value $y(t_i)$. The difference between (6a) and (6b) corresponds to the LTE:\n",
    "$$\\text{LTE}:\\qquad \\epsilon^{\\text{local}}_i = \\frac{1}{2}\\Delta t^2\\, y''(\\tau) + \\mathcal{O}(\\Delta t^3) \\tag{7}$$\n",
    "\n",
    "In an iterative method, errors accumulate with each additional step. The cumulative effect of these errors is called the *global truncation error* (GTE). The GTE is the error at a fixed time $t$ and after however many steps the method needs to take to reach this time from an initial time point $t_0$:\n",
    "$$\\text{GTE}:\\qquad \\epsilon^{\\text{global}}_i = y(t_i) - y_i$$\n",
    "\n",
    "For a given integration interval $[t_0, t_\\text{max}]$, the number of steps is proportional to $\\frac{1}{\\Delta t}$, and it can be shown that the GTE is proportional to $\\Delta t$. The Euler method is therefore a first order method.\n"
   ]
  },
  {
   "cell_type": "markdown",
   "metadata": {
    "colab_type": "text",
    "id": "DO3_yDkDgPeZ"
   },
   "source": [
    "\n",
    "---\n",
    "**Exercise (3):**\n",
    "\n",
    "Investigate the convergence behavior of the Euler method by computing the approximation error\n",
    "$$\\epsilon_i = y(t_i) - y_i$$\n",
    "- at the very first iteration ($i=1$) step to obtain an estimate of the LTE (first step, no accumulation of errors) and \n",
    "- at some later evaluation step to obtain an estimate of the GTE.\n",
    "\n",
    "Repeat this computation for multiple values of stepsize $\\Delta t$, halfing the stepsize each iteration step.\n",
    "Plot the error terms in function of stepsize $\\Delta t$ and compute the convergence order.\n",
    "\n",
    "---\n",
    "\n"
   ]
  },
  {
   "cell_type": "code",
   "execution_count": null,
   "metadata": {
    "colab": {},
    "colab_type": "code",
    "id": "OW5CNAm711O7"
   },
   "outputs": [],
   "source": [
    "# define functions for common analysis steps\n",
    "\n",
    "def compute_error(f_yt, solver, solution, t_0, t_N, y_0):\n",
    "  \"\"\"\n",
    "  Computes cumulative error between numeric approximation and analytic solution\n",
    "  to ODE.\n",
    "  \n",
    "  Args:\n",
    "    - f_yt: Function object that computes y', expected signature f(t, y), \n",
    "            where t is evaluation point and y is function value\n",
    "    - solver: ODE solver, expected signature: solver(f_yt, t, y_0)\n",
    "            where t is array of time points.\n",
    "    - solution: Function object that computes value y(t) for analytic solution.\n",
    "            Expected signature: solution(t, y_0)\n",
    "    - t_0, t_N: endpoints of integration interval\n",
    "    - y_0: initial value, i.e. y(t[0])\n",
    "    \n",
    "  Returns:\n",
    "    - pandas DataFrame containing 'lte' and 'gte' for different step sizes 'delta_t'\n",
    "  \"\"\"\n",
    "  df = pd.DataFrame()\n",
    "  for i in range(0,20):\n",
    "      n_steps = 1 * (2**i)\n",
    "      delta_t = (t_N - t_0)/n_steps\n",
    "      t = np.linspace(t_0, t_N, n_steps)\n",
    "      y_approx = solver(f_yt, t, y_0)\n",
    "      y_exact  = solution(t, y_0)\n",
    "      error_cum = np.sum(np.abs(y_exact - y_approx))/n_steps\n",
    "      # keep record of parameters\n",
    "      df.loc[i, 'n_steps'] = n_steps\n",
    "      df.loc[i, 'delta_t'] = delta_t\n",
    "      if n_steps > 2:\n",
    "          ref_step = n_steps - 1  \n",
    "          error_gte = np.abs(y_exact[ref_step] - y_approx[ref_step])  \n",
    "          df.loc[i, 'gte'] = error_gte  \n",
    "      if n_steps > 1:\n",
    "          error_lte = np.abs(y_exact[1] - y_approx[1])\n",
    "          df.loc[i, 'lte'] = error_lte\n",
    "  return df\n",
    "\n",
    "\n",
    "def plot_error(df, method):\n",
    "  \"\"\"\n",
    "  Plots cumulative error vs step size in log-log scale.\n",
    "  \n",
    "  Args:\n",
    "    - df: pandas dataframe object with columns 'delta_t', 'lte', 'gte'\n",
    "    - method: the name of the method that is being plotted\n",
    "  \"\"\"\n",
    "  fig = plt.figure(figsize=plt.figaspect(0.5))\n",
    "  ax = fig.add_subplot(111) \n",
    "\n",
    "  ax.loglog(df.delta_t.values, df.gte.values, marker='o', \n",
    "            linestyle='-', label='GTE')\n",
    "  ax.loglog(df.delta_t.values, df.lte.values, marker='o', \n",
    "            linestyle='-', label='LTE')\n",
    "  ax.set_xlabel('$\\Delta_i$')\n",
    "  ax.set_ylabel(\"absolute error\")\n",
    "  ax.set_title('Approximation Error in %s'%method)\n",
    "  ax.legend()\n",
    "  plt.show()\n",
    "  \n",
    "  \n",
    "def compute_convergence_order(eps):\n",
    "  \"\"\"\n",
    "  Computes ratio of errors steps: ratio(n) = error(n-1)/error(n)\n",
    "  \"\"\"\n",
    "  eps_shifted = np.roll(eps, shift=1)\n",
    "  eps_shifted[0] = np.nan\n",
    "  eps_ratio = eps_shifted / eps\n",
    "  convergence_order = np.log2(eps_ratio)\n",
    "  return convergence_order"
   ]
  },
  {
   "cell_type": "code",
   "execution_count": null,
   "metadata": {
    "colab": {
     "base_uri": "https://localhost:8080/",
     "height": 608
    },
    "colab_type": "code",
    "executionInfo": {
     "elapsed": 3649,
     "status": "ok",
     "timestamp": 1549215934985,
     "user": {
      "displayName": "Daniel Abler",
      "photoUrl": "https://lh3.googleusercontent.com/-ejq0pqDW5hc/AAAAAAAAAAI/AAAAAAAAAAA/cpoZe-bw31c/s64/photo.jpg",
      "userId": "17487189290692389587"
     },
     "user_tz": 480
    },
    "id": "3wWW2Zgqzz7v",
    "outputId": "a730091d-fd7d-466a-ae40-59a8cc7e76c0"
   },
   "outputs": [],
   "source": [
    "# ODE\n",
    "def dydt(t, y):\n",
    "  return y\n",
    "\n",
    "# solution analytic\n",
    "def fun_an(t, y_0):\n",
    "  return y_0*np.exp(t)\n",
    "\n",
    "# domain bounds\n",
    "t_0 = 0\n",
    "t_N = 10\n",
    "\n",
    "# initial value\n",
    "y_0 = 1\n",
    "\n",
    "# compute error for different number of integration steps\n",
    "df_euler = compute_error(dydt, solve_euler, fun_an, t_0, t_N, y_0)\n",
    "\n",
    "# plot\n",
    "plot_error(df_euler, 'euler method')\n",
    "\n",
    "# convergence order\n",
    "print(\"Convergence order of explicit Euler method (LTE) \", \n",
    "     compute_convergence_order(df_euler.lte.values))\n",
    "print(\"Convergence order of explicit Euler method (GTE) \", \n",
    "     compute_convergence_order(df_euler.gte.values))"
   ]
  },
  {
   "cell_type": "markdown",
   "metadata": {
    "colab_type": "text",
    "id": "vsAyfn8c1eSI"
   },
   "source": [
    "### Euler Method (implicit)"
   ]
  },
  {
   "cell_type": "markdown",
   "metadata": {
    "colab_type": "text",
    "id": "UnFVfk7_6bS9"
   },
   "source": [
    "Instead of formulating the Euler method as an *explicit* iterative scheme, it can also be formulated as an *implicit* method:\n",
    "$$ y_{i+1} = y_i + \\Delta_i\\, f(x_{i+1}, y_{i+1}) \\tag{8}$$\n",
    "\n",
    " where the new appproximated value $y_{i+1}$ appears on both sides of the equation.\n",
    " \n",
    " This method is more stable than the explicit Euler method, but computationally more expensive because an algebraic equation needs to be solved in each time step for the unknown $y_{i+1}$.\n",
    " Like the explicit Euler method, the implicit method is of first order.\n",
    " "
   ]
  },
  {
   "cell_type": "code",
   "execution_count": null,
   "metadata": {
    "colab": {},
    "colab_type": "code",
    "id": "eZBFxi0v5eMX"
   },
   "outputs": [],
   "source": [
    "def solve_euler_implicit(f, t, y_0):\n",
    "  \"\"\"\n",
    "  Uses implicit euler method to solve ODE: y'=f(t, y) \n",
    "  with initial value y(t_0)=y_0.\n",
    "  \n",
    "  Args:\n",
    "    - f: Function object that computes y', expected signature f(t, y), \n",
    "         where t is evaluation point and y is function value\n",
    "    - t: array of evaluation points\n",
    "    - y_0: initial value, i.e. y(t[0])\n",
    "  \n",
    "  Returns:\n",
    "    - array containing approximated function values y(t[i]) \n",
    "  \"\"\"\n",
    "  y = np.zeros_like(t)\n",
    "  y[0] = y_0\n",
    "  for i in range(0, len(t)-1):\n",
    "    delta_t = t[i+1] - t[i]\n",
    "    yp = f(t[i+1], y[i]) / (1+delta_t)\n",
    "    y[i+1] = y[i] + delta_t * yp\n",
    "  return y"
   ]
  },
  {
   "cell_type": "code",
   "execution_count": null,
   "metadata": {
    "colab": {
     "base_uri": "https://localhost:8080/",
     "height": 608
    },
    "colab_type": "code",
    "executionInfo": {
     "elapsed": 5703,
     "status": "ok",
     "timestamp": 1549215937083,
     "user": {
      "displayName": "Daniel Abler",
      "photoUrl": "https://lh3.googleusercontent.com/-ejq0pqDW5hc/AAAAAAAAAAI/AAAAAAAAAAA/cpoZe-bw31c/s64/photo.jpg",
      "userId": "17487189290692389587"
     },
     "user_tz": 480
    },
    "id": "WimNtYn87VDt",
    "outputId": "e64943e0-42c2-420d-be04-415f014d838a"
   },
   "outputs": [],
   "source": [
    "# compute error for different number of integration steps\n",
    "df_euler_implicit = compute_error(dydt, solve_euler_implicit, \n",
    "                                  fun_an, t_0, t_N, y_0)\n",
    "\n",
    "# plot\n",
    "plot_error(df_euler_implicit, 'euler method (implicit)')\n",
    "\n",
    "# convergence order\n",
    "print(\"Convergence order of implicit Euler method (LTE) \", \n",
    "     compute_convergence_order(df_euler_implicit.lte.values))\n",
    "# convergence order\n",
    "print(\"Convergence order of implicit Euler method (GTE): \", \n",
    "     compute_convergence_order(df_euler_implicit.gte.values))"
   ]
  },
  {
   "cell_type": "markdown",
   "metadata": {
    "colab_type": "text",
    "id": "-bM1zkekuWQz"
   },
   "source": [
    "### Modified Euler Method"
   ]
  },
  {
   "cell_type": "markdown",
   "metadata": {
    "colab_type": "text",
    "id": "qrjzCbUIucFG"
   },
   "source": [
    "The Euler method tries to predict the next point on the curve $y(t_{i+1})$ from the slope of the curve at an earlier evaluation point. If the curve is convex, the estimated value $y(t_{i+1})$ will be lower than the actual value at $t_{i+1}$, if it is concave, the estimated value wil be higher than the actual value.\n",
    "\n",
    "Instead of using the slope of $y(t_i)$ at $t_i$ or $t_{i+1}$, the *modified Euler methods* try to use better approximations of the slope.\n",
    "The so-called *Heun's method* follows an approach similar to the *trapezoidal rule*:\n",
    "It uses an 'optimal slope' that would connect the points $y(t_i)$ and $y(t_{i+1})$ and which equals the average of the slopes at $y(t_i)$ and $y(t_{i+1})$:\n",
    "$$\\text{average slope} = \\frac{\\Delta y}{\\Delta t}=\\frac{y_{i+1}-y_i}{t_{i+1}-t_i}=\\frac{1}{2}\\left(f(t_i, y_i) + f(t_{i+1}, y_{i+1})\\right)$$\n",
    "\n",
    "And therefore \n",
    "\n",
    "$$ y_{i+1} = y_i + \\text{average slope} \\cdot \\Delta t = y_i + \\frac{1}{2}\\Delta t\\left(f(t_i, y_i) + f(t_{i+1}, \\tilde{y}_{i+1})\\right) \\, ,$$\n",
    "\n",
    "with the intermediate value \n",
    "\n",
    "$$\\tilde{y}_{i+1}= y_i + \\Delta t\\, f(t_i, y_i)$$ \n",
    "\n",
    "\n",
    "\n",
    "\n",
    "A similar approach, based on the *midpoint rule* exists.\n",
    "Both methods are of second order accuracy.\n"
   ]
  },
  {
   "cell_type": "code",
   "execution_count": null,
   "metadata": {
    "colab": {},
    "colab_type": "code",
    "id": "kX-h2V1m62um"
   },
   "outputs": [],
   "source": [
    "def solve_euler_modified(f, t, y_0):\n",
    "  \"\"\"\n",
    "  Uses explicit euler method to solve ODE: y'=f(t, y) \n",
    "  with initial value y(t_0)=y_0.\n",
    "  \n",
    "  Args:\n",
    "    - f: Function object that computes y', expected signature f(t, y), \n",
    "         where t is evaluation point and y is function value\n",
    "    - t: array of evaluation points\n",
    "    - y_0: initial value, i.e. y(t[0])\n",
    "  \n",
    "  Returns:\n",
    "    - array containing approximated function values y(t[i]) \n",
    "  \"\"\"\n",
    "  \n",
    "  y = np.zeros_like(t)\n",
    "  y[0] = y_0\n",
    "  for i in range(0, len(t)-1):\n",
    "    y_int  = y[i] + (t[i+1]-t[i]) * f(t[i],y[i])\n",
    "    y[i+1] = y[i] + 0.5*(t[i+1]-t[i]) * ( f(t[i],y[i]) + f(t[i+1],y_int) )\n",
    "  return y"
   ]
  },
  {
   "cell_type": "code",
   "execution_count": null,
   "metadata": {
    "colab": {
     "base_uri": "https://localhost:8080/",
     "height": 608
    },
    "colab_type": "code",
    "executionInfo": {
     "elapsed": 8659,
     "status": "ok",
     "timestamp": 1549215940080,
     "user": {
      "displayName": "Daniel Abler",
      "photoUrl": "https://lh3.googleusercontent.com/-ejq0pqDW5hc/AAAAAAAAAAI/AAAAAAAAAAA/cpoZe-bw31c/s64/photo.jpg",
      "userId": "17487189290692389587"
     },
     "user_tz": 480
    },
    "id": "ydS13Lf874HO",
    "outputId": "f790287b-695a-42de-be12-f47bf254dea5"
   },
   "outputs": [],
   "source": [
    "# compute error for different number of integration steps\n",
    "df_euler_mod = compute_error(dydt, solve_euler_modified, \n",
    "                                  fun_an, t_0, t_N, y_0)\n",
    "\n",
    "# plot\n",
    "plot_error(df_euler_mod, 'modified euler method')\n",
    "\n",
    "# convergence order\n",
    "print(\"Convergence order of modified Euler method (GTE): \", \n",
    "     compute_convergence_order(df_euler_mod.gte.values))"
   ]
  },
  {
   "cell_type": "markdown",
   "metadata": {
    "colab_type": "text",
    "id": "RmkiqIV0Mios"
   },
   "source": [
    "### Runge-Kutta Methods"
   ]
  },
  {
   "cell_type": "markdown",
   "metadata": {
    "colab_type": "text",
    "id": "TipKscWC9_F3"
   },
   "source": [
    "The Euler and modified Euler methods above are specific cases of a  familiy of iterative methods used for approximating solutions to ODEs.\n",
    "These methods are called [*Runge-Kutta*](https://en.wikipedia.org/wiki/Runge–Kutta_methods) (RK) methods.\n",
    "Explicit and implicit Euler methods are *one stage* RK methods. The modified Euler methods are *two stage* RK methods.\n",
    "In general, RK methods use the weighted average of function values evaluated at multiple increments (*stages*) to approximate the next value $y(t_{i+1})$.\n",
    "The 'classical' Runge Kutta Method is RK4 which employs four stages for approximation.\n",
    "\n",
    "\\begin{align}\n",
    "y_{i+1} &= y_i + \\frac{1}{6} \\left( k_1 + 2 k_2, +2k_3 + k_4\\right)\\\\\n",
    "t_{i+1} &= t_i + \\Delta t\n",
    "\\end{align}\n",
    "\n",
    "where\n",
    "\n",
    "\\begin{align}\n",
    "k_1 &= \\Delta t \\, f(t_i, y_i)\\\\\n",
    "k_2 &= \\Delta t \\, f(t_i+\\frac{\\Delta t}{2}, y_i + \\frac{k_1}{2})\\\\\n",
    "k_3 &= \\Delta t \\, f(t_i+\\frac{\\Delta t}{2}, y_i + \\frac{k_2}{2})\\\\\n",
    "k_4 &= \\Delta t \\, f(t_i+\\Delta t, y_i + k_3)\\\\\n",
    "\\end{align}\n",
    "\n",
    "\n",
    "\n"
   ]
  },
  {
   "cell_type": "code",
   "execution_count": null,
   "metadata": {
    "colab": {},
    "colab_type": "code",
    "id": "2emJ2S9lwXXz"
   },
   "outputs": [],
   "source": [
    "def solve_RK4(f, t, y_0):\n",
    "  \"\"\"\n",
    "  Uses explicit euler method to solve ODE: y'=f(t, y) \n",
    "  with initial value y(t_0)=y_0.\n",
    "  \n",
    "  Args:\n",
    "    - f: Function object that computes y', expected signature f(t, y), \n",
    "         where t is evaluation point and y is function value\n",
    "    - t: array of evaluation points\n",
    "    - y_0: initial value, i.e. y(t[0])\n",
    "  \n",
    "  Returns:\n",
    "    - array containing approximated function values y(t[i]) \n",
    "  \"\"\"\n",
    "  \n",
    "  y = np.zeros_like(t)\n",
    "  y[0] = y_0\n",
    "  for i in range(0, len(t)-1):\n",
    "    delta_t = t[i+1]-t[i]\n",
    "    k_1  = delta_t * f(t[i], y[i])\n",
    "    k_2  = delta_t * f(t[i] + delta_t/2, y[i] + k_1/2)\n",
    "    k_3  = delta_t * f(t[i] + delta_t/2, y[i] + k_2/2)\n",
    "    k_4  = delta_t * f(t[i] + delta_t, y[i] + k_3)\n",
    "    y[i+1] = y[i] + 1/6*(k_1 + 2*k_2 + 2*k_3 + k_4)\n",
    "  return y"
   ]
  },
  {
   "cell_type": "code",
   "execution_count": null,
   "metadata": {
    "colab": {
     "base_uri": "https://localhost:8080/",
     "height": 588
    },
    "colab_type": "code",
    "executionInfo": {
     "elapsed": 13434,
     "status": "ok",
     "timestamp": 1549215944892,
     "user": {
      "displayName": "Daniel Abler",
      "photoUrl": "https://lh3.googleusercontent.com/-ejq0pqDW5hc/AAAAAAAAAAI/AAAAAAAAAAA/cpoZe-bw31c/s64/photo.jpg",
      "userId": "17487189290692389587"
     },
     "user_tz": 480
    },
    "id": "vegnxIJ3dpE2",
    "outputId": "35d88c52-e1ee-4266-8834-19c1d5810f62"
   },
   "outputs": [],
   "source": [
    "# compute error for different number of integration steps\n",
    "df_RK4 = compute_error(dydt, solve_RK4, \n",
    "                                  fun_an, t_0, t_N, y_0)\n",
    "\n",
    "# plot\n",
    "plot_error(df_RK4, 'RK4 method')\n",
    "\n",
    "# convergence order\n",
    "print(\"Convergence order of RK4 method (GTE): \", \n",
    "     compute_convergence_order(df_RK4.gte.values))"
   ]
  },
  {
   "cell_type": "markdown",
   "metadata": {
    "colab_type": "text",
    "id": "IWwj8cTLyf2g"
   },
   "source": [
    "## Adaptive Stepsize"
   ]
  },
  {
   "cell_type": "markdown",
   "metadata": {
    "colab_type": "text",
    "id": "gJp3qFFHynFT"
   },
   "source": [
    "In all examples above, we used a constant step size $\\Delta t$ for integrating $f(t,y)$.\n",
    "However, this may be inefficient.\n",
    "\n",
    "An *adaptive* integration method finds the appropriate $\\Delta t$ to meet a given precision target. In Eq. (7) we introduced the local truncation error LTE. Suppose, you evaluate an estimate for $y_{i+1}$ twice, using a method with n-th order accuracy (LTE $\\mathcal{O}(\\Delta t^{n+1})$) yielding estimate $y_{i+1}^{(n)}$, and another method with $(n+1)$-th order accuracy (LTE $\\mathcal{O}(\\Delta t^{n+2})$) , yielding estimate $y_{i+1}^{(n+1)}$.\n",
    "The error $\\epsilon$ between $(n+1)$ and $n$ order methods can then be estimated as:\n",
    "$$\\epsilon = \\left| y_{i+1}^{(n+1)} - y_{i+1}^{(n)}\\right| = \\mathcal{O}(\\Delta t^{n+1})$$\n",
    "\n",
    "Suppose we are working with 4th- and 5th- order Runge Kutta Methods, i.e. $n=4$ and would like to find the optimal stepsize $\\Delta \\tau$ so that  $\\epsilon \\leq \\delta$ for some *desired accuracy* of $\\delta$.\n",
    "From above we see that the error $\\epsilon$ scales with $\\Delta t^5$.\n",
    "Therefore\n",
    "$$\\frac{\\delta}{\\epsilon} = \\left(\\frac{\\Delta\\tau}{\\Delta t}\\right)^{5}$$\n",
    "and solving for $\\Delta\\tau$\n",
    "$$\\Delta\\tau = \\Delta t\\,  \\left(\\frac{\\delta}{\\epsilon}\\right)^{1/5}$$\n",
    "\n",
    "If $\\epsilon < \\delta$, we accept the current estimate $y_{i+1}^{(5)}$ and continue to the next time step, possibly increasing the step size for the next step.\n",
    "If $\\epsilon > \\delta$, the current estimate is rejected and we recompute the failed time step using a smaller value of $\\Delta \\tau$.\n",
    "You can read more details about this approach in the [numerical recipes](https://aip.scitation.org/doi/pdf/10.1063/1.4823060). \n",
    "\n",
    "We will not implement this ourselves, but the ODE integration functions provided by `scipy.integrate` use adaptive stepsizes for integration. See examples below."
   ]
  },
  {
   "cell_type": "markdown",
   "metadata": {
    "colab_type": "text",
    "id": "dkxfy_8A8Z9p"
   },
   "source": [
    "## Comparison: Runge Kutta 1, 2, 4 stage"
   ]
  },
  {
   "cell_type": "markdown",
   "metadata": {},
   "source": [
    "Here we compare the different integration methods discussed previously by applying them to the ODEs of exercise (2):\n",
    "- 1 stage Runge Kutta: explicit & implicit Euler\n",
    "- 2 stage Runge Kutta: explicit modified Euler\n",
    "- 4 stage Runge Kutta: 'RK4'\n",
    "\n",
    "We also include two solvers of the `scipy.integrate` package in this comparison:\n",
    "- [`scipy.integrate.odeint`](https://docs.scipy.org/doc/scipy/reference/generated/scipy.integrate.odeint.html#scipy.integrate.odeint), based on [ODEPACK LSODA](https://computation.llnl.gov/casc/odepack/) which automatically chooses between methods for *stiff* and *non-stiff* systems.\n",
    "- [`scipy.integrate.RK45`](https://docs.scipy.org/doc/scipy/reference/generated/scipy.integrate.RK45.html#scipy.integrate.RK45), an explicit *adaptive* Runge-Kutta method.\n",
    "\n",
    "We call latter using the standard interface [`scipy.integrate.solve_ivp`](https://docs.scipy.org/doc/scipy/reference/generated/scipy.integrate.solve_ivp.html#scipy.integrate.solve_ivp) which provides access to multiple ode-integration methods.\n",
    "This interface returns not only the estimated values of $y_i$ but a results *object* that contains various types of information. You can inspect the contents of this object with `dir()`.\n",
    "\n",
    "Note that the interfaces `odeint` and `solve_ivp` expect the arguments of the ODE-defining function to be ordered differently.\n",
    "All examples in this notebook use the function signature $f(t, y)$ as expected by `solve_ivp`."
   ]
  },
  {
   "cell_type": "code",
   "execution_count": null,
   "metadata": {
    "colab": {
     "base_uri": "https://localhost:8080/",
     "height": 378
    },
    "colab_type": "code",
    "executionInfo": {
     "elapsed": 727,
     "status": "ok",
     "timestamp": 1549222147607,
     "user": {
      "displayName": "Daniel Abler",
      "photoUrl": "https://lh3.googleusercontent.com/-ejq0pqDW5hc/AAAAAAAAAAI/AAAAAAAAAAA/cpoZe-bw31c/s64/photo.jpg",
      "userId": "17487189290692389587"
     },
     "user_tz": 480
    },
    "id": "qr-rErRg8fva",
    "outputId": "879568a1-b0ec-4b69-d86f-67adb4255c03"
   },
   "outputs": [],
   "source": [
    "# we also include two solvers from the scipy package\n",
    "from scipy.integrate import solve_ivp   \n",
    "from scipy.integrate import odeint\n",
    "\n",
    "# Function (1) \n",
    "def dydt_1(t, y):\n",
    "  return 0.5*y\n",
    "\n",
    "def fun_an_1(t, y_0):\n",
    "  return y_0*np.exp(0.5*t)\n",
    "\n",
    "\n",
    "# Function (2)\n",
    "def dydt_2(t, y):\n",
    "  return -2.5*y\n",
    "\n",
    "def fun_an_2(t, y_0):\n",
    "  return y_0*np.exp(-2.5*t)\n",
    "\n",
    "\n",
    "# integration bounds\n",
    "t_0 = 0\n",
    "t_N = 10\n",
    "\n",
    "# initial value\n",
    "y_0 = 1\n",
    "\n",
    "# create time data for numeric approximation\n",
    "n_steps = 30\n",
    "t = np.linspace(t_0, t_N, n_steps)\n",
    "step_size = (t_N-t_0)/n_steps\n",
    "#print(\"step size: \",step_size)\n",
    "\n",
    "# create data for analytic function on fine grid\n",
    "t_an = np.linspace(t_0, t_N, 100)\n",
    "y_an_f1 = fun_an_1(t_an, y_0)\n",
    "y_an_f2 = fun_an_2(t_an, y_0)\n",
    "\n",
    "# solve ODEs\n",
    "## f1\n",
    "y_euler_f1 = solve_euler(f=dydt_1, t=t, y_0=y_0)\n",
    "y_euler_imp_f1 = solve_euler_implicit(f=dydt_1, t=t, y_0=y_0)\n",
    "y_euler_mod_f1 = solve_euler_modified(f=dydt_1, t=t, y_0=y_0)\n",
    "y_RK4_f1 = solve_RK4(f=dydt_1, t=t, y_0=y_0)\n",
    "### scipy solve_ivp\n",
    "RK45_f1 = solve_ivp(dydt_1, [t_0, t_N], [y_0], \n",
    "                        method='RK45')\n",
    "y_RK45_f1 = RK45_f1.y.flatten()\n",
    "t_RK45_f1 = RK45_f1.t\n",
    "### scipy odeint\n",
    "y_odeint_f1 = odeint(dydt_1, y_0, t, tfirst=True)\n",
    "y_odeint_f1 = np.array(y_odeint_f1).flatten()\n",
    "## f2\n",
    "y_euler_f2 = solve_euler(f=dydt_2, t=t, y_0=y_0)\n",
    "y_euler_imp_f2 = solve_euler_implicit(f=dydt_2, t=t, y_0=y_0)\n",
    "y_euler_mod_f2 = solve_euler_modified(f=dydt_2, t=t, y_0=y_0)\n",
    "y_RK4_f2 = solve_RK4(f=dydt_2, t=t, y_0=y_0)\n",
    "### scipy solve_ivp\n",
    "RK45_f2 = solve_ivp(dydt_2, [t_0, t_N], [y_0], \n",
    "                        method='RK45')\n",
    "y_RK45_f2 = RK45_f2.y.flatten()\n",
    "t_RK45_f2 = RK45_f2.t\n",
    "### scipy odeint\n",
    "y_odeint_f2 = odeint(dydt_2, y_0, t, tfirst=True)\n",
    "y_odeint_f2 = np.array(y_odeint_f2).flatten()\n",
    "\n",
    "\n",
    "# plot\n",
    "fig, axes= plt.subplots(1, 2, figsize=plt.figaspect(0.3))\n",
    "axes[0].plot(t, y_euler_f1, label='Euler explicit')\n",
    "axes[0].plot(t, y_euler_imp_f1, label='Euler implicit')\n",
    "axes[0].plot(t, y_euler_mod_f1, label='Euler modified')\n",
    "axes[0].plot(t, y_RK4_f1, label='RK4')\n",
    "axes[0].plot(t_RK45_f1, y_RK45_f1, label='scipy RK45 -- adaptive')\n",
    "axes[0].plot(t,y_odeint_f1, label='scipy odeint')\n",
    "axes[0].plot(t_an, y_an_f1, label='analytic $y(t)=y_0\\, e^{0.5\\,t}$')\n",
    "axes[0].set_title(\"function (1): $r=0.5$; stepsize $\\Delta t = %.2f$\"%step_size)\n",
    "axes[0].set_ylabel(\"y(t)\")\n",
    "axes[0].set_xlabel(\"t\")\n",
    "axes[0].legend()\n",
    "axes[1].plot(t, y_euler_f2, label='Euler explicit')\n",
    "axes[1].plot(t, y_euler_imp_f2, label='Euler implicit')\n",
    "axes[1].plot(t, y_euler_mod_f2, label='Euler modified')\n",
    "axes[1].plot(t, y_RK4_f2, label='RK4')\n",
    "axes[1].plot(t_RK45_f2,y_RK45_f2, label='scipy RK45 -- adaptive')\n",
    "axes[1].plot(t,y_odeint_f2, label='scipy odeint')\n",
    "axes[1].plot(t_an, y_an_f2, label='analytic $y(t)=y_0\\, e^{-2.3\\,t}$')\n",
    "axes[1].set_title(\"function (2): $r=-2.5$; stepsize $\\Delta t = %.2f$\"%step_size)\n",
    "axes[1].set_ylabel(\"y(t)\")\n",
    "axes[1].set_xlabel(\"t\")\n",
    "axes[1].legend()\n",
    "plt.show()"
   ]
  },
  {
   "cell_type": "markdown",
   "metadata": {
    "colab_type": "text",
    "id": "B9MNlK72M_c1"
   },
   "source": [
    "## Solving Systems of ODEs"
   ]
  },
  {
   "cell_type": "markdown",
   "metadata": {
    "colab_type": "text",
    "id": "NqgjYOivHlhf"
   },
   "source": [
    "The same methods discussed before can also be used to solve systems of ODE's.\n",
    "\n",
    "Consider the following example of a system of two ODEs:\n",
    "\\begin{align}\n",
    "\\frac{dx}{dt}&=-x+x^3 &=f(t, x) \\\\\n",
    "\\frac{dy}{dt}&=-2y & = g(t, y)\n",
    "\\end{align}\n",
    "\n",
    "For numerical implementation, we first need to write a function that returns the values $f(t, x)$ and $g(t, y)$ for given $x, y, t$.\n",
    "Ideally, we would like this function to have the same signature (i.e. type and order of arguments) as our previous functions, i.e. one argument for function values, and one for time.\n",
    "This can be achieved by 'vectorizing' these functions:\n",
    "\n",
    "Instead of accepting only a single scalar as input for the  current function value `y`, we permit an n-dimensional array as input argument. \n",
    "Likewise, instead of returning only the derivative $y'$, we return an array of derivative values, one for each ODE in our system of ODEs.\n",
    "\n",
    "\n",
    "---\n",
    "**Exercise (4):**\n",
    "\n",
    "1. 'Vectorize' the function `dydt` from the beginning of this notebook and implement above system of ODEs.\n",
    "\n",
    "2. Modify the implementation of the explicit Euler method from before to work with this vectorized function. \n",
    "\n",
    "3. Test your implementation using different combinations of initial values $x_0$, $y_0$.\n",
    "\n",
    "---\n",
    "\n",
    "\n",
    "\n"
   ]
  },
  {
   "cell_type": "code",
   "execution_count": null,
   "metadata": {
    "colab": {},
    "colab_type": "code",
    "id": "rBF0fUR-HlMl"
   },
   "outputs": [],
   "source": [
    "def dydt_ndim(t, y):\n",
    "  \"\"\"  \n",
    "  Args:\n",
    "    - y: array of function values\n",
    "    - t: scalar, time\n",
    "    \n",
    "  Returns:\n",
    "    - array of derivatives dy/dt of (unknown) function y(t)\n",
    "  \"\"\"\n",
    "  #print(\"in: \", y)\n",
    "  y_out = np.zeros_like(y)\n",
    "  y_out[0] = -y[0] + np.power(y[0],3)\n",
    "  y_out[1] = -2*y[1]\n",
    "  #print(\"out: \", y_out)\n",
    "  return y_out\n",
    "\n",
    "def solve_euler_ndim(f, t, y_0):\n",
    "  \"\"\"\n",
    "  Uses explicit euler method to solve ODE: y'=f(y, t) \n",
    "  with initial value y(t_0)=y_0.\n",
    "  \n",
    "  Args:\n",
    "    - f: Function object that computes y', expected signature f(y, t), \n",
    "         where t is evaluation point and y is function value\n",
    "    - t: array of evaluation points\n",
    "    - y_0: array of initial values, i.e. y(t[0])\n",
    "  \n",
    "  Returns:\n",
    "    - array containing approximated function values y(t[i]) \n",
    "  \"\"\"\n",
    "  y = np.zeros((len(y_0),len(t)))\n",
    "  y[:,0] = y_0\n",
    "  for i in range(0, len(t)-1):\n",
    "    y[:,i+1] = y[:,i] + (t[i+1]-t[i]) * f(t[i], y[:,i])\n",
    "    #print(y[:,i+1])\n",
    "  return y\n",
    "\n"
   ]
  },
  {
   "cell_type": "code",
   "execution_count": null,
   "metadata": {
    "colab": {
     "base_uri": "https://localhost:8080/",
     "height": 378
    },
    "colab_type": "code",
    "executionInfo": {
     "elapsed": 13861,
     "status": "ok",
     "timestamp": 1549215945383,
     "user": {
      "displayName": "Daniel Abler",
      "photoUrl": "https://lh3.googleusercontent.com/-ejq0pqDW5hc/AAAAAAAAAAI/AAAAAAAAAAA/cpoZe-bw31c/s64/photo.jpg",
      "userId": "17487189290692389587"
     },
     "user_tz": 480
    },
    "id": "qlTxEK2lO4LM",
    "outputId": "11350a48-a92a-472a-e111-d654e369994d"
   },
   "outputs": [],
   "source": [
    "# domain bounds\n",
    "t_0 = 0\n",
    "t_N = 10\n",
    "\n",
    "# initial value\n",
    "y_0 = [0.5,1]\n",
    "\n",
    "# create time data for numeric approximation\n",
    "n_steps = 1000\n",
    "t = np.linspace(t_0, t_N, n_steps)\n",
    "step_size = (t_N-t_0)/n_steps\n",
    "print(\"step size: \",step_size)\n",
    "\n",
    "# solve ODE\n",
    "y_euler_ndim = solve_euler_ndim(f=dydt_ndim, t=t, y_0=y_0)\n",
    "\n",
    "# plot\n",
    "fig = plt.figure(figsize=plt.figaspect(0.5))\n",
    "ax = fig.add_subplot(111) \n",
    "ax.plot(t, y_euler_ndim[0,:], label='x(t)')\n",
    "ax.plot(t, y_euler_ndim[1,:], label='y(t)')\n",
    "ax.set_xlabel(\"t\")\n",
    "plt.legend()\n",
    "plt.show()"
   ]
  },
  {
   "cell_type": "markdown",
   "metadata": {
    "colab_type": "text",
    "id": "Qfwz_fkFMi7w"
   },
   "source": [
    "# Useful Python / Scipy Functions"
   ]
  },
  {
   "cell_type": "code",
   "execution_count": null,
   "metadata": {
    "colab": {
     "base_uri": "https://localhost:8080/",
     "height": 238
    },
    "colab_type": "code",
    "executionInfo": {
     "elapsed": 14127,
     "status": "ok",
     "timestamp": 1549215945668,
     "user": {
      "displayName": "Daniel Abler",
      "photoUrl": "https://lh3.googleusercontent.com/-ejq0pqDW5hc/AAAAAAAAAAI/AAAAAAAAAAA/cpoZe-bw31c/s64/photo.jpg",
      "userId": "17487189290692389587"
     },
     "user_tz": 480
    },
    "id": "5vNj4sXKM6qB",
    "outputId": "78efd75c-a981-46b6-a835-c930e841b764"
   },
   "outputs": [],
   "source": [
    "from scipy.integrate import odeint\n",
    "\n",
    "# define functions\n",
    "def dydt(y, t): # note that function signature differs from our convention \n",
    "  return -2.3*y\n",
    "\n",
    "# domain bounds\n",
    "t_0 = 0\n",
    "t_N = 10\n",
    "\n",
    "# initial value\n",
    "y_0 = 1\n",
    "\n",
    "# create time data for numeric approximation\n",
    "n_steps = 10\n",
    "t = np.linspace(t_0, t_N, n_steps)\n",
    "\n",
    "# expects dy/dx to have calling signature: fun(y, t) !\n",
    "sol = odeint(dydt, y_0, t)\n",
    "print(\"output: \", sol)\n",
    "sol = np.array(sol).flatten()      # reshape output format from odeint\n",
    "print(\"'flattened' output: \", sol)"
   ]
  },
  {
   "cell_type": "code",
   "execution_count": null,
   "metadata": {
    "colab": {
     "base_uri": "https://localhost:8080/",
     "height": 326
    },
    "colab_type": "code",
    "executionInfo": {
     "elapsed": 14112,
     "status": "ok",
     "timestamp": 1549215945670,
     "user": {
      "displayName": "Daniel Abler",
      "photoUrl": "https://lh3.googleusercontent.com/-ejq0pqDW5hc/AAAAAAAAAAI/AAAAAAAAAAA/cpoZe-bw31c/s64/photo.jpg",
      "userId": "17487189290692389587"
     },
     "user_tz": 480
    },
    "id": "QthNIeK9M7Ph",
    "outputId": "9ac1ec5c-2373-4a95-ea2b-e814ff74c654"
   },
   "outputs": [],
   "source": [
    "from scipy.integrate import solve_ivp\n",
    "\n",
    "# define functions\n",
    "def dydt(t, y):   \n",
    "  return -2.3*y\n",
    "\n",
    "# domain bounds\n",
    "t_0 = 0\n",
    "t_N = 10\n",
    "\n",
    "# initial value\n",
    "y_0 = 1\n",
    "\n",
    "# automatic time-step size: initial, min, max step size can be defined\n",
    "# expects dy/dx to have calling signature: fun(t, y) !\n",
    "sol = solve_ivp(dydt, [t_0, t_N], [y_0])   # supports different integration methods, default is 'RK45'\n",
    "print(\"results object: \",sol)\n"
   ]
  },
  {
   "cell_type": "markdown",
   "metadata": {},
   "source": [
    "## Exercises"
   ]
  },
  {
   "cell_type": "markdown",
   "metadata": {},
   "source": [
    "- In [this](https://github.com/cohmathonc/biosci670/blob/master/IntroductionComputationalMethods/exercises/07_ODEs.ipynb) exercise you use the explicit Euler method (and optionally also other methods) to solve an initial value problem."
   ]
  },
  {
   "cell_type": "markdown",
   "metadata": {},
   "source": [
    "###### About \n",
    "This notebook is part of the *biosci670* course on *Mathematical Modeling and Methods for Biomedical Science*.\n",
    "See https://github.com/cohmathonc/biosci670 for more information and material."
   ]
  }
 ],
 "metadata": {
  "colab": {
   "collapsed_sections": [],
   "name": "L05_IntroCompMethods_SolvingODEs.ipynb",
   "provenance": [],
   "toc_visible": true,
   "version": "0.3.2"
  },
  "kernelspec": {
   "display_name": "Python 3",
   "language": "python",
   "name": "python3"
  },
  "language_info": {
   "codemirror_mode": {
    "name": "ipython",
    "version": 3
   },
   "file_extension": ".py",
   "mimetype": "text/x-python",
   "name": "python",
   "nbconvert_exporter": "python",
   "pygments_lexer": "ipython3",
   "version": "3.6.8"
  },
  "toc": {
   "base_numbering": 1,
   "nav_menu": {},
   "number_sections": true,
   "sideBar": true,
   "skip_h1_title": false,
   "title_cell": "Table of Contents",
   "title_sidebar": "Contents",
   "toc_cell": false,
   "toc_position": {},
   "toc_section_display": true,
   "toc_window_display": true
  }
 },
 "nbformat": 4,
 "nbformat_minor": 2
}
