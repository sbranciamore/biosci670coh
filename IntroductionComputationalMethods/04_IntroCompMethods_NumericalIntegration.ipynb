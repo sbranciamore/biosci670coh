{
 "cells": [
  {
   "cell_type": "markdown",
   "metadata": {
    "colab_type": "text",
    "id": "view-in-github"
   },
   "source": [
    "<a href=\"https://colab.research.google.com/github/cohmathonc/biosci670/blob/master/IntroductionComputationalMethods/04_IntroCompMethods_NumericalIntegration.ipynb\" target=\"_parent\"><img src=\"https://colab.research.google.com/assets/colab-badge.svg\" alt=\"Open In Colab\"/></a>"
   ]
  },
  {
   "cell_type": "code",
   "execution_count": null,
   "metadata": {
    "colab": {},
    "colab_type": "code",
    "id": "yX3LnQf9MyIt"
   },
   "outputs": [],
   "source": [
    "import numpy as np\n",
    "import matplotlib.pyplot as plt\n",
    "import pandas as pd"
   ]
  },
  {
   "cell_type": "markdown",
   "metadata": {
    "colab_type": "text",
    "id": "eLfQECQi5okI"
   },
   "source": [
    "## Numerical Integration"
   ]
  },
  {
   "cell_type": "markdown",
   "metadata": {
    "colab_type": "text",
    "id": "D0lV9bnlDkR4"
   },
   "source": [
    "Numerical integration methods seek an approximate solution to a definite integral\n",
    "$$\\int_a^b f(x)\\,  dx \\, .$$"
   ]
  },
  {
   "cell_type": "code",
   "execution_count": null,
   "metadata": {
    "colab": {
     "base_uri": "https://localhost:8080/",
     "height": 347
    },
    "colab_type": "code",
    "id": "LALIqOoyoSe5",
    "outputId": "b2dc7924-f9fe-4aae-d6c2-7732110a7013"
   },
   "outputs": [],
   "source": [
    "# define function\n",
    "def f(x):\n",
    "    return 1/(1+np.power(x,2))\n",
    "\n",
    "# domain bounds\n",
    "a = 0\n",
    "b = 3\n",
    "\n",
    "# plot\n",
    "fig = plt.figure(figsize=plt.figaspect(0.5))\n",
    "ax = fig.add_subplot(111) \n",
    "\n",
    "x = np.linspace(a-0.1*(b-a), b+0.1*(b-a), 100)\n",
    "y = f(x)\n",
    "ax.plot(x, y,'-', label='$f(x)$')\n",
    "\n",
    "X = np.linspace(a,b,100)\n",
    "Y = f(X)\n",
    "ax.fill_between(X,Y, color='r', alpha=0.2, label=\"$\\int_a^b f(x)\\,  dx$\")\n",
    "\n",
    "ax.legend(prop={'size':15})\n",
    "plt.show()\n"
   ]
  },
  {
   "cell_type": "markdown",
   "metadata": {
    "colab_type": "text",
    "id": "I_RRr15bvCc0"
   },
   "source": [
    "In above example, we have chosen \n",
    "$$f(x)=\\frac{1}{1+x^2} \\; .$$\n",
    "The integral of this function is known:\n",
    "$$\\int \\frac{1}{1+x^2} \\, dx= \\tan^{-1}(x) + C =\\arctan(x) + C$$\n",
    "So we can solve the integral analytically:\n",
    "$$\\int_a^b \\frac{1}{1+x^2} \\, dx = \\arctan(b) - \\arctan(a)$$\n"
   ]
  },
  {
   "cell_type": "code",
   "execution_count": null,
   "metadata": {
    "colab": {
     "base_uri": "https://localhost:8080/",
     "height": 347
    },
    "colab_type": "code",
    "id": "qL_KdDdOxG1u",
    "outputId": "8e94c8ac-a426-4bb3-d26e-9f515085e00e"
   },
   "outputs": [],
   "source": [
    "# plot arctan(x)\n",
    "fig = plt.figure(figsize=plt.figaspect(0.5))\n",
    "ax = fig.add_subplot(111) \n",
    "\n",
    "y = np.arctan(x)\n",
    "ax.plot(x, y,'-', label='arctan(x)')\n",
    "ax.axvline(x=a, color='green', linestyle=':')\n",
    "ax.axvline(x=b, color='red', linestyle=':')\n",
    "ax.axhline(y=np.arctan(a), color='green', linestyle='--', label='arctan(x=a)')\n",
    "ax.axhline(y=np.arctan(b), color='red', linestyle='--',  label='arctan(x=b)')\n",
    "\n",
    "ax.legend(prop={'size':15})\n",
    "plt.show()"
   ]
  },
  {
   "cell_type": "markdown",
   "metadata": {
    "colab_type": "text",
    "id": "6mr7r8NBxF0S"
   },
   "source": [
    "However, not all functions can be integrated analytically, and even if a closed formulation exists, it may be easier to compute a numerical approximation rather than the antiderivative. Also, the integrand $f(x)$ may only be known at certain points."
   ]
  },
  {
   "cell_type": "markdown",
   "metadata": {
    "colab_type": "text",
    "id": "IFeRQ-sJOzsE"
   },
   "source": [
    "### Riemann Sums"
   ]
  },
  {
   "cell_type": "markdown",
   "metadata": {
    "colab_type": "text",
    "id": "nt0IEajmoS9J"
   },
   "source": [
    "\n",
    "The [Riemann Integral](https://en.wikipedia.org/wiki/Riemann_integral) is a natural starting point for considering approximation methods for integrals.\n",
    "\n",
    "Let's assume that $f(x)$ is a bounded function defined on the interval $[a, b]$ which is divided into $N$ subintervals of length $\\Delta x = \\left| a-b\\right|/N$ defining a partition $\\{x_0, x_1, \\ldots x_{N}\\}$ where $a=x_0 < x_1 < x_2 < \\ldots <x_{N-1} < x_{N} =b$. \n",
    "\n",
    "In each of the $N$ subintervals $[x_i, x_{i+1}]\\; i=0, 1, \\ldots, N-1$, the function $f(x)$ will have a maximum value $f_{\\text{max, i}}$ and a minimum value $f_{\\text{min, i}}$.\n",
    "Defining $\\Delta_i=x_{i+1}-x_i$, we can compute an upper and lower limit for the \"area under the curve\" $\\mathcal{I}$ by summing the contribution of all subintervals:\n",
    "\n",
    "\\begin{align}\n",
    "\\text{lower bound:}& \\qquad \\mathcal{s}_N  =  \\sum_{i=0}^{N-1} f_{\\text{min, i}}\\, \\Delta_i \\leq \\mathcal{I} \\tag{1a}\\\\\n",
    "\\text{upper bound:}& \\qquad \\mathcal{S}_N =  \\sum_{i=0}^{N-1} f_{\\text{max, i}}\\, \\Delta_i \\geq \\mathcal{I}\\tag{1b}\\\\\n",
    "\\end{align}\n",
    "\n",
    "These are called the *lower* and *upper* [Riemann Sum](https://en.wikipedia.org/wiki/Riemann_sum#Trapezoidal_rule), respectively.\n",
    "As $N$ approaches infinity, i.e. $\\Delta_i\\rightarrow 0$, $\\mathcal{s}_N$ and $\\mathcal{S}_N$ converge to the exact value $\\mathcal{I}$.\n",
    "\n"
   ]
  },
  {
   "cell_type": "markdown",
   "metadata": {
    "colab_type": "text",
    "id": "MZdVE0ZMsnsM"
   },
   "source": [
    "#### Rectangular Method: Left & Right Sums"
   ]
  },
  {
   "cell_type": "markdown",
   "metadata": {
    "colab_type": "text",
    "id": "kPWms3BIshLd"
   },
   "source": [
    "Definitions (1a), (1b) can be used to approximate an integral numerically.\n",
    "Instead of using the minimum or maximum of the function in each subinterval, we can use the value of the function on either side of each subinterval: \n",
    "\n",
    "\\begin{align}\n",
    "\\text{left sum:}& \\qquad \\mathcal{S}_{L, N}  =  \\sum_{i=0}^{N-1} f(x_i)\\, \\Delta_i \\approx \\mathcal{I} \\tag{2a}\\\\\n",
    "\\text{right sum:}& \\qquad \\mathcal{S}_{R, N} =  \\sum_{i=0}^{N-1} f(x_{i+1})\\, \\Delta_i \\approx \\mathcal{I}\\tag{2b}\\\\\n",
    "\\end{align}\n",
    "\n",
    "These methods are examples of the **rectangular rule** because the area corresponding to each subinterval is approximated by a rectangle with dimensions length of the subinterval $\\Delta_i$ and the function value at one of the endpoints of the subinterval.\n",
    "\n",
    "The **left rule** will overestimate the actual value of the integral $\\mathcal{I}$ in a region where f(x) decreases monotonically, and will overestimate its value where f(x) is increase monotonically. The opposite holds for the **right rule**.\n"
   ]
  },
  {
   "cell_type": "markdown",
   "metadata": {
    "colab_type": "text",
    "id": "ckvpNIoBtAmP"
   },
   "source": [
    "#### Rectangular Method: Midpoint Rule"
   ]
  },
  {
   "cell_type": "markdown",
   "metadata": {
    "colab_type": "text",
    "id": "_onBdmRTs9eA"
   },
   "source": [
    "Another variation of the rectangular method is the **midpoint rule** , where the function value at the midpoint (instead of one of the endpoints) is used to compute the  rectangular area corresponding to each subinterval:\n",
    "\n",
    "\n",
    "\\begin{align}\n",
    "\\text{midpoint sum:}& \\qquad \\mathcal{S}_{M, N}  =  \\sum_{i=0}^{N-1} f\\left(\\frac{x_i + x_{i+1}}{2}\\right)\\, \\Delta_i \\approx \\mathcal{I} \\tag{3}\\\\\n",
    "\\end{align}\n",
    "\n",
    "As the comparison below shows, the midpoint rule provides a more accurate approximation of the integral than the rectangular method."
   ]
  },
  {
   "cell_type": "markdown",
   "metadata": {
    "colab_type": "text",
    "id": "SPw0KitAva-U"
   },
   "source": [
    "#### Comparison: Left, Right, Midpoint Rule"
   ]
  },
  {
   "cell_type": "code",
   "execution_count": null,
   "metadata": {
    "colab": {
     "base_uri": "https://localhost:8080/",
     "height": 324
    },
    "colab_type": "code",
    "id": "p-cgS2uPDjk7",
    "outputId": "4fa563e6-5283-415b-e349-2f5dd817f170"
   },
   "outputs": [],
   "source": [
    "# define function\n",
    "def f(x):\n",
    "    return 1/(1+np.power(x,2))\n",
    "\n",
    "# domain bounds\n",
    "a = 0\n",
    "b = 3\n",
    "\n",
    "# actual function, evaluated on finer grid to be represented smoothly\n",
    "X = np.linspace(a-0.1*(b-a), b+0.1*(b-a), 100)\n",
    "Y = f(X)\n",
    "\n",
    "# partition for numeric approximation\n",
    "N = 10\n",
    "x = np.linspace(a, b, N+1)\n",
    "y = f(x)\n",
    "delta_x = (b-a)/(N)\n",
    "\n",
    "# evaluate f(x) at left, right , center points of each interval \n",
    "x_left = x[:-1]                             # left endpoints\n",
    "y_left = y[:-1]\n",
    "x_right = x[1:]                             # right endpoints\n",
    "y_right = y[1:]\n",
    "x_mid = (x[1:] + x[:-1])/2                  # mid points\n",
    "y_mid = f(x_mid)\n",
    "\n",
    "\n",
    "# compute approximation:\n",
    "left_sum  = np.sum(y_left*delta_x)\n",
    "midpt_sum = np.sum(y_mid*delta_x)\n",
    "right_sum = np.sum(y_right*delta_x)\n",
    "integral  = np.arctan(b) - np.arctan(a)\n",
    "\n",
    "\n",
    "# function for creating textbox string\n",
    "def make_txtbox_string(value_estimated, value_actual):\n",
    "    textstr = '\\n'.join((\n",
    "    r'$\\mathcal{S}=%-+.6f$' % (value_estimated, ),\n",
    "    r'$\\mathcal{I}=%-+.6f$' % (value_actual, ),\n",
    "    r'$\\mathcal{I}-\\mathcal{S}=%+-.6f$' % (value_actual-value_estimated, )))\n",
    "    return textstr\n",
    "\n",
    "\n",
    "# plot\n",
    "fig, axes= plt.subplots(1, 3, sharey=True, figsize=plt.figaspect(0.3))\n",
    "\n",
    "# evaluation at left point\n",
    "axes[0].plot(X,Y,'k')                            # function\n",
    "axes[0].plot(x_left,y_left,'bo')   # numeric approximation (left value) \n",
    "axes[0].bar(x_left,y_left,width=delta_x,\n",
    "       alpha=0.2,align='edge',edgecolor='b')\n",
    "axes[0].axvline(x=0,color='k', linestyle=':')\n",
    "axes[0].set_title('Left Sum (N = %i)'%(N))\n",
    "textstr_left = make_txtbox_string(left_sum, integral)\n",
    "axes[0].text(3, 0.95, textstr_left, \n",
    "             verticalalignment='top', horizontalalignment='right')\n",
    "# evaluation at mid point\n",
    "axes[1].plot(X,Y,'k')                            # function\n",
    "axes[1].plot(x_mid,y_mid,'go')   # numeric approximation (left value) \n",
    "axes[1].bar(x_mid,y_mid,width=delta_x,\n",
    "       alpha=0.2,edgecolor='g')\n",
    "axes[1].axvline(x=0,color='k', linestyle=':')\n",
    "axes[1].set_title('Midpoint Sum (N = %i)'%(N))\n",
    "textstr_midpt = make_txtbox_string(midpt_sum, integral)\n",
    "axes[1].text(3, 0.95, textstr_midpt, \n",
    "             verticalalignment='top', horizontalalignment='right')\n",
    "# evaluation at right point\n",
    "axes[2].plot(X,Y,'k')                            # function\n",
    "axes[2].plot(x_right,y_right,'ro')   # numeric approximation (left value) \n",
    "axes[2].bar(x_right,y_right,width=-delta_x,\n",
    "       alpha=0.2,align='edge',edgecolor='r')\n",
    "axes[2].axvline(x=0,color='k', linestyle=':')\n",
    "axes[2].set_title('Right Sum (N = %i)'%(N))\n",
    "textstr_right = make_txtbox_string(right_sum, integral)\n",
    "axes[2].text(3, 0.95, textstr_right, \n",
    "             verticalalignment='top', horizontalalignment='right')\n",
    "\n",
    "plt.show()\n",
    "\n",
    "\n",
    "\n"
   ]
  },
  {
   "cell_type": "markdown",
   "metadata": {
    "colab_type": "text",
    "id": "Gb8TRKesyeAE"
   },
   "source": [
    "##### Riemann Sums computed over Analytic Functions"
   ]
  },
  {
   "cell_type": "markdown",
   "metadata": {
    "colab_type": "text",
    "id": "JlbIaseHOJHi"
   },
   "source": [
    "---\n",
    "**Exercise (1):**\n",
    "\n",
    "Define a function that computes *left*, *right* and *midpoint* rules. The function should take 5 parameters:\n",
    "-  *f*:    one-variable vectorized function\n",
    "- *a*, *b*: scalar, lower and upper bound of integration interval $[a, b]$\n",
    "- *N*:    scalar, number of subintervals for partitioning $[a, b]$\n",
    "- *method*: string, type of sum, either 'left', 'right', 'midpoint'\n",
    "   \n",
    "---\n"
   ]
  },
  {
   "cell_type": "code",
   "execution_count": null,
   "metadata": {
    "colab": {},
    "colab_type": "code",
    "id": "nIsld4BRUNs5"
   },
   "outputs": [],
   "source": [
    "def riemann_sum(f, a, b, N, method='left'):\n",
    "  \"\"\"\n",
    "  Returns riemann sum of function `f` over interval [a, b].\n",
    "  \n",
    "  Args:\n",
    "    - f:    one-variable function\n",
    "    - a, b: scalar, lower and upper bound of integration interval\n",
    "    - N:    scalar, number of subintervals for partitioning [a, b]\n",
    "    - method: string, type of sum, either 'left', 'right', 'midpoint'\n",
    "    \n",
    "  Returns:\n",
    "    - integral approximation based on left, right, or midpoint method.\n",
    "  \"\"\"\n",
    "  delta_x = np.abs(b-a)/N\n",
    "  x = np.linspace(a, b, N+1)\n",
    "\n",
    "  x_left = x[:-1]\n",
    "  x_right = x[1:]\n",
    "  if method == 'left':\n",
    "    return np.sum(f(x_left)*delta_x)\n",
    "  elif method == 'right':\n",
    "    return np.sum(f(x_right)*delta_x)\n",
    "  elif method == 'midpoint':\n",
    "    x_midpt = (x_right + x_left)/2 \n",
    "    return np.sum(f(x_midpt)*delta_x)\n",
    "  else:\n",
    "    print(\"Method '%s' is undefined.\"%method)\n",
    "    "
   ]
  },
  {
   "cell_type": "markdown",
   "metadata": {
    "colab_type": "text",
    "id": "cBUxVzdry1Wn"
   },
   "source": [
    "##### Convergence Behavior"
   ]
  },
  {
   "cell_type": "markdown",
   "metadata": {
    "colab_type": "text",
    "id": "-_s6of7hgPda"
   },
   "source": [
    "\n",
    "\n",
    "---\n",
    "\n",
    "**Exercise (2):**\n",
    "\n",
    "Use the function defined in the previous exercise to compare the convergence behaviour for *left*, *right* and *midpoint* quadratures.\n",
    "\n",
    "- Choose a function $f(x)$ that can be integrated analytically. Compute the definite integral $\\mathcal{I}$ of that function on the interval $[a,b]$.\n",
    "- Approximate the definite integral by left, right and midpoint sum using some number $N$ of partitioning intervals . Compute the approximation error.\n",
    "- Repeat this procedure for different partitionings. Start with $N=1$ and double the number of intervals until $\\Delta_i \\approx 10^{-5}$.\n",
    "- Plot the approximation error in function of $\\Delta_i$, use logarithmic axes.\n",
    "- Compute the convergence order using formula (7) in from the [numerical differentiation notebook](https://github.com/cohmathonc/biosci670/blob/master/IntroductionComputationalMethods/03_IntroCompMethods_NumericalDifferentiation.ipynb).\n",
    "---\n",
    "\n"
   ]
  },
  {
   "cell_type": "code",
   "execution_count": null,
   "metadata": {
    "colab": {},
    "colab_type": "code",
    "id": "6P0Y_qYcWE7k"
   },
   "outputs": [],
   "source": [
    "# define function\n",
    "# we use again f(x)=1/(1+x2) with antiderivative F(x)=arctan(x)\n",
    "def f(x):\n",
    "  return 1/(1+np.power(x,2))\n",
    "\n",
    "# integration interval\n",
    "a = 0\n",
    "b = 3\n",
    "\n",
    "# actual value of integral\n",
    "integral = np.arctan(b) - np.arctan(a) \n",
    "\n",
    "# compute error for different partitions\n",
    "# we start with N=1 and double the number of intervals, i.e.\n",
    "# half the distance between partition points in each iteration\n",
    "dfs = {}\n",
    "for method in ['left', 'right', 'midpoint']:\n",
    "  df = pd.DataFrame()\n",
    "  for i in range(0,20):\n",
    "      N = 1 * (2**i)\n",
    "      delta_x = (b-a)/N\n",
    "      integral_approx = riemann_sum(f, a, b, N, method)\n",
    "      # keep record of parameters\n",
    "      df.loc[i, 'method'] = method\n",
    "      df.loc[i, 'N'] = N\n",
    "      df.loc[i, 'delta_x'] = delta_x\n",
    "      df.loc[i, 'integral_approx'] = integral_approx\n",
    "  df['error'] = np.abs(integral - df['integral_approx'])\n",
    "  dfs[method] = df\n",
    "         \n"
   ]
  },
  {
   "cell_type": "code",
   "execution_count": null,
   "metadata": {
    "colab": {
     "base_uri": "https://localhost:8080/",
     "height": 383
    },
    "colab_type": "code",
    "id": "a4Yhqx9JdQ7N",
    "outputId": "a863e41a-4083-4fc0-908c-9ba9dac9f9ed"
   },
   "outputs": [],
   "source": [
    "# plot errors\n",
    "\n",
    "fig = plt.figure(figsize=plt.figaspect(0.5))\n",
    "ax = fig.add_subplot(111) \n",
    "\n",
    "for method in ['left', 'right', 'midpoint']:\n",
    "  df = dfs[method]\n",
    "  ax.loglog(df.delta_x.values, df.error.values, marker='o', \n",
    "            linestyle='-', label=method)\n",
    "\n",
    "ax.set_xlabel('$\\Delta_i$')\n",
    "ax.set_ylabel(\"absolute error\")\n",
    "ax.set_title('Error in Integral Approximations using Rectangular Quadratures')\n",
    "ax.legend()\n",
    "plt.show()"
   ]
  },
  {
   "cell_type": "code",
   "execution_count": null,
   "metadata": {
    "colab": {},
    "colab_type": "code",
    "id": "2Mtx-fjTx7LM"
   },
   "outputs": [],
   "source": [
    "# we used this function previously in the numerical differentiation module\n",
    "\n",
    "def compute_convergence_order(eps):\n",
    "  \"\"\"\n",
    "  Computes ratio of errors steps: ratio(n) = error(n-1)/error(n)\n",
    "  \"\"\"\n",
    "  eps_shifted = np.roll(eps, shift=1)\n",
    "  eps_shifted[0] = np.nan\n",
    "  eps_ratio = eps_shifted / eps\n",
    "  convergence_order = np.log2(eps_ratio)\n",
    "  return convergence_order"
   ]
  },
  {
   "cell_type": "code",
   "execution_count": null,
   "metadata": {
    "colab": {
     "base_uri": "https://localhost:8080/",
     "height": 221
    },
    "colab_type": "code",
    "id": "myWsV8jwelnC",
    "outputId": "14f58383-1f87-41d0-b162-caa1b0ac241c"
   },
   "outputs": [],
   "source": [
    "# convergence order\n",
    "for method in ['left', 'right', 'midpoint']:\n",
    "  df = dfs[method]\n",
    "  print(\"Convergence order of method '%s': \"%(method), \n",
    "       compute_convergence_order(df.error.values))\n"
   ]
  },
  {
   "cell_type": "markdown",
   "metadata": {
    "colab_type": "text",
    "id": "cM27YwM4zBxh"
   },
   "source": [
    "#### Riemann Sums computed over Grids"
   ]
  },
  {
   "cell_type": "markdown",
   "metadata": {
    "colab_type": "text",
    "id": "Ir8UxLBDjkeW"
   },
   "source": [
    "Until now we have a assumed that an analytic form of the integrand $f(x)$ is known that can be evaluated at arbitrary points $x_i$.\n",
    "This is not always the case. In fact, most often only the values $f(x_i)$ and positions $x_i$ at which  $f(x)$ has been sampled will be known, but not the function $f(x)$ itself.\n",
    "\n",
    "---\n",
    "**Exercise (3):**\n",
    "\n",
    "1. Rewrite the numerical integration function from the previous exercise to take as input parameters \n",
    "   - an array of sampled function values $f(x_i)$\n",
    "   - an array of sampling positions $x_i$\n",
    " \n",
    "  Only consider *left* and *right rules*. \n",
    " Assume that the integral is to be performed over the entire array of function values, i.e. assume that the integration bounds correspond to $x_0$ and $x_N$.\n",
    "\n",
    "2. Why is implementing the midpoint rule not straightforward?\n",
    "\n",
    "3. If we assume that the function $f(x)$ has been sampled on a *regular grid* with equal spacings between sampling points $\\Delta_i=x_{i+1}-x_i$, then *left* and *right* sums can be computed from  $\\Delta_i$ without knowing each $x_i$ in the partition.\n",
    "\n",
    "  How could you extend your function to accept as input either an array of sampling positions $x_i$, or  the spacing between sampling points $\\Delta_i$.\n",
    "\n",
    "---\n",
    "\n"
   ]
  },
  {
   "cell_type": "code",
   "execution_count": null,
   "metadata": {
    "colab": {},
    "colab_type": "code",
    "id": "7mBwuavRe-w7"
   },
   "outputs": [],
   "source": [
    "def riemann_sum_grid(data, x, method='left'):\n",
    "  \"\"\"\n",
    "  Returns riemann sum of data/function values sampled at positions x_i.\n",
    "  \n",
    "  Args:\n",
    "    - data: an array of data points / function values\n",
    "    - x:    can be a scalar, indicating the spacing between subsequent \n",
    "            observation/evaluation points, or\n",
    "            an array of same length as data, indicating the observation points\n",
    "    - method: string, type of sum, either 'left', or 'right'\n",
    "  \"\"\"    \n",
    "  if isinstance(x, np.ndarray):\n",
    "    delta_x = np.roll(x, -1) - x       # dx = x_i+1 - x_i\n",
    "    delta_x = delta_x[:-1]             # for i = 0 ... N-1\n",
    "  elif (isinstance(x, float) or isinstance(x, int)):\n",
    "    delta_x = x\n",
    "    \n",
    "  if method == 'left':\n",
    "    data_sel = data[:-1]\n",
    "  elif method == 'right':\n",
    "    data_sel = data[1:]\n",
    "  \n",
    "  riemann_sum = np.sum(delta_x * data_sel)\n",
    "  return riemann_sum"
   ]
  },
  {
   "cell_type": "code",
   "execution_count": null,
   "metadata": {
    "colab": {},
    "colab_type": "code",
    "id": "5442oUvF2AWu"
   },
   "outputs": [],
   "source": [
    "# define function to be integrated\n",
    "# we use again f(x)=1/(1+x2) with antiderivative F(x)=arctan(x)\n",
    "def f(x):\n",
    "  return 1/(1+np.power(x,2))\n",
    "\n",
    "# integration interval\n",
    "a = 0\n",
    "b = 3\n",
    "\n",
    "# actual value of integral\n",
    "integral = np.arctan(b) - np.arctan(a) \n",
    "\n",
    "# compute error for different partitions\n",
    "# we start with N=1 and double the number of intervals, i.e.\n",
    "# half the distance between partition points in each iteration\n",
    "dfs = {}\n",
    "for method in ['left', 'right']:\n",
    "  df = pd.DataFrame()\n",
    "  for i in range(0,20):\n",
    "      # partition for numeric approximation\n",
    "      N = 1 * (2**i)\n",
    "      x = np.linspace(a, b, N+1)\n",
    "      y = f(x)\n",
    "      delta_x = (b-a)/(N)\n",
    "      integral_approx = riemann_sum_grid(y, x, method)\n",
    "      # keep record of parameters\n",
    "      df.loc[i, 'method'] = method\n",
    "      df.loc[i, 'N'] = N\n",
    "      df.loc[i, 'delta_x'] = delta_x\n",
    "      df.loc[i, 'integral_approx'] = integral_approx\n",
    "  df['error'] = np.abs(integral - df['integral_approx'])\n",
    "  dfs[method] = df"
   ]
  },
  {
   "cell_type": "code",
   "execution_count": null,
   "metadata": {
    "colab": {
     "base_uri": "https://localhost:8080/",
     "height": 383
    },
    "colab_type": "code",
    "id": "PWWDijoV3K7B",
    "outputId": "b4b8901b-cb9c-4eab-92a6-df1f39d20b21"
   },
   "outputs": [],
   "source": [
    "# plot errors\n",
    "\n",
    "fig = plt.figure(figsize=plt.figaspect(0.5))\n",
    "ax = fig.add_subplot(111) \n",
    "\n",
    "for method in ['left', 'right']:\n",
    "  df = dfs[method]\n",
    "  ax.loglog(df.delta_x.values, df.error.values, marker='o', \n",
    "            linestyle='-', label=method)\n",
    "\n",
    "ax.set_xlabel('$\\Delta_i$')\n",
    "ax.set_ylabel(\"absolute error\")\n",
    "ax.set_title('Error in Integral Approximations using Rectangular Quadratures')\n",
    "ax.legend()\n",
    "plt.show()"
   ]
  },
  {
   "cell_type": "code",
   "execution_count": null,
   "metadata": {
    "colab": {
     "base_uri": "https://localhost:8080/",
     "height": 153
    },
    "colab_type": "code",
    "id": "j-Xr4WDZ3QQl",
    "outputId": "ea3a265c-7a3d-420c-a0a8-71aaad4f5cdd"
   },
   "outputs": [],
   "source": [
    "# convergence order\n",
    "for method in ['left', 'right']:\n",
    "  df = dfs[method]\n",
    "  print(\"Convergence order of method '%s': \"%(method), \n",
    "       compute_convergence_order(df.error.values))"
   ]
  },
  {
   "cell_type": "markdown",
   "metadata": {
    "colab_type": "text",
    "id": "24d_GmzNPKrl"
   },
   "source": [
    "### Quadrature based on Interpolation"
   ]
  },
  {
   "cell_type": "markdown",
   "metadata": {
    "colab_type": "text",
    "id": "Mzg4ASMtpZjJ"
   },
   "source": [
    "We have seen previously that the midpoint quadrature converges to the true value of the integral more quickly than the rectangular quadrature.\n",
    "However, in situations when numeric integration is most useful,  the 'midpoint' value is not known nor can it be evaluated.\n",
    "\n",
    "Since we do not know the functional form of $f(x)$ for $x\\in[x_i, x_{i+1}]$, we can only approximate its values by *interpolation*.\n",
    "Indeed, a whole class of quadrature rules is *based on interpolating functions*. Instead of computing the integral of $f(x)$, we may approximate the true value of the integral by integrating an interpolant of $f(x)$. \n",
    "\n",
    "An important class of interpolants are polynomials: \n",
    "Given the values $f(x_0), \\ldots, f(x_N)$ on $N+1$ points, any function $f(x)$ can be interpolated by a polynomial $P_N(x)$ of degree $\\leq N$. \n",
    "\n",
    "We have already used this approach:\n",
    "For the left, right and midpoint *rectangular quadrature* rules, we simply approximated the function $f(x)$ in the interval $x\\in[x_i, x_{i+1}]$ by a constant, i.e. a polynomial of degree 0, corresponding to the value of the function at either $x_i$, $x_{i+1}$, or the midpoint between both.\n"
   ]
  },
  {
   "cell_type": "markdown",
   "metadata": {
    "colab_type": "text",
    "id": "Upj--bRTd5g3"
   },
   "source": [
    "#### Trapezoidal Rule"
   ]
  },
  {
   "cell_type": "markdown",
   "metadata": {
    "colab_type": "text",
    "id": "2KJDY64qXDWG"
   },
   "source": [
    "Instead of approximating the function's value with information from only a single point $x_i$, we could use information from two neighbouring points. \n",
    "This would allow us to interpolate $f(x)$ by a polynomial of degree 1, i.e. a linear function that connects both endoints of the interval $[x_i, x_{i+1}]$. \n",
    "\n",
    "What would such a linear interpolation look like?\n",
    "\n",
    "For readibility we rename the boundaries of the integration (sub)interval to $a$ and $b$, and we seek a polynomial of degree 1, $P_1(x)$, that interpolates the function f(x) for $x\\in [a, b]$.\n",
    "\n",
    "Surely, for $x=a$ and $x=b$, the interpolating function should recover the actual function values, i.e. $P_1(a)=f(a)$ and $P_1(b)=f(b)$. \n",
    "At all positions $x \\in (a, b)$ for which no information about the value of $f(x)$ is available, we weight the contribution of $f(a)$ and $f(b)$ by the distance of $x$ from points $a$ and $b$ repectively:\n",
    "$$f(x) \\approx P_1(x) = f(a) \\frac{b-x}{b-a} + f(b)\\frac{x-a}{b-a} \\qquad x\\in[a,b] \\tag{4}$$\n",
    "\n",
    "Having found an interpolation of $f(x)$, we can now approximate the integral:\n",
    "\n",
    "\\begin{align}\n",
    "\\int_a^b f(x)\\, dx \\approx \\int_a^b P_1(x)\\, dx &= f(a) \\int_a^b \\frac{b-x}{b-a} \\, dx+ f(b) \\int_a^b \\frac{x-a}{b-a}\\, dx \\\\\n",
    "                                                                                &=  f(a) \\frac{b-a}{2} + f(b)\\frac{b-a}{2} \\\\\n",
    "                                                                                &= \\frac{b-a}{2}\\left(f(a) + f(b)\\right) \\tag{5}\n",
    "\\end{align}\n",
    "\n",
    "Geometrically, this means that the 'area under the curve' in each subinterval $[a,b]=[x_i, x_{i+1}]$ is approximated, not by a rectangle as before, but by a trapezoid.\n",
    "This quadrature is therefore called the **trapezoidal rule** or **trapezoidal quadrature**.\n",
    "\n",
    "Applied to the partition $\\{x_0, x_1, \\ldots x_{N}\\}$ from before:\n",
    "\n",
    "\\begin{align}\n",
    "\\text{trapezoid sum} \\qquad \\mathcal{S}_{T, N}  &=\\sum_{i=0}^{N-1} \\frac{x_{i+1} - x_i}{2}\\, \\left[ f(x_{i+1}) + f(x_{i}) \\right] \\tag{6a}\\\\\n",
    "                                                                                    &= \\frac{x_{1} - x_0}{2}\\, \\left[ f(x_{1}) + f(x_{0}) \\right] \n",
    "                                                                                      + \\frac{x_{2} - x_1}{2}\\, \\left[ f(x_{2}) + f(x_{1}) \\right] \n",
    "                                                                                      + \\dots\n",
    "                                                                                      + \\frac{x_{N-1} - x_{N-2}}{2}\\, \\left[ f(x_{N-1}) + f(x_{N-2}) \\right]\n",
    "                                                                                      + \\frac{x_{N} - x_{N-1}}{2}\\, \\left[ f(x_{N}) + f(x_{N-1}) \\right]\\\\\n",
    "                                                                                   &= f(x_{0})\\frac{\\Delta x}{2} +  2 f(x_{1})\\frac{\\Delta x}{2} + \n",
    "                                                                                        2 f(x_{2})\\frac{\\Delta x}{2} +\\dots + 2 f(x_{N-2})\\frac{\\Delta x}{2} + \n",
    "                                                                                        2 f(x_{N-1})\\frac{\\Delta x}{2} + f(x_{N})\\frac{\\Delta x}{2}\\\\\n",
    "                                                                                   &=  f(x_{0})\\frac{\\Delta x}{2} \n",
    "                                                                                       +  \\sum_{i=1}^{N-1} f(x_i)\\, \\Delta x \n",
    "                                                                                       + f(x_{N})\\frac{\\Delta x}{2} \\tag{6b}\n",
    "\\end{align}\n",
    "\n",
    "\n"
   ]
  },
  {
   "cell_type": "markdown",
   "metadata": {
    "colab_type": "text",
    "id": "910llfdH5vYd"
   },
   "source": [
    "\n",
    "---\n",
    "**Exercise (4):**\n",
    "\n",
    "1. Define a function that uses the *trapezoidal quadrature* to compute an integral approximation.\n",
    "  The function should take 2 parameters:\n",
    "\n",
    "   - *data*: an array of sampled function values $f(x_i)$\n",
    "   - *x*: an array of sampling positions $x_i$\n",
    " \n",
    "  Assume that the integral is to be performed over the entire array of function values, i.e. assume that the integration bounds correspond to $x_0$ and $x_N$.\n",
    "\n",
    "2.  Extend your function to accept as input either an array of sampling positions $x_i$, or  the spacing between sampling points $\\Delta_i$, i.e. to compute (6a) and (6b).\n",
    "\n",
    "---\n",
    "\n",
    "\n"
   ]
  },
  {
   "cell_type": "code",
   "execution_count": null,
   "metadata": {
    "colab": {},
    "colab_type": "code",
    "id": "zq-9lchEpZAL"
   },
   "outputs": [],
   "source": [
    "def trapezoidal_sum_grid(data, x):\n",
    "  \"\"\"\n",
    "  Returns riemann sum of data / function using trapezoidal quadrature.\n",
    "  \n",
    "  Args:\n",
    "    - data: an array of data points / function values\n",
    "    - x:    can be a scalar, indicating the spacing between subsequent \n",
    "            observation/evaluation points, or\n",
    "            an array of same length as data, indicating the observation points\n",
    "    - method: string, type of sum, either 'left', or 'right'\n",
    "  \"\"\"  \n",
    "  if isinstance(x, np.ndarray):\n",
    "    data_i_plus_iplus1 = data + np.roll(data,-1)  # f(x_i) + f(x_i+1)\n",
    "    data_i_plus_iplus1 = data_i_plus_iplus1[:-1]  # for i = 0 ... N-1\n",
    "    delta_x = np.roll(x, -1) - x                  # dx = x_i+1 - x_i\n",
    "    delta_x = delta_x[:-1]                        # for i = 0 ... N-1\n",
    "    return np.sum(0.5 * data_i_plus_iplus1 * delta_x)\n",
    "  elif (isinstance(x, float) or isinstance(x, int)):\n",
    "    delta_x = x\n",
    "    weights = np.ones_like( data )\n",
    "    weights[0] = 0.5\n",
    "    weights[-1]= 0.5\n",
    "    return np.sum(delta_x * weights * data)\n"
   ]
  },
  {
   "cell_type": "code",
   "execution_count": null,
   "metadata": {
    "colab": {},
    "colab_type": "code",
    "id": "0Jystv69_QYt"
   },
   "outputs": [],
   "source": [
    "# define function\n",
    "# we use again f(x)=1/(1+x2) with antiderivative F(x)=arctan(x)\n",
    "def f(x):\n",
    "  return 1/(1+np.power(x,2))\n",
    "\n",
    "# integration interval\n",
    "a = 0\n",
    "b = 3\n",
    "\n",
    "# actual value of integral\n",
    "integral = np.arctan(b) - np.arctan(a) \n",
    "\n",
    "# compute error for different partitions\n",
    "# we start with N=1 and double the number of intervals, i.e.\n",
    "# half the distance between partition points in each iteration\n",
    "df = pd.DataFrame()\n",
    "for i in range(0,20):\n",
    "    # partition for numeric approximation\n",
    "    N = 1 * (2**i)\n",
    "    x = np.linspace(a, b, N+1)\n",
    "    y = f(x)\n",
    "    delta_x = (b-a)/(N)\n",
    "    integral_approx = trapezoidal_sum_grid(y, x)\n",
    "    #integral_approx = trapezoidal_sum_grid(y, delta_x)\n",
    "    \n",
    "    # keep record of parameters\n",
    "    df.loc[i, 'N'] = N\n",
    "    df.loc[i, 'delta_x'] = delta_x\n",
    "    df.loc[i, 'integral_approx'] = integral_approx\n",
    "df['error'] = np.abs(integral - df['integral_approx'])\n"
   ]
  },
  {
   "cell_type": "code",
   "execution_count": null,
   "metadata": {
    "colab": {
     "base_uri": "https://localhost:8080/",
     "height": 383
    },
    "colab_type": "code",
    "id": "1jJ32jVH_jUb",
    "outputId": "50d9df83-932d-4204-89e8-50ffd40ee4a1"
   },
   "outputs": [],
   "source": [
    "# plot errors\n",
    "\n",
    "fig = plt.figure(figsize=plt.figaspect(0.5))\n",
    "ax = fig.add_subplot(111) \n",
    "\n",
    "ax.loglog(df.delta_x.values, df.error.values, marker='o', \n",
    "          linestyle='-', label='trapezoidal quadrature')\n",
    "\n",
    "ax.set_xlabel('$\\Delta_i$')\n",
    "ax.set_ylabel(\"absolute error\")\n",
    "ax.set_title('Error in Integral Approximations using Trapezoidal Quadrature')\n",
    "ax.legend()\n",
    "plt.show()"
   ]
  },
  {
   "cell_type": "code",
   "execution_count": null,
   "metadata": {
    "colab": {
     "base_uri": "https://localhost:8080/",
     "height": 85
    },
    "colab_type": "code",
    "id": "pmNo7aui_u79",
    "outputId": "a05faaa4-a9e9-4cfb-f2fb-3c31c094427a"
   },
   "outputs": [],
   "source": [
    "# convergence order\n",
    "print(\"Convergence order of trapezoidal quadrature: \", \n",
    "     compute_convergence_order(df.error.values))"
   ]
  },
  {
   "cell_type": "markdown",
   "metadata": {
    "colab_type": "text",
    "id": "i7jmucOdeQUF"
   },
   "source": [
    "#### Higher Order Quadratures"
   ]
  },
  {
   "cell_type": "markdown",
   "metadata": {
    "colab_type": "text",
    "id": "iSbOpHVoeX91"
   },
   "source": [
    "The procedure we have used to derive the trapezoidal rule above also allows to derive higher order quadratures by first finding an interpolant that appoximates $f(x)$ on the interval $[a, b]$ and then integrating that interpolant in place of $f(x)$.\n",
    "Standard methods exist for finding interpolants of a function, given its values at specific locations. The approach demonstrated for the derivation of the trapezoidal used a first degree [Lagrange Polynomial](https://en.wikipedia.org/wiki/Lagrange_polynomial)."
   ]
  },
  {
   "cell_type": "markdown",
   "metadata": {
    "colab_type": "text",
    "id": "GHLNCbeVuXDv"
   },
   "source": [
    "## Useful Python / Numpy Functions"
   ]
  },
  {
   "cell_type": "code",
   "execution_count": null,
   "metadata": {
    "colab": {
     "base_uri": "https://localhost:8080/",
     "height": 85
    },
    "colab_type": "code",
    "id": "gj1jidVpur-c",
    "outputId": "ade87b4c-a0dc-49b9-fd53-58acc2c6cee2"
   },
   "outputs": [],
   "source": [
    "# np.trapz implements the trapezoidal rule\n",
    "\n",
    "import numpy as np\n",
    "# we use again f(x)=1/(1+x2) with antiderivative F(x)=arctan(x)\n",
    "def f(x):\n",
    "  return 1/(1+np.power(x,2))\n",
    "\n",
    "# integration interval\n",
    "a = 0\n",
    "b = 3\n",
    "\n",
    "# partition\n",
    "N = 100\n",
    "delta_x = (b-a)/(N)\n",
    "x = np.linspace(a, b, N+1)\n",
    "\n",
    "# values\n",
    "y = f(x)\n",
    "\n",
    "# integration using x\n",
    "integral_trapez_our = trapezoidal_sum_grid(y, x)\n",
    "integral_trapez_np  = np.trapz(y, x=x)\n",
    "\n",
    "print(\"our implementation (given array x): \", integral_trapez_our)\n",
    "print(\"np.trapz implementation (given array x): \", integral_trapez_np)\n",
    "\n",
    "# integration using delta_x\n",
    "integral_trapez_our = trapezoidal_sum_grid(y, delta_x)\n",
    "integral_trapez_np  = np.trapz(y, x=None, dx=delta_x)\n",
    "\n",
    "print(\"our implementation (given delta x): \", integral_trapez_our)\n",
    "print(\"np.trapz implementation (given delta x): \", integral_trapez_np)"
   ]
  },
  {
   "cell_type": "code",
   "execution_count": null,
   "metadata": {
    "colab": {
     "base_uri": "https://localhost:8080/",
     "height": 68
    },
    "colab_type": "code",
    "id": "VgR2ZrVKvBLj",
    "outputId": "b4257fce-f5c1-4e0e-da03-187e8501a462"
   },
   "outputs": [],
   "source": [
    "# scipy.integrate: trapz, simps\n",
    "import scipy.integrate as integrate\n",
    "\n",
    "\n",
    "import numpy as np\n",
    "# we use again f(x)=1/(1+x2) with antiderivative F(x)=arctan(x)\n",
    "def f(x):\n",
    "  return 1/(1+np.power(x,2))\n",
    "\n",
    "# integration interval\n",
    "a = 0\n",
    "b = 3\n",
    "\n",
    "# partition\n",
    "N = 100\n",
    "delta_x = (b-a)/(N)\n",
    "x = np.linspace(a, b, N+1)\n",
    "\n",
    "# values\n",
    "y = f(x)\n",
    "\n",
    "# integration using x\n",
    "integral_trapez_our = trapezoidal_sum_grid(y, x)\n",
    "integral_trapz = integrate.trapz(y, x)\n",
    "#integral_cumtrapz = integrate.cumtrapz(y, x)\n",
    "integral_simps = integrate.simps(y, x)\n",
    "\n",
    "print(\"our implementation: \", integral_trapez_our)\n",
    "print(\"trapz   : \", integral_trapz)     # uses linear interpolant as discussed\n",
    "#print(\"cumtrapz: \", integral_cumtrapz)\n",
    "print(\"simps   : \", integral_simps)     # uses quadratic interpolant\n",
    "\n",
    "\n",
    "# above functions operate on discrete observations\n",
    "# scipy.integrate also provides functions for numeric integration provided a \n",
    "# function object"
   ]
  },
  {
   "cell_type": "markdown",
   "metadata": {},
   "source": [
    "## Exercises"
   ]
  },
  {
   "cell_type": "markdown",
   "metadata": {},
   "source": [
    "- In [this](https://github.com/cohmathonc/biosci670/blob/master/IntroductionComputationalMethods/exercises/05_NumericalIntegration.ipynb) exercise you approximate an definite integral using the trapezoidal quadrature. (**Optional**) \n",
    "- In [this](https://github.com/cohmathonc/biosci670/blob/master/IntroductionComputationalMethods/exercises/06_NumericalIntegration_ComputeErrorFunction.ipynb) exercise you compute the *error function* using numerical integration. (**Optional**) "
   ]
  },
  {
   "cell_type": "markdown",
   "metadata": {},
   "source": [
    "###### About \n",
    "This notebook is part of the *biosci670* course on *Mathematical Modeling and Methods for Biomedical Science*.\n",
    "See https://github.com/cohmathonc/biosci670 for more information and material."
   ]
  }
 ],
 "metadata": {
  "colab": {
   "collapsed_sections": [],
   "include_colab_link": true,
   "name": "L04_IntroCompMethods_NumericalIntegration.ipynb",
   "provenance": [],
   "toc_visible": true,
   "version": "0.3.2"
  },
  "kernelspec": {
   "display_name": "Python 3",
   "language": "python",
   "name": "python3"
  },
  "language_info": {
   "codemirror_mode": {
    "name": "ipython",
    "version": 3
   },
   "file_extension": ".py",
   "mimetype": "text/x-python",
   "name": "python",
   "nbconvert_exporter": "python",
   "pygments_lexer": "ipython3",
   "version": "3.6.8"
  },
  "toc": {
   "base_numbering": 1,
   "nav_menu": {},
   "number_sections": true,
   "sideBar": true,
   "skip_h1_title": false,
   "title_cell": "Table of Contents",
   "title_sidebar": "Contents",
   "toc_cell": false,
   "toc_position": {},
   "toc_section_display": true,
   "toc_window_display": true
  }
 },
 "nbformat": 4,
 "nbformat_minor": 2
}
