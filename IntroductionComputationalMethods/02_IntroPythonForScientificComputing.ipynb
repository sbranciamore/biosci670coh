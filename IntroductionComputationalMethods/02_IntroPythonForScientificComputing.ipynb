{
 "cells": [
  {
   "cell_type": "markdown",
   "metadata": {
    "colab_type": "text",
    "id": "view-in-github",
    "slideshow": {
     "slide_type": "notes"
    }
   },
   "source": [
    "<a href=\"https://colab.research.google.com/github/cohmathonc/biosci670/blob/master/IntroductionComputationalMethods/02_IntroPythonForScientificComputing.ipynb\" target=\"_parent\"><img src=\"https://colab.research.google.com/assets/colab-badge.svg\" alt=\"Open In Colab\"/></a>"
   ]
  },
  {
   "cell_type": "markdown",
   "metadata": {
    "colab_type": "text",
    "id": "dDCGRpLRMCsL",
    "slideshow": {
     "slide_type": "slide"
    }
   },
   "source": [
    "# Selected Packages for Scientific Computing in Python"
   ]
  },
  {
   "cell_type": "markdown",
   "metadata": {
    "colab_type": "text",
    "id": "vFwHUfNNMKl2",
    "slideshow": {
     "slide_type": "fragment"
    }
   },
   "source": [
    "In the last lecture, we have covered basics of the general Python language. This lecture focuses on the use of Python for scientific computing.\n",
    "Specifically, we will introduce libraries commonly used for numerical computation and plotting.\n",
    "\n",
    "[SciPy](https://www.scipy.org) is a Python-based ecosystem of open-source software packages for mathematics, science and engineering. The [Scipy lecture notes](https://www.scipy-lectures.org/index.html) provide a good overview of its components and basic usage.\n",
    "\n",
    "For this course, we will mostly focus on two components:\n",
    "\n",
    "*   [NumPy](http://www.numpy.org) is the most widely used package for numerical computing in Python. \n",
    "*   [matplotlib](https://matplotlib.org) is a Python library for 2d plotting.\n",
    "\n",
    "We will also briefly introduce the *Python Data Analysis Library* [pandas](https://pandas.pydata.org) which provides convenient data structures and anlysis tools for working with datasets.\n"
   ]
  },
  {
   "cell_type": "markdown",
   "metadata": {
    "colab_type": "text",
    "id": "_mWeAtCSMyeT",
    "slideshow": {
     "slide_type": "slide"
    }
   },
   "source": [
    "## The NumPy Package"
   ]
  },
  {
   "cell_type": "markdown",
   "metadata": {
    "colab_type": "text",
    "id": "8_kbrUBTNQcF",
    "slideshow": {
     "slide_type": "notes"
    }
   },
   "source": [
    "[NumPy](http://www.numpy.org)  provides data structures and methods for handling and manipulating multi-dimensional arrays. If you have prior experience with Matlab, checkout [NumPy for Matlab users](https://docs.scipy.org/doc/numpy/user/numpy-for-matlab-users.html), otherwise, the\n",
    "[NumPy tutorial](https://docs.scipy.org/doc/numpy/user/quickstart.html) is a good starting point for a more in-depth introduction."
   ]
  },
  {
   "cell_type": "markdown",
   "metadata": {
    "colab_type": "text",
    "id": "uPmCY6ZtUc5r",
    "slideshow": {
     "slide_type": "notes"
    }
   },
   "source": [
    "Unlike Python lists that can contain objects of different types, NumPy is meant for creating and manipulating multi-dimensional arrays of homogeneous type.\n",
    "\n",
    "Let's compare a pure Python array (list of numbers) to a NumPy array:"
   ]
  },
  {
   "cell_type": "code",
   "execution_count": null,
   "metadata": {
    "colab": {
     "base_uri": "https://localhost:8080/",
     "height": 51
    },
    "colab_type": "code",
    "id": "qNICRLoqRpkG",
    "outputId": "9ed6a4f1-3159-487e-f433-001dc9d315cd",
    "slideshow": {
     "slide_type": "fragment"
    }
   },
   "outputs": [],
   "source": [
    "import numpy as np    # we import numpy\n",
    "\n",
    "python_array = [1, 2, 3, 4, 5, 6, 7, 8, 9, 10]\n",
    "numpy_array  = np.array([1, 2, 3, 4, 5, 6, 7, 8, 9, 10])\n",
    "\n",
    "print(type(python_array))\n",
    "print(type(numpy_array))\n"
   ]
  },
  {
   "cell_type": "markdown",
   "metadata": {
    "colab_type": "text",
    "id": "QBrvf3sPabae",
    "slideshow": {
     "slide_type": "fragment"
    }
   },
   "source": [
    "NumPy arrays are *typed*, i.e. all objects in an array are of the same type.\n",
    "This restriction allows for more efficient memory usage and support for mathematical operations on arrays.\n",
    "The type of a NumPy array can be inspected using the `dtype` attribute:"
   ]
  },
  {
   "cell_type": "code",
   "execution_count": null,
   "metadata": {
    "colab": {
     "base_uri": "https://localhost:8080/",
     "height": 34
    },
    "colab_type": "code",
    "id": "LgV8NN5jab-h",
    "outputId": "80e7a989-4027-4099-d08f-82461b28c5d1",
    "slideshow": {
     "slide_type": "fragment"
    }
   },
   "outputs": [],
   "source": [
    "print( numpy_array.dtype )\n"
   ]
  },
  {
   "cell_type": "markdown",
   "metadata": {
    "colab_type": "text",
    "id": "2F80qcDfa-CV",
    "slideshow": {
     "slide_type": "slide"
    }
   },
   "source": [
    "Since all elements in a NumPy array are guaranteed to be of the same type, arithmetic operations can be applied to arrays. "
   ]
  },
  {
   "cell_type": "code",
   "execution_count": null,
   "metadata": {
    "colab": {
     "base_uri": "https://localhost:8080/",
     "height": 85
    },
    "colab_type": "code",
    "id": "xwO-8DkObVnL",
    "outputId": "09c910a4-5744-4e37-e546-4275a83bd289",
    "slideshow": {
     "slide_type": "fragment"
    }
   },
   "outputs": [],
   "source": [
    "# NumPy arrays\n",
    "numpy_array = np.array(python_array) # numpy arrays can be created from lists!\n",
    "print(numpy_array)                   # the original array\n",
    "print(numpy_array + 1)               # add 1 to each element of the list\n",
    "print(numpy_array + numpy_array)     # sum of two numpy arrays\n",
    "print(numpy_array * 2)               # each array element multiplied by 2"
   ]
  },
  {
   "cell_type": "markdown",
   "metadata": {
    "colab_type": "text",
    "id": "l_AqxdSCYgsw",
    "slideshow": {
     "slide_type": "slide"
    }
   },
   "source": [
    "Now try this with a python list.\n",
    "\n",
    "---\n",
    "**Exercise (1):**\n",
    "\n",
    "Use the `python_array` defined above and apply the same arithmetic operations as for the NumPy array.\n",
    "\n",
    "- What do you observe?\n",
    "- What would you need to do to\n",
    "  - increment each element in the list by 1\n",
    "  - compute the element-wise sum of 2 python lists\n",
    "  - multiply each element in the list by 2\n",
    "---\n",
    "\n"
   ]
  },
  {
   "cell_type": "code",
   "execution_count": null,
   "metadata": {
    "slideshow": {
     "slide_type": "fragment"
    }
   },
   "outputs": [],
   "source": []
  },
  {
   "cell_type": "markdown",
   "metadata": {
    "colab_type": "text",
    "id": "wxd722XFc1GI",
    "slideshow": {
     "slide_type": "slide"
    }
   },
   "source": [
    "NumPy supports multi-dimensional arrays, similar to nested lists. "
   ]
  },
  {
   "cell_type": "code",
   "execution_count": null,
   "metadata": {
    "colab": {
     "base_uri": "https://localhost:8080/",
     "height": 119
    },
    "colab_type": "code",
    "id": "b9jGSus8b9HM",
    "outputId": "eefd4b53-30fd-4e81-ec78-1ce8d970942a",
    "slideshow": {
     "slide_type": "fragment"
    }
   },
   "outputs": [],
   "source": [
    "np_2d_arr = np.array ( [                          # define 2d NumPy array\n",
    "                        [1, 2, 3, 4, 5],\n",
    "                        [6, 7, 8, 9, 10]\n",
    "                        ] )\n",
    "print(np_2d_arr)\n",
    "print(np_2d_arr + np_2d_arr)\n",
    "\n",
    "print('original shape: ', np_2d_arr.shape)        # inspect 'shape' of array\n",
    "\n",
    "np_2d_arr_reshaped = np_2d_arr.reshape(5, 2)      # change 'shape' of array\n",
    "print('reshaped:       ',np_2d_arr_reshaped.shape)             "
   ]
  },
  {
   "cell_type": "markdown",
   "metadata": {
    "colab_type": "text",
    "id": "niQsxcnOcIgi",
    "slideshow": {
     "slide_type": "slide"
    }
   },
   "source": [
    "Elements of multi-dimensional arrays are accessed by `array[index_axis0, index_axis1, ..., index_axisN]`.  \n",
    "An 'axis' in NumPy corresponds to an array dimension.\n",
    "Axes in which no index is specified are treated as if all indices in that axis were selected.\n",
    "\n",
    "In each axis, the slice operator `:` can be used to specify ranges of indices."
   ]
  },
  {
   "cell_type": "code",
   "execution_count": null,
   "metadata": {
    "colab": {
     "base_uri": "https://localhost:8080/",
     "height": 102
    },
    "colab_type": "code",
    "id": "EiC0Jh8ocGpI",
    "outputId": "e68bc03d-3e1b-4281-ad2a-bbfb5274047c",
    "slideshow": {
     "slide_type": "fragment"
    }
   },
   "outputs": [],
   "source": [
    "print(np_2d_arr[1, 1])   # second element (index==1) in axes 0, 1\n",
    "  \n",
    "print(np_2d_arr[:, 1])   # all elements along axis0 where index of axis1 ==1\n",
    "\n",
    "print(np_2d_arr[1, :])   # all elements along axis1 where index of axis0 ==1\n",
    "\n",
    "print(np_2d_arr[1])      # this is equivalent to [1, :]\n",
    "\n",
    "print(np_2d_arr[1, 1:4]) # selection of elements ('slice') of axis1, with axis0==1 fixed "
   ]
  },
  {
   "cell_type": "markdown",
   "metadata": {
    "colab_type": "text",
    "id": "CjD7QVQkcC88",
    "slideshow": {
     "slide_type": "slide"
    }
   },
   "source": [
    "And identically for higher dimensions:"
   ]
  },
  {
   "cell_type": "code",
   "execution_count": null,
   "metadata": {
    "colab": {
     "base_uri": "https://localhost:8080/",
     "height": 697
    },
    "colab_type": "code",
    "id": "YTQv4wFOfhWo",
    "outputId": "c480b96e-6881-4849-fa76-c836cfbedbb9",
    "slideshow": {
     "slide_type": "fragment"
    }
   },
   "outputs": [],
   "source": [
    "np_md_arr = np.zeros( (3,3,3,2) )  # create 4D array with \n",
    "                                   # 3 elements along the 0th, 1st, 2nd\n",
    "                                   # 2 elements along the 3rd axis                              \n",
    "#print(np_md_arr)\n",
    "#print(np_md_arr[:,:,1, 0])"
   ]
  },
  {
   "cell_type": "markdown",
   "metadata": {
    "colab_type": "text",
    "id": "Bjpd4PNrhGPx",
    "slideshow": {
     "slide_type": "slide"
    }
   },
   "source": [
    "\n",
    "\n",
    "---\n",
    "\n",
    "**Exercise (2):**\n",
    "\n",
    "Suppose you want to track the position of a point in 3D space over time.\n",
    "\n",
    "- How would you dimension a NumPy array to store this positional data for 10 time steps?\n",
    "- What if you need to track two positions?\n",
    "\n",
    "\n",
    "---\n",
    "\n"
   ]
  },
  {
   "cell_type": "code",
   "execution_count": null,
   "metadata": {
    "slideshow": {
     "slide_type": "fragment"
    }
   },
   "outputs": [],
   "source": []
  },
  {
   "cell_type": "markdown",
   "metadata": {
    "colab_type": "text",
    "id": "LBP9j8QshC5q",
    "slideshow": {
     "slide_type": "slide"
    }
   },
   "source": [
    "We saw previously that *objects* of a specific *type* may have *attributes* and *methods* associated to this type.\n",
    "\n",
    "Objects of type `numpy.ndarray` have *attributes* that provide information about the specific array and help understanding its structure:"
   ]
  },
  {
   "cell_type": "code",
   "execution_count": null,
   "metadata": {
    "colab": {
     "base_uri": "https://localhost:8080/",
     "height": 102
    },
    "colab_type": "code",
    "id": "9iRetOdGi6Xn",
    "outputId": "965005ec-a70e-48e3-a7f2-8c17bfe841fd",
    "slideshow": {
     "slide_type": "fragment"
    }
   },
   "outputs": [],
   "source": [
    "print(\"ndim:     \", np_md_arr.ndim)    # number of axes / dimensions\n",
    "print(\"shape:    \", np_md_arr.shape)   # tuple of integers, i-th integer corresponds to size \n",
    "                                       # of array in i-th dimension\n",
    "print(\"size:     \", np_md_arr.size)    # total number of elements in array\n",
    "print(\"type:     \", np_md_arr.dtype)   # type of elements in array\n",
    "print(\"itemsize: \",np_md_arr.itemsize) # size of bytes of each element of the array"
   ]
  },
  {
   "cell_type": "markdown",
   "metadata": {
    "slideshow": {
     "slide_type": "slide"
    }
   },
   "source": [
    "They also provide *methods* for common operations:"
   ]
  },
  {
   "cell_type": "code",
   "execution_count": null,
   "metadata": {
    "slideshow": {
     "slide_type": "fragment"
    }
   },
   "outputs": [],
   "source": [
    "numpy_array = np.array([1,9,2,8,3,7,4,6,5])\n",
    "print(\"sum:          \", numpy_array.sum())\n",
    "print(\"mean:         \", numpy_array.mean())\n",
    "print(\"max:          \", numpy_array.max())\n",
    "\n",
    "print(\"array:        \", numpy_array)\n",
    "numpy_array.sort()\n",
    "print(\"sorted array: \", numpy_array)"
   ]
  },
  {
   "cell_type": "markdown",
   "metadata": {
    "slideshow": {
     "slide_type": "fragment"
    }
   },
   "source": [
    "As any for any other object, you can inspect all associated *attributes* and *methods* by `dir(object)`."
   ]
  },
  {
   "cell_type": "markdown",
   "metadata": {
    "colab_type": "text",
    "id": "X9PuJ2A6rVqF",
    "slideshow": {
     "slide_type": "slide"
    }
   },
   "source": [
    "## A note on numerical precision"
   ]
  },
  {
   "cell_type": "markdown",
   "metadata": {
    "colab_type": "text",
    "id": "k8v5MoHCWOsV",
    "slideshow": {
     "slide_type": "fragment"
    }
   },
   "source": [
    "[Numbers in digital systems](https://en.wikipedia.org/wiki/Computer_number_format) are represented by sets of binary digits called *bit*s. Each bit represents one of two possible states, such as 1 or 0.\n",
    "While a single binary bit can only encode two different values, the amount of possible combinations in a sequence of bits doubles with each additional bit. Thus, a sequence of $N$ bits is able to express $2^N$ different value combinations.\n",
    "\n",
    "An [*octet*](https://en.wikipedia.org/wiki/Octet_(computing)) is a sequence of 8 bits that allows representing [*binary numbers*](https://en.wikipedia.org/wiki/Binary_number) with 256 distinct values. Today, [*byte*](https://en.wikipedia.org/wiki/Byte) is the more commonly used name for such an 8-bit sequence in the computing context. However, historically, *byte* simply denoted the number of bits used to encode a single character of text. This used to be hardware dependent."
   ]
  },
  {
   "cell_type": "markdown",
   "metadata": {
    "slideshow": {
     "slide_type": "slide"
    }
   },
   "source": [
    "Previously, we used NumPy's `dtype` attribute to inspect the datatype of the elements in the array, and the `itemsize` attribute to see their size. \n",
    "By default, NumPy uses 64-bit representations (at least on 64-bit architectures)."
   ]
  },
  {
   "cell_type": "code",
   "execution_count": null,
   "metadata": {
    "colab": {
     "base_uri": "https://localhost:8080/",
     "height": 68
    },
    "colab_type": "code",
    "id": "EbHrM8wi44Uw",
    "outputId": "8a1afe74-1566-40fa-c6ba-7afde687411d",
    "slideshow": {
     "slide_type": "fragment"
    }
   },
   "outputs": [],
   "source": [
    "import numpy.distutils.system_info as sysinfo\n",
    "print(\"This is a %i-bit architecture.\"%sysinfo.platform_bits)\n",
    "\n",
    "print(\"NumPy array data type: \", np_md_arr.dtype)   \n",
    "print(\"Size of each element in bytes: \", np_md_arr.itemsize)"
   ]
  },
  {
   "cell_type": "markdown",
   "metadata": {
    "colab_type": "text",
    "id": "xk5U1lyR58KX",
    "slideshow": {
     "slide_type": "slide"
    }
   },
   "source": [
    "A 64-bit (8 byte) binary number can express $2^{64}$ (more than $1.8\\times 10^{19}$) different values.\n",
    "To see the actual achievable value ranges for specific data types, you can use [`finfo`](https://docs.scipy.org/doc/numpy/reference/generated/numpy.finfo.html#numpy-finfo) and [`iinfo`](https://docs.scipy.org/doc/numpy-1.15.0/reference/generated/numpy.iinfo.html)."
   ]
  },
  {
   "cell_type": "code",
   "execution_count": null,
   "metadata": {
    "colab": {
     "base_uri": "https://localhost:8080/",
     "height": 289
    },
    "colab_type": "code",
    "id": "5_N8nKWjxdhI",
    "outputId": "1e7f1160-e924-4fc8-8ea7-8279a4c6b4ec",
    "slideshow": {
     "slide_type": "fragment"
    }
   },
   "outputs": [],
   "source": [
    "print(np.iinfo(np.int64))\n",
    "print(np.finfo(np.float64))"
   ]
  },
  {
   "cell_type": "markdown",
   "metadata": {
    "slideshow": {
     "slide_type": "slide"
    }
   },
   "source": [
    "NumPy supports various [datatypes](https://docs.scipy.org/doc/numpy/user/basics.types.html) of different precision:"
   ]
  },
  {
   "cell_type": "code",
   "execution_count": null,
   "metadata": {
    "colab": {
     "base_uri": "https://localhost:8080/",
     "height": 102
    },
    "colab_type": "code",
    "id": "tui_lj2VW10H",
    "outputId": "87e500c5-546b-45c3-d1f9-cde68e29089b",
    "slideshow": {
     "slide_type": "fragment"
    }
   },
   "outputs": [],
   "source": [
    "array = [1, 2, 3, 4, 5, 6, 7, 8, 9, 10]\n",
    "\n",
    "# 8 bit integer\n",
    "numpy_array  = np.array(array, dtype=np.int8)\n",
    "print(\"bytes per int8: \",numpy_array.itemsize)\n",
    "\n",
    "# 16 bit integer\n",
    "numpy_array  = np.array(array, dtype=np.int16)\n",
    "print(\"bytes per int16: \",numpy_array.itemsize)\n",
    "\n",
    "# 64 bit integer\n",
    "numpy_array  = np.array(array, dtype=np.int64)\n",
    "print(\"bytes per int64: \",numpy_array.itemsize)\n",
    "\n",
    "# 16 bit float\n",
    "numpy_array  = np.array(array, dtype=np.float16)\n",
    "print(\"bytes per float16: \",numpy_array.itemsize)\n",
    "\n",
    "# 128 bit float\n",
    "numpy_array  = np.array(array, dtype=np.float128)\n",
    "print(\"bytes per float128: \",numpy_array.itemsize)"
   ]
  },
  {
   "cell_type": "markdown",
   "metadata": {
    "colab_type": "text",
    "id": "XVzsYCcAhBxD",
    "slideshow": {
     "slide_type": "slide"
    }
   },
   "source": [
    "Depending on the dataype, values of different ranges and resolutions can be represented.\n",
    "The more bits are available for encoding a given number, the higher the *precision* with which this number can be represented.\n",
    "However, with any finite number of bits, precision will remain finite.\n",
    "\n",
    "Such *finite precision* is a source of computational [errors](https://en.wikipedia.org/wiki/Round-off_error). In particular, when *rounding errors* are accumulated in arithmetic operations."
   ]
  },
  {
   "cell_type": "code",
   "execution_count": null,
   "metadata": {
    "slideshow": {
     "slide_type": "fragment"
    }
   },
   "outputs": [],
   "source": [
    "info = np.iinfo(np.int8)\n",
    "print(info)\n",
    "\n",
    "array = [info.min, info.max, info.min-1, info.max+1, 2*info.max, 1e8]\n",
    "numpy_array  = np.array(array)\n",
    "print(\"original array: \", numpy_array)\n",
    "print(\"array as int8:  \", numpy_array.astype(np.int8))"
   ]
  },
  {
   "cell_type": "code",
   "execution_count": null,
   "metadata": {
    "slideshow": {
     "slide_type": "fragment"
    }
   },
   "outputs": [],
   "source": [
    "info = np.finfo(np.float16)\n",
    "print(info)\n",
    "\n",
    "array = [info.min, info.max, info.max+10, info.max+100, 1e-8]\n",
    "numpy_array  = np.array(array)\n",
    "print(\"original array:    \", numpy_array)\n",
    "print(\"array as float16:  \", numpy_array.astype(np.float16))"
   ]
  },
  {
   "cell_type": "markdown",
   "metadata": {
    "colab_type": "text",
    "id": "7dmVjfixrjws",
    "slideshow": {
     "slide_type": "slide"
    }
   },
   "source": [
    "We will face some of the consequences of the inherently finite precision of computer arithmetic in the following lectures on *numerical methods*. \n",
    "From these, you may get the impression that higher precision datatypes are always the *better* choice.\n",
    "\n",
    "This is not the case.\n",
    "As we have seen here, higher precision also implies that more memory needs to be allocated for each single data item. For the anaysis of large data sets or for large simulations, this may be a limiting factor."
   ]
  },
  {
   "cell_type": "markdown",
   "metadata": {
    "colab_type": "text",
    "id": "VW5uXDF7ucK1",
    "slideshow": {
     "slide_type": "slide"
    }
   },
   "source": [
    "## The matplotlib package\n"
   ]
  },
  {
   "cell_type": "markdown",
   "metadata": {
    "colab_type": "text",
    "id": "1QJsE16RyBiM",
    "slideshow": {
     "slide_type": "fragment"
    }
   },
   "source": [
    "[Matplotlib](https://matplotlib.org/index.html) is a Python 2D plotting library. For basic plotting, it provides the `pyplot` module with a MATLAB-like interface. Besides the official [Pyplot tutorial](https://matplotlib.org/tutorials/introductory/pyplot.html), [this](http://www.labri.fr/perso/nrougier/teaching/matplotlib/#other-types-of-plots) and [this](https://github.com/matplotlib/AnatomyOfMatplotlib) tutorial also provide a nice overview of the various plot types and options. \n",
    "If you are interested in the finer details of some of the plotting approaches that matplotlib provides, head over [here](https://realpython.com/python-matplotlib-guide/). When you need inspiration for what plot type to use for your data or numerical results, this [gallery](https://matplotlib.org/gallery/index.html) may be helpful.\n",
    "See [this](https://colab.research.google.com/notebooks/charts.ipynb) for plotting support and examples in Colab.\n",
    "\n"
   ]
  },
  {
   "cell_type": "markdown",
   "metadata": {
    "colab_type": "text",
    "id": "AN2YocNjekFb",
    "slideshow": {
     "slide_type": "slide"
    }
   },
   "source": [
    "A 'plot' consists of a 'figure' and one or multiple 'axes' (sub plots). Each 'axis' has x-axis and y-axis, with labels, range etc and a title. \n",
    "Here is an example of an empty plot.\n",
    "See matplotlib's [anatomy of a figure](https://matplotlib.org/examples/showcase/anatomy.html) example for a more fine-grained view of figure components."
   ]
  },
  {
   "cell_type": "code",
   "execution_count": null,
   "metadata": {
    "colab": {
     "base_uri": "https://localhost:8080/",
     "height": 376
    },
    "colab_type": "code",
    "id": "8ZuqtJQ6lZWs",
    "outputId": "b0539a46-e4ed-4ead-f911-b30f56564d3a",
    "slideshow": {
     "slide_type": "fragment"
    }
   },
   "outputs": [],
   "source": [
    "import matplotlib.pyplot as plt\n",
    "\n",
    "fig = plt.figure(figsize=plt.figaspect(0.5))\n",
    "ax = fig.add_subplot(111) \n",
    "ax.set(xlim=[0.5, 4.5], ylim=[-2, 8], \n",
    "       title='An empty figure',\n",
    "       ylabel='Y-Axis', xlabel='X-Axis')\n",
    "plt.show()"
   ]
  },
  {
   "cell_type": "markdown",
   "metadata": {
    "colab_type": "text",
    "id": "31X7Atk-WD1v",
    "slideshow": {
     "slide_type": "slide"
    }
   },
   "source": [
    "One or multiple data representations can be attached to an axis. Here, two plot statements (`plot`, `scatter`) are attached to a single axis."
   ]
  },
  {
   "cell_type": "code",
   "execution_count": null,
   "metadata": {
    "colab": {
     "base_uri": "https://localhost:8080/",
     "height": 347
    },
    "colab_type": "code",
    "id": "y5KRRClttDHq",
    "outputId": "f881216b-94f7-401d-a944-4a7840bb28b8",
    "slideshow": {
     "slide_type": "fragment"
    }
   },
   "outputs": [],
   "source": [
    "# Plotting on axes\n",
    "\n",
    "fig = plt.figure()\n",
    "ax = fig.add_subplot(111)\n",
    "ax.plot([1, 2, 3, 4], \n",
    "        [10, 20, 25, 30], \n",
    "        color='lightblue', linewidth=3)\n",
    "ax.scatter([0.3, 3.8, 1.2, 2.5], \n",
    "           [11, 25, 9, 26], \n",
    "           c=[1, 2, 3, 5], marker='^')\n",
    "ax.set_xlim(0.5, 4.5)\n",
    "plt.show()"
   ]
  },
  {
   "cell_type": "markdown",
   "metadata": {
    "colab_type": "text",
    "id": "PBNBclAbWe8L",
    "slideshow": {
     "slide_type": "slide"
    }
   },
   "source": [
    "Instead of specifying figures and axes explicitly, `pyplot` allows plots to be defined more concisely by automatically creating an 'axis' and then reusing the current axis for any further `pyplot` command.\n"
   ]
  },
  {
   "cell_type": "code",
   "execution_count": null,
   "metadata": {
    "colab": {
     "base_uri": "https://localhost:8080/",
     "height": 347
    },
    "colab_type": "code",
    "id": "Ki6w7mAwxhkb",
    "outputId": "9d3c24ee-2b75-474d-bdf3-15731e3ad917",
    "slideshow": {
     "slide_type": "fragment"
    }
   },
   "outputs": [],
   "source": [
    "# Plotting with pyplot\n",
    "plt.plot([1, 2, 3, 4], [10, 20, 25, 30], color='lightblue', linewidth=3)\n",
    "plt.scatter([0.3, 3.8, 1.2, 2.5], [11, 25, 9, 26], c=[1, 2, 3, 5], marker='^')\n",
    "plt.xlim(0.5, 4.5)\n",
    "plt.show()\n",
    "\n",
    "# `plt` simply uses the current axis:\n",
    "#ax = plt.gca()                           # gca -> get current axis\n",
    "#ax.set_xlim(1, 4.5)"
   ]
  },
  {
   "cell_type": "markdown",
   "metadata": {
    "colab_type": "text",
    "id": "Gmzc9wTnywPN",
    "slideshow": {
     "slide_type": "slide"
    }
   },
   "source": [
    "This is useful for the most simple plots. For more complicated or customized plot, explicit declaration of figure and axes is preferable.\n",
    "\n",
    "For example, this figure with subfigures has multiple axes."
   ]
  },
  {
   "cell_type": "code",
   "execution_count": null,
   "metadata": {
    "colab": {
     "base_uri": "https://localhost:8080/",
     "height": 368
    },
    "colab_type": "code",
    "id": "fg5vaiz0yvyX",
    "outputId": "56196296-4229-4fd2-e6b5-c18277600db4",
    "slideshow": {
     "slide_type": "fragment"
    }
   },
   "outputs": [],
   "source": [
    "# multiple axes, i.e. subplots\n",
    "\n",
    "fig, axes = plt.subplots(nrows=2, ncols=2)\n",
    "plt.show()\n",
    "\n",
    "print(\"The 'axes' object is of type %s with shape \"%type(axes), axes.shape)"
   ]
  },
  {
   "cell_type": "markdown",
   "metadata": {
    "colab_type": "text",
    "id": "d_qIBVL5joJG",
    "slideshow": {
     "slide_type": "slide"
    }
   },
   "source": [
    "In this case,  explicit declaration becomes necessary:"
   ]
  },
  {
   "cell_type": "code",
   "execution_count": null,
   "metadata": {
    "colab": {
     "base_uri": "https://localhost:8080/",
     "height": 345
    },
    "colab_type": "code",
    "id": "1Y3zsjJpx6et",
    "outputId": "6e6cac9f-4993-4f46-83dc-203664a032a8",
    "slideshow": {
     "slide_type": "fragment"
    }
   },
   "outputs": [],
   "source": [
    "fig, axes = plt.subplots(nrows=2, ncols=2)\n",
    "axes[0,0].set(title='Upper Left')\n",
    "axes[0,1].set(title='Upper Right')\n",
    "axes[1,0].set(title='Lower Left')\n",
    "axes[1,1].set(title='Lower Right')\n",
    "\n",
    "for ax in axes.flat:\n",
    "    ax.set(xticks=[], yticks=[])            # Remove all xticks and yticks...\n",
    "\n",
    "plt.show()"
   ]
  },
  {
   "cell_type": "markdown",
   "metadata": {
    "colab_type": "text",
    "id": "JUoeJ-I1cTQh",
    "slideshow": {
     "slide_type": "slide"
    }
   },
   "source": [
    "Now, let's add some data...\n",
    "This example shows how a figure with two subplots could be created."
   ]
  },
  {
   "cell_type": "code",
   "execution_count": null,
   "metadata": {
    "colab": {
     "base_uri": "https://localhost:8080/",
     "height": 296
    },
    "colab_type": "code",
    "id": "yyCrigQ7a_NG",
    "outputId": "c0ec35ef-7f94-473e-a935-022a0f624337",
    "slideshow": {
     "slide_type": "fragment"
    }
   },
   "outputs": [],
   "source": [
    "# generate some data\n",
    "x = np.random.randint(low=1, high=11, size=50)\n",
    "y = x + np.random.randint(1, 3, size=x.size)\n",
    "data = np.column_stack((x, y))\n",
    "\n",
    "# create figure with 2 subplots\n",
    "fig, axes = plt.subplots(nrows=1, ncols=2, figsize=(8, 4))\n",
    "# define content of 1st subplot\n",
    "axes[0].scatter(x=x, y=y, marker='o', c='r', edgecolor='b')\n",
    "axes[0].set_title('Scatter: $x$ versus $y$')\n",
    "axes[0].set_xlabel('$x$')\n",
    "axes[0].set_ylabel('$y$')\n",
    "# define content of 2nd subplot\n",
    "axes[1].hist(data, bins=np.arange(data.min(), data.max()),label=('x', 'y'))\n",
    "axes[1].legend(loc='best')\n",
    "axes[1].set_title('Frequencies of $x$ and $y$')\n",
    "axes[1].yaxis.tick_right()\n"
   ]
  },
  {
   "cell_type": "markdown",
   "metadata": {
    "colab_type": "text",
    "id": "coJuj9gvmM9G",
    "slideshow": {
     "slide_type": "slide"
    }
   },
   "source": [
    "\n",
    "\n",
    "---\n",
    "\n",
    "**Exercise (3):**\n",
    "\n",
    "Plot $sin(x)$ for $x\\in [0, 4\\pi]$.\n",
    "\n",
    "*Hint:* See the [`np.arange()`](https://docs.scipy.org/doc/numpy-1.15.0/reference/generated/numpy.arange.html) and [`np.linspace()`](https://docs.scipy.org/doc/numpy/reference/generated/numpy.linspace.html) functions.\n",
    "\n",
    "---\n",
    "\n"
   ]
  },
  {
   "cell_type": "code",
   "execution_count": null,
   "metadata": {
    "slideshow": {
     "slide_type": "fragment"
    }
   },
   "outputs": [],
   "source": []
  },
  {
   "cell_type": "markdown",
   "metadata": {
    "colab_type": "text",
    "id": "RkQ_zCBnciK-",
    "slideshow": {
     "slide_type": "slide"
    }
   },
   "source": [
    "Suppose, you want to save this figure. Normally, `fig.savefig()` is sufficient, but since this example is not running on your local machine, we need to employ some additional colab magic.\n",
    "See this [page](https://colab.research.google.com/notebooks/io.ipynb#scrollTo=p2E4EKhCWEC5) for more information about downloading files from colab to your local system. "
   ]
  },
  {
   "cell_type": "code",
   "execution_count": null,
   "metadata": {
    "colab": {},
    "colab_type": "code",
    "id": "RO9aC21lchhr",
    "slideshow": {
     "slide_type": "fragment"
    }
   },
   "outputs": [],
   "source": [
    "# this only works when executed in colab\n",
    "from google.colab import files    # we need this to interact \n",
    "                                  # with the remote file system\n",
    "figure_name = 'test_fig.png'\n",
    "fig.savefig(figure_name, dpi=300) # this is the standard matplotlib save command\n",
    "                                  # Note that this is a command of a 'figure' object\n",
    "files.download(figure_name)       # download file to your local machine"
   ]
  },
  {
   "cell_type": "markdown",
   "metadata": {
    "colab_type": "text",
    "id": "s9UMHPETfSrC",
    "slideshow": {
     "slide_type": "fragment"
    }
   },
   "source": [
    "You know the basics now! We will go into more detail as we face specific plotting needs during the course."
   ]
  },
  {
   "cell_type": "markdown",
   "metadata": {},
   "source": [
    "##### About \n",
    "This notebook is part of the *biosci670* course on *Mathematical Modeling and Methods for Biomedical Science*.\n",
    "See https://github.com/cohmathonc/biosci670 for more information and material."
   ]
  },
  {
   "cell_type": "markdown",
   "metadata": {
    "colab_type": "text",
    "id": "p3jvjSI_u4Wc",
    "slideshow": {
     "slide_type": "notes"
    }
   },
   "source": [
    "## The pandas package"
   ]
  },
  {
   "cell_type": "markdown",
   "metadata": {
    "colab_type": "text",
    "id": "lDVLX7GyvCK4",
    "slideshow": {
     "slide_type": "notes"
    }
   },
   "source": [
    "The Python Data Analysis Library [pandas](https://pandas.pydata.org) provides data structures and data anlysis tools that are convenient for working with datasets.\n",
    "We will only introduce the most basic functions of this package here. For more details, see the official [package overview](http://pandas.pydata.org/pandas-docs/stable/getting_started/overview.html) and [10 minutes introduction](http://pandas.pydata.org/pandas-docs/stable/getting_started/10min.html)."
   ]
  },
  {
   "cell_type": "markdown",
   "metadata": {
    "colab_type": "text",
    "id": "aG2JoB3bwMBd",
    "slideshow": {
     "slide_type": "notes"
    }
   },
   "source": [
    "One of the data structures that pandas provides is the `DataFrame`. This corresponds to a *table* in which each row is identified by an *index* and each *column* by a column name."
   ]
  },
  {
   "cell_type": "code",
   "execution_count": null,
   "metadata": {
    "colab": {
     "base_uri": "https://localhost:8080/",
     "height": 204
    },
    "colab_type": "code",
    "id": "vNfmd0IlwuUH",
    "outputId": "63e41773-9bf1-48c5-a4c0-5b9973fbd40b",
    "slideshow": {
     "slide_type": "notes"
    }
   },
   "outputs": [],
   "source": [
    "import numpy as np\n",
    "import pandas as pd\n",
    "\n",
    "df = pd.DataFrame(np.random.randn(8, 3),columns=['A', 'B', 'C'])\n",
    "\n",
    "print(df)\n",
    "\n",
    "print(\"columns: \", df.columns)\n",
    "print(\"index:   \", df.index)"
   ]
  },
  {
   "cell_type": "markdown",
   "metadata": {
    "colab_type": "text",
    "id": "aj5e0t0txsdt",
    "slideshow": {
     "slide_type": "notes"
    }
   },
   "source": [
    "Each column in a DataFrame can be accessed by its name. Pandas calls the object that forms a 'column', a *Series*.\n",
    "Any Series has an *index*, a *name*, an *values* of a specific *data type*."
   ]
  },
  {
   "cell_type": "code",
   "execution_count": null,
   "metadata": {
    "colab": {
     "base_uri": "https://localhost:8080/",
     "height": 119
    },
    "colab_type": "code",
    "id": "fXDFtgjuyFID",
    "outputId": "d2bdf789-23f6-4357-dfbc-fcc7804ed281",
    "slideshow": {
     "slide_type": "notes"
    }
   },
   "outputs": [],
   "source": [
    "colA = df.A     # or df['A']\n",
    "\n",
    "print( type(colA) )\n",
    "\n",
    "print(\"Name of Series: \", colA.name)\n",
    "print(\"Index of Series: \", colA.index)\n",
    "print(\"values of Series: \", colA.values)\n",
    "print(\"DataType of Series: \", colA.dtype)"
   ]
  },
  {
   "cell_type": "markdown",
   "metadata": {
    "colab_type": "text",
    "id": "zfdOvFhSzKAA",
    "slideshow": {
     "slide_type": "notes"
    }
   },
   "source": [
    "The values of a pandas *Series* are numpy arrays!"
   ]
  },
  {
   "cell_type": "code",
   "execution_count": null,
   "metadata": {
    "colab": {
     "base_uri": "https://localhost:8080/",
     "height": 34
    },
    "colab_type": "code",
    "id": "qUgyMiwyzPL3",
    "outputId": "34e37c1a-a3ac-4f50-cc49-9ee31ee0be56",
    "slideshow": {
     "slide_type": "notes"
    }
   },
   "outputs": [],
   "source": [
    "print( type(colA.values) )"
   ]
  },
  {
   "cell_type": "markdown",
   "metadata": {
    "colab_type": "text",
    "id": "dQEmvJsjzZbB",
    "slideshow": {
     "slide_type": "notes"
    }
   },
   "source": [
    "And we can use them for computations as any other numpy arrays. For example, we can create a new numpy array from existing arrays and add it to the *DataFrame*."
   ]
  },
  {
   "cell_type": "code",
   "execution_count": null,
   "metadata": {
    "colab": {
     "base_uri": "https://localhost:8080/",
     "height": 170
    },
    "colab_type": "code",
    "id": "Y3VlClCWzyUf",
    "outputId": "797fc6f7-7ddd-4a1d-b249-4a631a0bcaec",
    "slideshow": {
     "slide_type": "notes"
    }
   },
   "outputs": [],
   "source": [
    "df['new'] = df['A'] + df['B']**2\n",
    "\n",
    "print(df)"
   ]
  },
  {
   "cell_type": "markdown",
   "metadata": {
    "colab_type": "text",
    "id": "E0_Ie7Lv0IxK",
    "slideshow": {
     "slide_type": "notes"
    }
   },
   "source": [
    "It is also possible to access specific elements in a *DataFrame*, or change their value:"
   ]
  },
  {
   "cell_type": "code",
   "execution_count": null,
   "metadata": {
    "colab": {
     "base_uri": "https://localhost:8080/",
     "height": 51
    },
    "colab_type": "code",
    "id": "NjZK5B-40QhC",
    "outputId": "739756d8-f2fa-4553-ac6a-e44163d2bdc3",
    "slideshow": {
     "slide_type": "notes"
    }
   },
   "outputs": [],
   "source": [
    "print( df.loc[3, 'new'] )\n",
    "\n",
    "df.loc[3, 'new'] = 10\n",
    "\n",
    "print( df.loc[3, 'new'] )"
   ]
  },
  {
   "cell_type": "markdown",
   "metadata": {
    "colab_type": "text",
    "id": "uaCsuT_00iTx",
    "slideshow": {
     "slide_type": "notes"
    }
   },
   "source": [
    "An existing *DataFrame* can be extended, for example by incremeting its index:"
   ]
  },
  {
   "cell_type": "code",
   "execution_count": null,
   "metadata": {
    "colab": {
     "base_uri": "https://localhost:8080/",
     "height": 187
    },
    "colab_type": "code",
    "id": "bxMtuVZH0n9u",
    "outputId": "c05a5287-66c7-4eb7-e4c2-7b699a1e87b0",
    "slideshow": {
     "slide_type": "notes"
    }
   },
   "outputs": [],
   "source": [
    "df.loc[8, 'new'] = 1\n",
    "\n",
    "print(df)"
   ]
  },
  {
   "cell_type": "markdown",
   "metadata": {
    "colab_type": "text",
    "id": "h-xAQV4m08Lp",
    "slideshow": {
     "slide_type": "notes"
    }
   },
   "source": [
    "There are different ways to create *DataFrame*s.\n",
    "If you have various numpy arrays that you would like to collect, display or process, the following approach is convenient:"
   ]
  },
  {
   "cell_type": "code",
   "execution_count": null,
   "metadata": {
    "colab": {
     "base_uri": "https://localhost:8080/",
     "height": 359
    },
    "colab_type": "code",
    "id": "nKUaqJkK1aCD",
    "outputId": "6a130888-823c-4d3e-9899-51252a6b31e2",
    "slideshow": {
     "slide_type": "notes"
    }
   },
   "outputs": [],
   "source": [
    "array_1 = np.random.randn( 10 )\n",
    "array_2 = np.random.randn( 10 )\n",
    "array_3 = np.random.randn( 10 )\n",
    "array_4 = np.random.randn( 10 )\n",
    "\n",
    "array_dict = {\"my_first_array\" : array_1,\n",
    "              \"my_second_array\" : array_2,\n",
    "              \"my_third_array\" : array_3,\n",
    "              \"my_fourth_array\" : array_4}\n",
    "\n",
    "df = pd.DataFrame(array_dict)\n",
    "\n",
    "df"
   ]
  },
  {
   "cell_type": "markdown",
   "metadata": {
    "colab_type": "text",
    "id": "dENuJ_le40RA",
    "slideshow": {
     "slide_type": "notes"
    }
   },
   "source": [
    "Pandas also supports plotting functionalities from matplotlib, directly from DataFrames. See the [user guide](https://pandas.pydata.org/pandas-docs/stable/user_guide/visualization.html) for an introduction:"
   ]
  },
  {
   "cell_type": "code",
   "execution_count": null,
   "metadata": {
    "colab": {
     "base_uri": "https://localhost:8080/",
     "height": 415
    },
    "colab_type": "code",
    "id": "VX2EfIVx5RU8",
    "outputId": "ebaadfe5-6dbc-4fc3-c077-83dd0c916657",
    "slideshow": {
     "slide_type": "notes"
    }
   },
   "outputs": [],
   "source": [
    "df.plot.scatter(x=\"my_first_array\", y=\"my_third_array\")"
   ]
  },
  {
   "cell_type": "markdown",
   "metadata": {
    "colab_type": "text",
    "id": "EDF9itDLC7Ov",
    "slideshow": {
     "slide_type": "notes"
    }
   },
   "source": [
    "# Exercises"
   ]
  },
  {
   "cell_type": "markdown",
   "metadata": {
    "colab_type": "text",
    "id": "uPwoYR89hlTs",
    "slideshow": {
     "slide_type": "notes"
    }
   },
   "source": [
    "- In the [approximate Euler's number](https://github.com/cohmathonc/biosci670/blob/master/IntroductionComputationalMethods/exercises/03_ApproximateEulerNumber.ipynb) exercise you will explore the effect of working with different numeric types on the precision of your results, and visualize results using `matplotlib`. (**optional**)"
   ]
  },
  {
   "cell_type": "markdown",
   "metadata": {},
   "source": [
    "##### About \n",
    "This notebook is part of the *biosci670* course on *Mathematical Modeling and Methods for Biomedical Science*.\n",
    "See https://github.com/cohmathonc/biosci670 for more information and material."
   ]
  }
 ],
 "metadata": {
  "celltoolbar": "Slideshow",
  "colab": {
   "collapsed_sections": [],
   "include_colab_link": true,
   "name": "L02_IntroPythonForScientificComputing.ipynb",
   "provenance": [],
   "toc_visible": true,
   "version": "0.3.2"
  },
  "kernelspec": {
   "display_name": "Python 3",
   "language": "python",
   "name": "python3"
  },
  "language_info": {
   "codemirror_mode": {
    "name": "ipython",
    "version": 3
   },
   "file_extension": ".py",
   "mimetype": "text/x-python",
   "name": "python",
   "nbconvert_exporter": "python",
   "pygments_lexer": "ipython3",
   "version": "3.6.8"
  },
  "toc": {
   "base_numbering": 1,
   "nav_menu": {},
   "number_sections": true,
   "sideBar": true,
   "skip_h1_title": false,
   "title_cell": "Table of Contents",
   "title_sidebar": "Contents",
   "toc_cell": false,
   "toc_position": {},
   "toc_section_display": true,
   "toc_window_display": false
  }
 },
 "nbformat": 4,
 "nbformat_minor": 2
}
