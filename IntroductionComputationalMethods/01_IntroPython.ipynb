{
 "cells": [
  {
   "cell_type": "markdown",
   "metadata": {
    "colab_type": "text",
    "id": "view-in-github",
    "slideshow": {
     "slide_type": "notes"
    }
   },
   "source": [
    "<a href=\"https://colab.research.google.com/github/cohmathonc/biosci670/blob/master/IntroductionComputationalMethods/01_IntroPython.ipynb\" target=\"_parent\"><img src=\"https://colab.research.google.com/assets/colab-badge.svg\" alt=\"Open In Colab\"/></a>"
   ]
  },
  {
   "cell_type": "code",
   "execution_count": null,
   "metadata": {},
   "outputs": [],
   "source": []
  },
  {
   "cell_type": "markdown",
   "metadata": {
    "slideshow": {
     "slide_type": "slide"
    }
   },
   "source": [
    "# What is a 'Program'"
   ]
  },
  {
   "cell_type": "markdown",
   "metadata": {
    "slideshow": {
     "slide_type": "fragment"
    }
   },
   "source": [
    "**A program is a sequence of instructions that specifies how to perform a computation.**\n",
    "\n",
    "Details will depend on the kind of computation, but typically the following basic instructions are involved:\n",
    "\n",
    "- *input*: Get data.\n",
    "- *output*: Display data.\n",
    "- *math*: Perform mathematical operations.\n",
    "- *conditional execution*: Check for conditions and selectively run specific code.\n",
    "- *repetition*: Perform some action repeatedly.\n"
   ]
  },
  {
   "cell_type": "markdown",
   "metadata": {
    "slideshow": {
     "slide_type": "slide"
    }
   },
   "source": [
    "Consider the following task:\n",
    "    \n",
    "> Compute the difference between largest and smallest number from a list of numbers.\n"
   ]
  },
  {
   "cell_type": "markdown",
   "metadata": {
    "slideshow": {
     "slide_type": "fragment"
    }
   },
   "source": [
    "How to 'translate' this into a 'program'?\n",
    "- Define problem, and specific task.\n",
    "- Develop a computational strategy, an [*algorithm*](https://en.wikipedia.org/wiki/Algorithm), that solves this task.\n",
    "- Implement this algorithm in a programming language.\n",
    "- Test it!\n",
    "\n",
    "Implementation, and thus the specific programming language, is only one of the steps in the problem solving context!"
   ]
  },
  {
   "cell_type": "markdown",
   "metadata": {
    "slideshow": {
     "slide_type": "slide"
    }
   },
   "source": [
    "> Compute the difference between largest and smallest number from a list of numbers.\n",
    "\n",
    "Steps:\n",
    "- Find largest number $x_\\text{max}$ in list.\n",
    "- Find smallest number $x_\\text{min}$ in list.\n",
    "- Compute $x_\\text{max}-x_\\text{min}$."
   ]
  },
  {
   "cell_type": "markdown",
   "metadata": {
    "slideshow": {
     "slide_type": "slide"
    }
   },
   "source": [
    "A possible **algorithm** for finding the largest number $x_\\text{max}$ in list of numbers:\n",
    "\n",
    "- **Initialization**: Initialize variable $x_\\text{max}$ with a starting value $x_\\text{0}$: $x_\\text{max}$ = $x_\\text{0}$.\n",
    "- **Repeat** for every number in the list:\n",
    "    - **If** current number $x_i>x_\\text{max}$, **then**:\n",
    "        - update $x_\\text{max}$: $x_\\text{max} = x_i$\n",
    "- **Output**: Value of $x_\\text{max}$."
   ]
  },
  {
   "cell_type": "markdown",
   "metadata": {
    "slideshow": {
     "slide_type": "fragment"
    }
   },
   "source": [
    "What value would you choose for $x_0$.\n",
    "\n",
    "Does this algorithm produce the correct result for lists containing *any* kind of 'numbers' or only under certain conditions?"
   ]
  },
  {
   "cell_type": "markdown",
   "metadata": {
    "slideshow": {
     "slide_type": "fragment"
    }
   },
   "source": [
    "Beware of **implicit assumptions** and **resulting limitations**!"
   ]
  },
  {
   "cell_type": "markdown",
   "metadata": {
    "slideshow": {
     "slide_type": "notes"
    }
   },
   "source": [
    "Programs are specified in *formal languages*, that is, languages that are designed for specific applications.\n",
    "For example, the notation of mathematics is a formal language for denoting relationships among numbers and symbols. \n",
    "\n",
    "**Programming languages are formal languages designed to express computations.**\n",
    "\n",
    "The structure of statements in formal languages tends to follow strict syntax rules.\n",
    "These rules define the basic language elements, so-called *tokens*, and how those tokens can be combined.\n",
    "The process of reading and 'decoding' the structure of a sentence is called *parsing*.\n",
    "\n",
    "Formal languages are designed to be *unambiguous*, *concise* and *literal*.\n",
    "This allows the meaning of a computer program to be understood entirely by analysis of its tokens and structure.\n",
    "\n",
    "See the [first chapter](http://greenteapress.com/thinkpython2/html/thinkpython2002.html) of the [Think Python](http://greenteapress.com/wp/think-python-2e/) book for a discussion of differences between *formal* and *natural* languages."
   ]
  },
  {
   "cell_type": "markdown",
   "metadata": {
    "colab_type": "text",
    "id": "AGJpcl3Y9ZzT",
    "slideshow": {
     "slide_type": "notes"
    }
   },
   "source": [
    "# Basic Programming Concepts in Python"
   ]
  },
  {
   "cell_type": "markdown",
   "metadata": {
    "colab_type": "text",
    "id": "hBulHHxYCUhn",
    "slideshow": {
     "slide_type": "notes"
    }
   },
   "source": [
    "The remainder of this notebook provides a very quick introduction to basic important programming constructs, and how these are used in Python. \n",
    "\n",
    "Python has an extensive [official documentation](https://docs.python.org/3/), including a very detailed [tutorial](https://docs.python.org/3/tutorial/index.html).\n",
    "Alternatively, [Python 101](https://python101.pythonlibrary.org) provides an in-depth introduction to general programming in python."
   ]
  },
  {
   "cell_type": "markdown",
   "metadata": {
    "slideshow": {
     "slide_type": "slide"
    }
   },
   "source": [
    "## Running Python & Basic Vocabulary"
   ]
  },
  {
   "cell_type": "markdown",
   "metadata": {
    "slideshow": {
     "slide_type": "fragment"
    }
   },
   "source": [
    "Python is in interpreted language.\n",
    "The Python *interpreter* is a program that reads (parses) and executes Python code.\n",
    "For an interactive console click [here](https://repl.it/languages/python3), and see the [introduction notebook](https://github.com/cohmathonc/biosci670/blob/master/IntroductionComputationalMethods/00_CompWorkingEnv.ipynb) for installation option.\n",
    "\n",
    "In Jupyter Notebooks, code is written and executed in *code cells* like the following:"
   ]
  },
  {
   "cell_type": "code",
   "execution_count": null,
   "metadata": {
    "code_folding": [],
    "colab": {},
    "colab_type": "code",
    "id": "n1qlNvNM60WQ",
    "slideshow": {
     "slide_type": "slide"
    }
   },
   "outputs": [],
   "source": [
    "# This is a comment\n",
    "print(\"Hello world!\") # this is an inline comment\n",
    "\n",
    "a = 1\n",
    "b = a + 9\n",
    "my_very_long_and_descriptive_variable_name = 10\n",
    "print(b + my_very_long_and_descriptive_variable_name)"
   ]
  },
  {
   "cell_type": "markdown",
   "metadata": {
    "slideshow": {
     "slide_type": "fragment"
    }
   },
   "source": [
    "This little example alread includes many essential components of a *program*:\n",
    "\n",
    "- **value**: E.g. letter or number, `\"Hello world!\"`, `1`.\n",
    "- **operator**: Special symbols that represent computations. E.g. addition `+`, assignment `=`.\n",
    "- **variable**: A 'placeholder' for a value. E.g.`a`, `b`, `my_very_long_and_descriptive_variable_name`.\n",
    "- **expression**: A combination of values, operators and variables. E.g. `a + 9`.\n",
    "- **statement**: A unit of code that has an effect, like creating a variable or displaying a value. E.g. `print()`.\n",
    "\n",
    "The Python interpreter:\n",
    "- *evaluates* an expression, i.e. finds its value.\n",
    "- *executes* a statement, i.e. performs the set of instructions defined by the statement."
   ]
  },
  {
   "cell_type": "markdown",
   "metadata": {
    "slideshow": {
     "slide_type": "slide"
    }
   },
   "source": [
    "## Basic Arithmetic"
   ]
  },
  {
   "cell_type": "markdown",
   "metadata": {
    "colab_type": "text",
    "id": "0FPuwPr7Nhic",
    "slideshow": {
     "slide_type": "fragment"
    }
   },
   "source": [
    "Besides the standard arithmetic operations, Python 3 distinguishes division \"/\" and integer division \"//\". "
   ]
  },
  {
   "cell_type": "code",
   "execution_count": null,
   "metadata": {
    "colab": {},
    "colab_type": "code",
    "id": "r-IeeToyOHIV",
    "slideshow": {
     "slide_type": "fragment"
    }
   },
   "outputs": [],
   "source": [
    "print(4 + 3)  # addition\n",
    "print(4 - 3)  # subtraction\n",
    "print(4 * 3)  # multiplication\n",
    "print(4 / 3)  # division (here, the types are widened to 'float' automatically) \n",
    "print(4 % 3)  # modulus\n",
    "print(4 ** 3) # exponent\n",
    "print(4 // 3) # integer division"
   ]
  },
  {
   "cell_type": "markdown",
   "metadata": {
    "slideshow": {
     "slide_type": "slide"
    }
   },
   "source": [
    "The evaluation of expressions with more than one operator follows the *order of operations*:\n",
    "1. parentheses\n",
    "2. exponentiation\n",
    "3. multiplication, division before addition, subtraction\n",
    "4. operators of the same precedence are evaluated from left to right"
   ]
  },
  {
   "cell_type": "code",
   "execution_count": null,
   "metadata": {
    "slideshow": {
     "slide_type": "fragment"
    }
   },
   "outputs": [],
   "source": [
    "print( 2*(5-1), 2*5-1    )\n",
    "print( 2**2-1 , 2**(2-1) )\n",
    "print( 1/2/3  , 1/(2/3)  )"
   ]
  },
  {
   "cell_type": "markdown",
   "metadata": {
    "colab_type": "text",
    "id": "4oKx8mcFasM_",
    "slideshow": {
     "slide_type": "slide"
    }
   },
   "source": [
    "## Data Types"
   ]
  },
  {
   "cell_type": "markdown",
   "metadata": {
    "slideshow": {
     "slide_type": "fragment"
    }
   },
   "source": [
    "A *data type* or *type* constrains the possible value of an expression, defines its meaning and the operations that can be done the data. \n",
    "\n",
    "- **Numeric Types**: Integral (Integer, Booleans), Real, Complex\n",
    "- **Sequences**: Strings, Typles, Lists\n",
    "- **Mappings**: Dictionaries\n",
    "- **Callable**: Functions, Methods, Classes\n",
    "\n",
    "See the documentation for details on all [built-in types](https://docs.python.org/3/library/stdtypes.html). And this [figure](https://commons.wikimedia.org/wiki/File:Python_3._The_standard_type_hierarchy.png) for an overview of the Python 3 Type hierarchy.\n",
    "\n"
   ]
  },
  {
   "cell_type": "markdown",
   "metadata": {
    "colab_type": "text",
    "id": "JgSIICgFJ4yL",
    "slideshow": {
     "slide_type": "slide"
    }
   },
   "source": [
    "### Basic Numeric Types"
   ]
  },
  {
   "cell_type": "markdown",
   "metadata": {
    "colab_type": "text",
    "id": "gMaTu86JKkuF",
    "slideshow": {
     "slide_type": "fragment"
    }
   },
   "source": [
    "Python has three basic **numeric types**: *integers*, *floating point numbers*, and *complex numbers*."
   ]
  },
  {
   "cell_type": "code",
   "execution_count": null,
   "metadata": {
    "colab": {},
    "colab_type": "code",
    "id": "57_NNYuKJT8V",
    "slideshow": {
     "slide_type": "fragment"
    }
   },
   "outputs": [],
   "source": [
    "print(type(1))      # an integer number\n",
    "print(type(1.1))    # a floating point number\n",
    "print(type(1 + 1j)) # a complex number"
   ]
  },
  {
   "cell_type": "markdown",
   "metadata": {
    "colab_type": "text",
    "id": "cqJUwmT7O_ys",
    "slideshow": {
     "slide_type": "slide"
    }
   },
   "source": [
    "Numbers can be cast into another type. Such a conversion may \"widen\" or \"narrow\" the original type. \n",
    "- A *widening* conversion changes a value to a data type that supports any possible value of the original data, and this preserves the source value. \n",
    "- A *narrowing* conversion changes a value to a data type that may not support some of the possible values of the original data type. "
   ]
  },
  {
   "cell_type": "code",
   "execution_count": null,
   "metadata": {
    "colab": {},
    "colab_type": "code",
    "id": "Kn6Mj9zBPNjT",
    "slideshow": {
     "slide_type": "fragment"
    }
   },
   "outputs": [],
   "source": [
    "print(int(1.1))   # cast float to int\n",
    "print(float(1))   # cast int to float\n",
    "print(bool(1))    # cast int to boolean\n",
    "\n",
    "print(complex(1)) # cast int to complex\n",
    "\n",
    "# Try to convert a complex number to integer!"
   ]
  },
  {
   "cell_type": "markdown",
   "metadata": {
    "colab_type": "text",
    "id": "WiO6PAgBMF9E",
    "slideshow": {
     "slide_type": "slide"
    }
   },
   "source": [
    "Python supports mixed arithmetic, i.e. arithmetic operations can be applied to operands of different numeric types. In this case, the operand with the \"narrower\" type is \"widened\" to that of the other. "
   ]
  },
  {
   "cell_type": "code",
   "execution_count": null,
   "metadata": {
    "colab": {},
    "colab_type": "code",
    "id": "i5u6y9suM-_V",
    "slideshow": {
     "slide_type": "fragment"
    }
   },
   "outputs": [],
   "source": [
    "print(type(1+1.1)) # integer + floating number -> float\n",
    "print(type(1-1.1)) # integer - floating number -> float\n",
    "print(type(1*1.1)) # integer * floating number -> float\n",
    "print(type(1/1.1)) # integer / floating number -> float\n",
    "\n",
    "print(type((1+1j) + 1.1)) # complex + floating number -> complex"
   ]
  },
  {
   "cell_type": "markdown",
   "metadata": {
    "colab_type": "text",
    "id": "qJI02umWP3fn",
    "slideshow": {
     "slide_type": "slide"
    }
   },
   "source": [
    "The following operators allow **comparisons** between numeric types. Results of comparisons are of **boolean type**. "
   ]
  },
  {
   "cell_type": "code",
   "execution_count": null,
   "metadata": {
    "colab": {},
    "colab_type": "code",
    "id": "65BadnpVP2ku",
    "slideshow": {
     "slide_type": "fragment"
    }
   },
   "outputs": [],
   "source": [
    "print( 1.1 <  1 ) # strictly less than\n",
    "print( 1 <= 1 ) # less than or equal\n",
    "print( 1 >  1 ) # strictly greater than\n",
    "print( 1 >= 1 ) # greater than or equal\n",
    "print( \"1\" == \"2\" ) # equal (NOTE: different from assignment operator '=')\n",
    "print( 1 != 1 ) # not equal "
   ]
  },
  {
   "cell_type": "markdown",
   "metadata": {
    "colab_type": "text",
    "id": "HZphwdFtOiu8",
    "slideshow": {
     "slide_type": "fragment"
    }
   },
   "source": [
    "The boolean type can take values `True` and  `False` and is a subtype of integer. "
   ]
  },
  {
   "cell_type": "code",
   "execution_count": null,
   "metadata": {
    "colab": {},
    "colab_type": "code",
    "id": "x-PntXowNl-I",
    "slideshow": {
     "slide_type": "fragment"
    }
   },
   "outputs": [],
   "source": [
    "print(type(1 <= 1))\n",
    "print(int(True))  # True equivalent to int(1)\n",
    "print(type(False))\n",
    "print(int(False)) # False equivalent to int(0)"
   ]
  },
  {
   "cell_type": "markdown",
   "metadata": {
    "colab_type": "text",
    "id": "QWspnkZwTj2n",
    "slideshow": {
     "slide_type": "slide"
    }
   },
   "source": [
    "Boolean types, and thus comparisons like the ones above, can be combined using `and`, `or`, `not`:"
   ]
  },
  {
   "cell_type": "code",
   "execution_count": null,
   "metadata": {
    "colab": {},
    "colab_type": "code",
    "id": "UIllPdpBTuq4",
    "slideshow": {
     "slide_type": "fragment"
    }
   },
   "outputs": [],
   "source": [
    "is_it_true = (2 * 6 <= 10) and (32 / 8 >= 4) or not (5 ** 2 < 25)\n",
    "print(is_it_true)\n",
    "#                False     and      True     or not      False  \n",
    "#               (          False           ) or (     True      )      "
   ]
  },
  {
   "cell_type": "markdown",
   "metadata": {
    "colab_type": "text",
    "id": "puFbLxVRUNTF",
    "slideshow": {
     "slide_type": "slide"
    }
   },
   "source": [
    "### Strings\n",
    "\n",
    "Strings can be created in several different ways:"
   ]
  },
  {
   "cell_type": "code",
   "execution_count": null,
   "metadata": {
    "colab": {},
    "colab_type": "code",
    "id": "qFGKfrmHVGYK",
    "slideshow": {
     "slide_type": "fragment"
    }
   },
   "outputs": [],
   "source": [
    "string_1 = \"I'm a string!\"\n",
    "string_2 = 'This is another string'\n",
    "string_3 = '''and this is         \n",
    "              a \n",
    "              multiline string'''\n",
    "\n",
    "print(string_1)\n",
    "print(string_2)\n",
    "print(string_3)"
   ]
  },
  {
   "cell_type": "markdown",
   "metadata": {
    "colab_type": "text",
    "id": "bVoyWKp-VtkM",
    "slideshow": {
     "slide_type": "slide"
    }
   },
   "source": [
    "Strings can also be created from numbers, by casting a numeric data type to a string data type."
   ]
  },
  {
   "cell_type": "code",
   "execution_count": null,
   "metadata": {
    "colab": {},
    "colab_type": "code",
    "id": "myaq0IidV_bK",
    "slideshow": {
     "slide_type": "fragment"
    }
   },
   "outputs": [],
   "source": [
    "number = 123\n",
    "number_as_string = str(number)\n",
    "\n",
    "print(type(number))\n",
    "print(type(number_as_string))\n",
    "print(number_as_string)"
   ]
  },
  {
   "cell_type": "markdown",
   "metadata": {
    "colab_type": "text",
    "id": "ywjRYW30WYCj",
    "slideshow": {
     "slide_type": "notes"
    }
   },
   "source": [
    "Strings composed of numbers can be converted to an integer datatype. But only that."
   ]
  },
  {
   "cell_type": "code",
   "execution_count": null,
   "metadata": {
    "colab": {},
    "colab_type": "code",
    "id": "c-X7VCStWW6p",
    "slideshow": {
     "slide_type": "notes"
    }
   },
   "outputs": [],
   "source": [
    "number_2 = int(\"1233\")\n",
    "print(type(number_2))\n",
    "\n",
    "# Try to convert\n",
    "# 1) '1.2' to float\n",
    "# 2) 'ABC' to int\n"
   ]
  },
  {
   "cell_type": "markdown",
   "metadata": {
    "colab_type": "text",
    "id": "VCjKwhSvXSFh",
    "slideshow": {
     "slide_type": "notes"
    }
   },
   "source": [
    "**String formatting** allows you to insert/substitute values into a base string. We will use this later, for example to monitor progress of computations."
   ]
  },
  {
   "cell_type": "code",
   "execution_count": null,
   "metadata": {
    "colab": {},
    "colab_type": "code",
    "id": "va2xoUxKXxRr",
    "slideshow": {
     "slide_type": "notes"
    }
   },
   "outputs": [],
   "source": [
    "day = \"Tuesday\"\n",
    "lecture = 4\n",
    "duration = 1.5\n",
    "\n",
    "# insert string in string\n",
    "string_1 = \"Today is %s.\" %day\n",
    "print(string_1)\n",
    "\n",
    "# insert integer in string\n",
    "string_2 = \"This is the %ith lecture.\" %lecture\n",
    "print(string_2)\n",
    "\n",
    "# insert multiple items in string\n",
    "string_3 = \"Today is %s, and this is the %ith lecture.\" %(day, lecture)\n",
    "print(string_3)\n",
    "\n",
    "# add a float\n",
    "string_4 = \"Today is %s, and this is the %ith lecture which lasts for %fh.\" \\\n",
    "            %(day, lecture, duration)\n",
    "print(string_4)\n",
    "\n",
    "# and a little nicer:\n",
    "string_5 = \"Today is %s, and this is the %ith lecture which lasts for %.1fh.\" \\\n",
    "            %(day, lecture, duration)\n",
    "print(string_5)"
   ]
  },
  {
   "cell_type": "code",
   "execution_count": null,
   "metadata": {
    "colab": {},
    "colab_type": "code",
    "id": "2b54OWPDcJ7z",
    "slideshow": {
     "slide_type": "notes"
    }
   },
   "outputs": [],
   "source": [
    "string_6 = \"Today is {1}, and this is the {0}ith lecture which lasts for {2}h.\"\\\n",
    "            .format(lecture, day, duration)\n",
    "print(string_6)"
   ]
  },
  {
   "cell_type": "markdown",
   "metadata": {
    "colab_type": "text",
    "id": "1g9XmWjxZIe2",
    "slideshow": {
     "slide_type": "notes"
    }
   },
   "source": [
    "Above method is often referred to as \"printf\" formatting due to the name of the function of the C programming language that popularized this formatting style.\n",
    "Python also supports another formatting method that is described [here](in more detail)."
   ]
  },
  {
   "cell_type": "markdown",
   "metadata": {
    "colab_type": "text",
    "id": "lpmyNz7UQ9nq",
    "slideshow": {
     "slide_type": "slide"
    }
   },
   "source": [
    "### Lists, Tuples, Dictionaries\n",
    "\n",
    "*Lists*, *tuples* and *dictionaries* are different kinds of \"containers\" that allow collecting and organizing information. "
   ]
  },
  {
   "cell_type": "markdown",
   "metadata": {
    "colab_type": "text",
    "id": "HgiNU89wdCvq",
    "slideshow": {
     "slide_type": "slide"
    }
   },
   "source": [
    "#### Lists\n",
    "\n",
    "Python **list**s are ordered containers that can take elements of different types."
   ]
  },
  {
   "cell_type": "code",
   "execution_count": null,
   "metadata": {
    "colab": {},
    "colab_type": "code",
    "id": "3oNy84TodTEw",
    "slideshow": {
     "slide_type": "fragment"
    }
   },
   "outputs": [],
   "source": [
    "my_list_empty = []     # this is an empty list, alternatively use 'list()'\n",
    "print(my_list_empty)\n",
    "\n",
    "my_list_1 = [1,2,3,4,5]\n",
    "my_list_2 = [\"a\", \"b\", \"c\"]\n",
    "my_list_3 = [1, \"two\", 3, \"four\", 5]\n",
    "\n",
    "print(my_list_1)\n",
    "print(my_list_2)\n",
    "print(my_list_3)"
   ]
  },
  {
   "cell_type": "markdown",
   "metadata": {
    "colab_type": "text",
    "id": "v6RX3fQwd9eh",
    "slideshow": {
     "slide_type": "slide"
    }
   },
   "source": [
    "In fact, lists can contain objects of any type, also other lists."
   ]
  },
  {
   "cell_type": "code",
   "execution_count": null,
   "metadata": {
    "colab": {},
    "colab_type": "code",
    "id": "JlaUnHU2eU0P",
    "slideshow": {
     "slide_type": "fragment"
    }
   },
   "outputs": [],
   "source": [
    "nested_list = [my_list_1, my_list_2]\n",
    "print(nested_list)"
   ]
  },
  {
   "cell_type": "markdown",
   "metadata": {
    "colab_type": "text",
    "id": "VWtef5jcel0P",
    "slideshow": {
     "slide_type": "fragment"
    }
   },
   "source": [
    "Lists can be extended and combined."
   ]
  },
  {
   "cell_type": "code",
   "execution_count": null,
   "metadata": {
    "colab": {},
    "colab_type": "code",
    "id": "yLKbzCW2en5d",
    "slideshow": {
     "slide_type": "fragment"
    }
   },
   "outputs": [],
   "source": [
    "# append element to list\n",
    "print(\"my_list_1 before: \", my_list_1)\n",
    "my_list_1.append(6)\n",
    "print(\"my_list_1 after: \", my_list_1)\n",
    "\n",
    "# extend list\n",
    "extended_list = my_list_2 + my_list_3\n",
    "print(extended_list)"
   ]
  },
  {
   "cell_type": "markdown",
   "metadata": {
    "colab_type": "text",
    "id": "18F5ppWOfGEP",
    "slideshow": {
     "slide_type": "slide"
    }
   },
   "source": [
    "We can access elements of a list by specifying the index of the element of interest."
   ]
  },
  {
   "cell_type": "code",
   "execution_count": null,
   "metadata": {
    "colab": {},
    "colab_type": "code",
    "id": "Y3ERjJ5OfPqM",
    "slideshow": {
     "slide_type": "fragment"
    }
   },
   "outputs": [],
   "source": [
    "print(my_list_1[0])  # first element\n",
    "print(my_list_1[1])  # second element\n",
    "print(my_list_1[-1]) # last element\n",
    "print(my_list_1[-2]) # second last element"
   ]
  },
  {
   "cell_type": "markdown",
   "metadata": {
    "colab_type": "text",
    "id": "KiQZHFgqflUQ",
    "slideshow": {
     "slide_type": "fragment"
    }
   },
   "source": [
    "We can also extract multiple elements from a list; this is called *slicing*.\n"
   ]
  },
  {
   "cell_type": "code",
   "execution_count": null,
   "metadata": {
    "colab": {},
    "colab_type": "code",
    "id": "PfYIGmtifp0M",
    "slideshow": {
     "slide_type": "fragment"
    }
   },
   "outputs": [],
   "source": [
    "print(my_list_1[0:2])    # first 2 elements\n",
    "print(my_list_1[0:5:2])  # every second element of the first 5 elements"
   ]
  },
  {
   "cell_type": "markdown",
   "metadata": {
    "colab_type": "text",
    "id": "Sngc4xyVgP7a",
    "slideshow": {
     "slide_type": "slide"
    }
   },
   "source": [
    "Python uses *zero-indexing*, i.e. the first element always has index 0. Therefore, if the list has N elements, the last element is at position N-1. \n",
    "\n"
   ]
  },
  {
   "cell_type": "code",
   "execution_count": null,
   "metadata": {
    "colab": {},
    "colab_type": "code",
    "id": "qRkIgEF3gc28",
    "slideshow": {
     "slide_type": "fragment"
    }
   },
   "outputs": [],
   "source": [
    "N = len(my_list_1)                     # len() gives length of list\n",
    "print(\"Length of list:          \", N)\n",
    "print(\"Last element (method 1): \", my_list_1[N-1])\n",
    "print(\"Last element (method 2): \", my_list_1[-1])\n"
   ]
  },
  {
   "cell_type": "markdown",
   "metadata": {
    "colab_type": "text",
    "id": "xDS47PbaXu6d",
    "slideshow": {
     "slide_type": "fragment"
    }
   },
   "source": [
    "We can easily check whether a list contains a specific element:"
   ]
  },
  {
   "cell_type": "code",
   "execution_count": null,
   "metadata": {
    "colab": {},
    "colab_type": "code",
    "id": "aCbrMC1MX4nr",
    "slideshow": {
     "slide_type": "fragment"
    }
   },
   "outputs": [],
   "source": [
    "is_two_in_list = 'two' in my_list_3\n",
    "print(my_list_3)\n",
    "print(is_two_in_list)"
   ]
  },
  {
   "cell_type": "markdown",
   "metadata": {
    "colab_type": "text",
    "id": "pV_Vu7OLipsm",
    "slideshow": {
     "slide_type": "slide"
    }
   },
   "source": [
    "Python distinguishes, *mutable* and *immutable* types, that is types whose value can be changed after creation and types that do not allow this.\n",
    "Lists are *mutable*:"
   ]
  },
  {
   "cell_type": "code",
   "execution_count": null,
   "metadata": {
    "colab": {},
    "colab_type": "code",
    "id": "NEKAU9JVi8RW",
    "slideshow": {
     "slide_type": "fragment"
    }
   },
   "outputs": [],
   "source": [
    "print(my_list_1)\n",
    "my_list_1[0] = 100\n",
    "print(my_list_1)"
   ]
  },
  {
   "cell_type": "markdown",
   "metadata": {
    "colab_type": "text",
    "id": "SOLUDIY6iDKm",
    "slideshow": {
     "slide_type": "slide"
    }
   },
   "source": [
    "#### Tuples \n",
    "**Tuples** are similar to lists, but they are *immutable*. Tuples are created with parentheses, rather than square brackets."
   ]
  },
  {
   "cell_type": "code",
   "execution_count": null,
   "metadata": {
    "colab": {},
    "colab_type": "code",
    "id": "5KIzuoMTc7fS",
    "slideshow": {
     "slide_type": "fragment"
    }
   },
   "outputs": [],
   "source": [
    "my_tuple = (1, 2, 3, 4, 5)\n",
    "print(my_tuple[2:5])\n",
    "\n",
    "# now, try to change an element in the tuple"
   ]
  },
  {
   "cell_type": "markdown",
   "metadata": {
    "colab_type": "text",
    "id": "uSKcW4o1hIeT",
    "slideshow": {
     "slide_type": "slide"
    }
   },
   "source": [
    "We have introduced strings before. Strings behave very similarly to tuples of characters!\n",
    "\n",
    "\n",
    "\n",
    "---\n",
    "\n",
    "**Exercise (1):**\n",
    "\n",
    "Create a string and:\n",
    "\n",
    "1.  access individual characters in the string\n",
    "2.  extract a substring of more than 1 character length\n",
    "2.  concatenate two strings\n",
    "3. try to change one of the string's characters\n",
    "\n",
    "---\n",
    "\n"
   ]
  },
  {
   "cell_type": "code",
   "execution_count": null,
   "metadata": {
    "slideshow": {
     "slide_type": "fragment"
    }
   },
   "outputs": [],
   "source": []
  },
  {
   "cell_type": "markdown",
   "metadata": {
    "colab_type": "text",
    "id": "0Y0WBDNdkSzH",
    "slideshow": {
     "slide_type": "slide"
    }
   },
   "source": [
    "#### Dictionaries\n",
    "A python **dictionary** is a mapping. It links *keys* to *values*, so that any value can be accessed by a specific key. Keys can be of any immutable type (e.g. numeric or strings), values can be of any type. Within a dictionary, key-value pairs are unordered."
   ]
  },
  {
   "cell_type": "code",
   "execution_count": null,
   "metadata": {
    "colab": {},
    "colab_type": "code",
    "id": "KFBnxx-7lJ_G",
    "slideshow": {
     "slide_type": "fragment"
    }
   },
   "outputs": [],
   "source": [
    "my_dict_empty = {}  # an empty dictionary; alternatively dict()\n",
    "my_dict = {1 : \"one\", \n",
    "           2 : \"two\",\n",
    "           3 : \"three\"}\n",
    "print(my_dict)\n",
    "\n",
    "my_dict[10] = \"ten\" # add an item to a dictionary\n",
    "print(my_dict)\n",
    "\n",
    "print(my_dict[1])   # access an item in a dictionary"
   ]
  },
  {
   "cell_type": "markdown",
   "metadata": {
    "colab_type": "text",
    "id": "zBZHCGjwmORT",
    "slideshow": {
     "slide_type": "fragment"
    }
   },
   "source": [
    "Keys and values in a dictionary can be accessed and retrieved as lists:"
   ]
  },
  {
   "cell_type": "code",
   "execution_count": null,
   "metadata": {
    "colab": {},
    "colab_type": "code",
    "id": "eKZ1HxoGmT9f",
    "slideshow": {
     "slide_type": "fragment"
    }
   },
   "outputs": [],
   "source": [
    "print(my_dict.keys())\n",
    "print(my_dict.values())\n",
    "\n",
    "# this allows you to check if a given key is available\n",
    "a_key = 1\n",
    "is_key_in_dict = a_key in my_dict.keys()\n",
    "print(\"is key in dict:           \", is_key_in_dict)\n",
    "print(\"value associated to key : \", my_dict[a_key])"
   ]
  },
  {
   "cell_type": "markdown",
   "metadata": {
    "colab_type": "text",
    "id": "SViveQDomfUg",
    "slideshow": {
     "slide_type": "notes"
    }
   },
   "source": [
    "Like lists, dictionaries can be nested. \n",
    "\n",
    "\n",
    "\n",
    "---\n",
    "**Exercise (2):**\n",
    "\n",
    "Create a nested dictionary and access an object from the 'inner' dictionary.\n",
    "\n",
    "---\n",
    "\n"
   ]
  },
  {
   "cell_type": "markdown",
   "metadata": {
    "colab_type": "text",
    "id": "LE3CXgAkd0pN",
    "slideshow": {
     "slide_type": "notes"
    }
   },
   "source": [
    "### Mutable vs. immutable data types"
   ]
  },
  {
   "cell_type": "markdown",
   "metadata": {
    "colab_type": "text",
    "id": "d8wDu8sleBTT",
    "slideshow": {
     "slide_type": "notes"
    }
   },
   "source": [
    "There are some subtle consequences resulting from data types being mutable or not. Being aware of those will help you avoid unexpected behavior when using mutable types such as lists."
   ]
  },
  {
   "cell_type": "code",
   "execution_count": null,
   "metadata": {
    "colab": {},
    "colab_type": "code",
    "id": "o1zXp-iagtyl",
    "slideshow": {
     "slide_type": "notes"
    }
   },
   "outputs": [],
   "source": [
    "list_1 = [1, 'two', 3, 'four', 5]\n",
    "list_2 = list_1                    # we assign list_1 to a new variable list_2\n",
    "print('list_1 before: ',list_1)\n",
    "print('list_2 before: ',list_2)\n",
    "\n",
    "list_1.append('six')               # append an additional element to list_1 \n",
    "print('list_1 after: ',list_1)     # this is expected\n",
    "print('list_2 after: ',list_2)     # this may surprise you\n",
    "\n",
    "list_1[2] = 'three'                # change an element in list_1\n",
    "print('list_1 after: ',list_1)     # again, this is expected\n",
    "print('list_2 after: ',list_2)     # \n"
   ]
  },
  {
   "cell_type": "markdown",
   "metadata": {
    "colab_type": "text",
    "id": "mFcy6WckhbEk",
    "slideshow": {
     "slide_type": "notes"
    }
   },
   "source": [
    "We saw that the 'copy' that we created of `list_1` is not a copy but instead just a different name for the same object. We can confirm this by comparing the 'identity' of those two variables. \n",
    "\n",
    "Python has an `id()` function that returns the 'identity' of an object. This identity has to be unique and constant for this object during its lifetime."
   ]
  },
  {
   "cell_type": "code",
   "execution_count": null,
   "metadata": {
    "colab": {},
    "colab_type": "code",
    "id": "xodUir9LiQI_",
    "slideshow": {
     "slide_type": "notes"
    }
   },
   "outputs": [],
   "source": [
    "print('id(list_1): ',id(list_1))\n",
    "print('id(list_2): ',id(list_2))\n",
    "# -> list_1 and list_2 refer to the same object"
   ]
  },
  {
   "cell_type": "markdown",
   "metadata": {
    "colab_type": "text",
    "id": "1Laoe32Oiam7",
    "slideshow": {
     "slide_type": "notes"
    }
   },
   "source": [
    "If instead of a reference, you would like a true copy of a mutable object, you need to use a dedicated function that creates a copy of the memory representation of this object. All objects of mutable type have an in-built `copy()` function that provides this functionality."
   ]
  },
  {
   "cell_type": "code",
   "execution_count": null,
   "metadata": {
    "colab": {},
    "colab_type": "code",
    "id": "iRWB498sjPN2",
    "slideshow": {
     "slide_type": "notes"
    }
   },
   "outputs": [],
   "source": [
    "list_3 = list_1.copy()                # here we create a copy of list_1\n",
    "print('list_1 before: ', list_1)\n",
    "print('list_3 before: ',list_3)\n",
    "\n",
    "list_1.append(7)\n",
    "print('list_1 after: ',list_1)\n",
    "print('list_3 after: ',list_3)\n",
    "\n",
    "print('id(list_1): ', id(list_1))     # list_1 still has the same id\n",
    "print('id(list_3): ', id(list_3))     # list_3 is an entirely new object"
   ]
  },
  {
   "cell_type": "markdown",
   "metadata": {
    "colab_type": "text",
    "id": "fAAVxO7AkOOZ",
    "slideshow": {
     "slide_type": "notes"
    }
   },
   "source": [
    "Dictionaries, the other mutable type that we have introduce before, show the same behavior. \n",
    "\n",
    "Besides allowing to change already existing content, mutable types also provide methods for adding or removing objects, such as `append()`, `pop()`, `extend()`. Immutable types do not have those or similar methods.\n",
    "\n",
    "We have seen previously that the  `+` operator can be used to concatenate lists, tuples and strings. In contrast to `append()` or `extend()`, this operation always creates new objects."
   ]
  },
  {
   "cell_type": "markdown",
   "metadata": {
    "colab_type": "text",
    "id": "7Bfyh8Nvzadd",
    "slideshow": {
     "slide_type": "notes"
    }
   },
   "source": [
    "*Which* type should I use *when*?\n",
    "\n",
    "*   Use *mutable* objects when you need to change the size of the object. Changes are 'cheap'.\n",
    "*   Use *immutable* objects when you need to ensure that the object will always stay the same. Changes are 'expensive' because a new object is created.\n",
    "\n"
   ]
  },
  {
   "cell_type": "markdown",
   "metadata": {
    "colab_type": "text",
    "id": "EZTJuXVSEEgq",
    "slideshow": {
     "slide_type": "slide"
    }
   },
   "source": [
    "## Control Flows"
   ]
  },
  {
   "cell_type": "markdown",
   "metadata": {
    "colab_type": "text",
    "id": "EKbvORbhnZtX",
    "slideshow": {
     "slide_type": "fragment"
    }
   },
   "source": [
    "So far, we have learned the basic data types, and how to interact and manipulate them. This is sufficient for elementary computations, but most computational tasks require  some way of encoding logic."
   ]
  },
  {
   "cell_type": "markdown",
   "metadata": {
    "colab_type": "text",
    "id": "pXh2WyTZqoHE",
    "slideshow": {
     "slide_type": "slide"
    }
   },
   "source": [
    "### Conditional Statements & Selective Code Execution\n",
    "\n",
    "Python's **if/elif/else** statements check whether a condition is `True` or `False` and allow code to be executed selectively, depending on the the outcome of these checks."
   ]
  },
  {
   "cell_type": "code",
   "execution_count": null,
   "metadata": {
    "colab": {},
    "colab_type": "code",
    "id": "4Sjb127mrmQh",
    "slideshow": {
     "slide_type": "fragment"
    }
   },
   "outputs": [],
   "source": [
    "var1 = 1\n",
    "var2 = 3\n",
    "if var1 < var2:\n",
    "    print(\"Variable 1 < variable 2\")"
   ]
  },
  {
   "cell_type": "markdown",
   "metadata": {
    "colab_type": "text",
    "id": "HrpqRIGbsH2f",
    "slideshow": {
     "slide_type": "fragment"
    }
   },
   "source": [
    "\n",
    "---\n",
    "**Python cares about whitespaces!**\n",
    "\n",
    "Note that we indented the code inside the if statement. This is very important!\n",
    "\n",
    "The indentation level indicates the beginning and end of a code 'block' in Python.\n",
    "Any code line that is part of the block *must* start at the same indentation level.\n",
    "\n",
    "This is fairly unique among programming languages; most languages use parantheses, braces or specific keywords for indicating beginning and end of code blocks.\n",
    "\n",
    "---\n",
    "\n"
   ]
  },
  {
   "cell_type": "markdown",
   "metadata": {
    "slideshow": {
     "slide_type": "slide"
    }
   },
   "source": [
    "`if` can be combined with `elif` and `else` to define (multiple) alternative scenarios subject to specific conditions, as well as a scenario for the case that none of the conditions is fulfilled."
   ]
  },
  {
   "cell_type": "code",
   "execution_count": null,
   "metadata": {
    "colab": {},
    "colab_type": "code",
    "id": "xc21pogptBFo",
    "slideshow": {
     "slide_type": "fragment"
    }
   },
   "outputs": [],
   "source": [
    "var1 = 1\n",
    "var2 = 1\n",
    "if var1 == var2:\n",
    "    print(\"Variable 1 == variable 2\")\n",
    "elif var1 < var2:\n",
    "    print(\"Variable 1 < variable 2\")\n",
    "    print(\"Since this line is part of the elif block it must start at the same indentation level!\")  \n",
    "else:\n",
    "    print(\"Variable 1 > variable 2\")"
   ]
  },
  {
   "cell_type": "markdown",
   "metadata": {
    "colab_type": "text",
    "id": "dRtaJarytbv-",
    "slideshow": {
     "slide_type": "fragment"
    }
   },
   "source": [
    "---\n",
    "**Exercise (3):**\n",
    "\n",
    "Construct an if/else statement that additionally checks whether `var1` is a factor 2 (or more) smaller than `var2`. \n",
    "\n",
    "*Hint*: You can use multiple `elif` statements in the same if/else block. \n",
    "\n",
    "What role does the order of `elif` statements play?\n",
    "\n",
    "---"
   ]
  },
  {
   "cell_type": "markdown",
   "metadata": {
    "colab_type": "text",
    "id": "ZiFS2CrVurAt",
    "slideshow": {
     "slide_type": "slide"
    }
   },
   "source": [
    "### Loops\n",
    "\n",
    "Loops are used to perform a set of operations repeatedly. Two types of loops exist in Python, the **for loop** and the **while loop**."
   ]
  },
  {
   "cell_type": "markdown",
   "metadata": {
    "colab_type": "text",
    "id": "Kf5s75yd13Mi",
    "slideshow": {
     "slide_type": "slide"
    }
   },
   "source": [
    "#### The for loop\n",
    "\n",
    "As the name suggests, the `for` loop can be used to iterate over something a certain number of times. Iteration requires an object that is *iterable*. All the 'container' types introduced before (`list`, `tuple`, `dict`) are iterable."
   ]
  },
  {
   "cell_type": "code",
   "execution_count": null,
   "metadata": {
    "colab": {},
    "colab_type": "code",
    "id": "g39e30NeyIeB",
    "slideshow": {
     "slide_type": "fragment"
    }
   },
   "outputs": [],
   "source": [
    "for i in [0,1,2,3,4]:\n",
    "    print(i)             # note the indentation again!"
   ]
  },
  {
   "cell_type": "markdown",
   "metadata": {
    "slideshow": {
     "slide_type": "slide"
    }
   },
   "source": [
    "You don't have to define a list manually every time you want to write a loop!\n",
    "Python has a function that provides an iterator over integer numbers:"
   ]
  },
  {
   "cell_type": "code",
   "execution_count": null,
   "metadata": {
    "colab": {},
    "colab_type": "code",
    "id": "zySdfTtUwGA4",
    "slideshow": {
     "slide_type": "fragment"
    }
   },
   "outputs": [],
   "source": [
    "print( range(10) )          # this means, start from 0, iterate 10 times, \n",
    "                            # equivalent to range(0,10)\n",
    "print( list(range(10)) )    # this gives a list of integers from 1-9\n",
    "\n",
    "print( list(range(0,10,2))) # you can also define a stepsize"
   ]
  },
  {
   "cell_type": "markdown",
   "metadata": {
    "colab_type": "text",
    "id": "hVDugHLrxnQK",
    "slideshow": {
     "slide_type": "fragment"
    }
   },
   "source": [
    "This gives you an easy way to define a loop over integer numbers:"
   ]
  },
  {
   "cell_type": "code",
   "execution_count": null,
   "metadata": {
    "colab": {},
    "colab_type": "code",
    "id": "Cor1ezsUuqlo",
    "slideshow": {
     "slide_type": "fragment"
    }
   },
   "outputs": [],
   "source": [
    "# instead of\n",
    "# for i in [0, 1, 2, 3, 4]:\n",
    "\n",
    "for i in range(5):\n",
    "    print(i)            "
   ]
  },
  {
   "cell_type": "markdown",
   "metadata": {
    "slideshow": {
     "slide_type": "slide"
    }
   },
   "source": [
    "We can iterate over *any* list, even if it contains objects that are not integer numbers:"
   ]
  },
  {
   "cell_type": "code",
   "execution_count": null,
   "metadata": {
    "colab": {},
    "colab_type": "code",
    "id": "Vtwkq_Cjy88r",
    "slideshow": {
     "slide_type": "fragment"
    }
   },
   "outputs": [],
   "source": [
    "my_list = [1, 'two', 3, 'four', 100, ['another', 'list'] ]\n",
    "\n",
    "for item in my_list:\n",
    "    print(item)"
   ]
  },
  {
   "cell_type": "markdown",
   "metadata": {
    "colab_type": "text",
    "id": "YTnH2r65zRlG",
    "slideshow": {
     "slide_type": "slide"
    }
   },
   "source": [
    "It is often useful to have access to both the position of the current item in e.g. a list, and to *the* item itself. This can be achieved in multiple ways:"
   ]
  },
  {
   "cell_type": "code",
   "execution_count": null,
   "metadata": {
    "colab": {},
    "colab_type": "code",
    "id": "MHyD77H5zd24",
    "slideshow": {
     "slide_type": "fragment"
    }
   },
   "outputs": [],
   "source": [
    "# iterate over index and access list using index\n",
    "print(\"Method 2:\")\n",
    "for i in range(len(my_list)):\n",
    "    print(i, my_list[i])\n",
    "  \n",
    "# iterate over index and list items simultaneously\n",
    "print(\"Method 2:\")\n",
    "for i, item in enumerate(my_list):\n",
    "    print(i, item)\n",
    "  "
   ]
  },
  {
   "cell_type": "markdown",
   "metadata": {
    "colab_type": "text",
    "id": "NGwc9Fxg0EQS",
    "slideshow": {
     "slide_type": "slide"
    }
   },
   "source": [
    "#### The while Loop\n",
    "Instead of iterating for a pre-specified number of times (or number of elements), the `while` loop continues 'looping' until a certain condition is met."
   ]
  },
  {
   "cell_type": "code",
   "execution_count": null,
   "metadata": {
    "colab": {},
    "colab_type": "code",
    "id": "FsL5yZHb0ezE",
    "slideshow": {
     "slide_type": "fragment"
    }
   },
   "outputs": [],
   "source": [
    "i = 0\n",
    "while i < 10:\n",
    "    print(i)\n",
    "    i += 1        # this is a shorthand for i = i + 1\n",
    "    \n",
    "# What would happen if we remove the last line that increments i? "
   ]
  },
  {
   "cell_type": "markdown",
   "metadata": {
    "colab_type": "text",
    "id": "6LH9yaqR0sxA",
    "slideshow": {
     "slide_type": "slide"
    }
   },
   "source": [
    "We can 'break out' of while loops and skip iterations subject to conditionals:"
   ]
  },
  {
   "cell_type": "code",
   "execution_count": null,
   "metadata": {
    "colab": {},
    "colab_type": "code",
    "id": "xao9KQTX0sNU",
    "slideshow": {
     "slide_type": "fragment"
    }
   },
   "outputs": [],
   "source": [
    "i = 0\n",
    "\n",
    "while i < 10:\n",
    "    if i == 3:\n",
    "        i += 1\n",
    "        continue     # if i==3, we increment i and immediately start a new iteration\n",
    "                     # -> print statement not executed\n",
    "    print(i)\n",
    "    if i == 5:       # we stop the loop if i==5\n",
    "        break\n",
    "    i += 1"
   ]
  },
  {
   "cell_type": "markdown",
   "metadata": {
    "colab_type": "text",
    "id": "hqZ6y4QvEYBH",
    "slideshow": {
     "slide_type": "slide"
    }
   },
   "source": [
    "## Functions\n",
    "\n"
   ]
  },
  {
   "cell_type": "markdown",
   "metadata": {
    "colab_type": "text",
    "id": "rhtXM-zRGTJP",
    "slideshow": {
     "slide_type": "fragment"
    }
   },
   "source": [
    "*Functions* allow you to package parts of your program into reusable units.  We have already used some functions, such as `print()`,  `len()`, and seen these structures may process some input and may return some output. \n",
    "\n",
    "Functions are defined using the `def` keyword, and called using their name followed by parentheses `()`:"
   ]
  },
  {
   "cell_type": "code",
   "execution_count": null,
   "metadata": {
    "colab": {},
    "colab_type": "code",
    "id": "U_OyvvbC5NrT",
    "slideshow": {
     "slide_type": "fragment"
    }
   },
   "outputs": [],
   "source": [
    "def my_function():                    # the 'def' keyword defines a function\n",
    "    print(\"This is my first function\")\n",
    "  \n",
    "my_function()                         # call function named 'my_function'"
   ]
  },
  {
   "cell_type": "markdown",
   "metadata": {
    "slideshow": {
     "slide_type": "fragment"
    }
   },
   "source": [
    "Note that the code block that defines a function is indented, just as code blocks for conditionals and loops."
   ]
  },
  {
   "cell_type": "markdown",
   "metadata": {
    "colab_type": "text",
    "id": "bvKD9TpB5ccm",
    "slideshow": {
     "slide_type": "slide"
    }
   },
   "source": [
    "A function can have *arguments*, this is the information given as input to the function. \n",
    "\n",
    "Also, all functions return something. You can specify a specific  *return value* using the `return` keyword. If no return value is defined, the function will return `None`. This is the case in `my_function()` above.\n"
   ]
  },
  {
   "cell_type": "code",
   "execution_count": null,
   "metadata": {
    "colab": {},
    "colab_type": "code",
    "id": "bzIwGc4y5k9E",
    "slideshow": {
     "slide_type": "fragment"
    }
   },
   "outputs": [],
   "source": [
    "# function arguments a, b\n",
    "# return value a + b\n",
    "\n",
    "def add(a, b):\n",
    "    return a + b\n",
    "\n",
    "sum_1_2 = add(1,2)            # function arguments are identified by their order\n",
    "print(sum_1_2)"
   ]
  },
  {
   "cell_type": "markdown",
   "metadata": {
    "colab_type": "text",
    "id": "Y801C8yT6vKE",
    "slideshow": {
     "slide_type": "slide"
    }
   },
   "source": [
    "Functions accept two different types of arguments, *regular* and *keyword* arguments.\n",
    "A function argument becomes a *keyword* argument when a default value is declared in the function definition.\n",
    "This makes this argument *optional*."
   ]
  },
  {
   "cell_type": "code",
   "execution_count": null,
   "metadata": {
    "colab": {},
    "colab_type": "code",
    "id": "EJRBt5IG7XyW",
    "slideshow": {
     "slide_type": "fragment"
    }
   },
   "outputs": [],
   "source": [
    "# function arguments a, b, c\n",
    "# b, c have default values\n",
    "# return value a + b + c\n",
    "\n",
    "def add_mixed_arguments(a, b=1, c=2):    \n",
    "    return a + b + c\n",
    "\n",
    "# call function only with required argument\n",
    "sum_1 = add_mixed_arguments(1)\n",
    "print(sum_1)\n",
    "\n",
    "# call function with required argument and one keyword argument\n",
    "sum_2 = add_mixed_arguments(1, c=10)\n",
    "print(sum_2)\n",
    "\n",
    "# What will happen when you call the function only with keyword arguments?"
   ]
  },
  {
   "cell_type": "markdown",
   "metadata": {
    "slideshow": {
     "slide_type": "slide"
    }
   },
   "source": [
    "Similar to mathematical functions, the **names of function arguments** are just **symbols** that are used to refer to the values that are provided to the function when it is called.\n",
    "You can choose whatever names you like (subject to some syntax rules) for the function arguments.\n",
    "These names (and the values to which they link to) exist only in the definition block of the function and can only be used there.\n",
    "\n",
    "You can think of function arguments as *'local variables'* that only exist in the definition block of the functions."
   ]
  },
  {
   "cell_type": "code",
   "execution_count": null,
   "metadata": {
    "colab": {},
    "colab_type": "code",
    "id": "nEqJ7WHI8fYu",
    "slideshow": {
     "slide_type": "fragment"
    }
   },
   "outputs": [],
   "source": [
    "def sum_diff(a, b):\n",
    "    my_diff = a - b\n",
    "    my_sum  = a + b\n",
    "    return my_sum\n",
    "\n",
    "sum_from_function = sum_diff(1, 5)  \n",
    "print( sum_from_function )\n",
    "#print( my_diff )                 # check if you can also access 'my_diff'\n",
    "                                  # which has been defined in the scope of \n",
    "                                  # the function 'sum_diff()'"
   ]
  },
  {
   "cell_type": "markdown",
   "metadata": {
    "colab_type": "text",
    "id": "BXXx84iAxZMn",
    "slideshow": {
     "slide_type": "slide"
    }
   },
   "source": [
    "To return multiple objects from a function, you can wrap those objects in a container, or simply use the `return` keyword followed by a list of variable names. This will return a tuple that contains the listed objects."
   ]
  },
  {
   "cell_type": "code",
   "execution_count": null,
   "metadata": {
    "colab": {},
    "colab_type": "code",
    "id": "EtBkRPbjyJm7",
    "slideshow": {
     "slide_type": "fragment"
    }
   },
   "outputs": [],
   "source": [
    "def sum_diff(a, b):\n",
    "    my_diff = a - b\n",
    "    my_sum  = a + b\n",
    "    return my_sum, my_diff\n",
    "\n",
    "answer = sum_diff(1, 5)  \n",
    "print( answer )\n",
    "\n",
    "sum_from_function, diff_from_function = sum_diff(1, 5)\n",
    "print( sum_from_function )\n",
    "print( diff_from_function )"
   ]
  },
  {
   "cell_type": "markdown",
   "metadata": {
    "colab_type": "text",
    "id": "Y7F1oiiHJbIX",
    "slideshow": {
     "slide_type": "slide"
    }
   },
   "source": [
    "When your functions become more complex, you will want to make sure that you and possibly others can easily understand what the function does.\n",
    "In Python, functions are best documented using a `docstring`, that is a triple quoted `\"\"\"` possibly multiline string right after the `def` statement. For more information about docstrings, see the official guide on [docstring conventions](https://www.python.org/dev/peps/pep-0257/)."
   ]
  },
  {
   "cell_type": "code",
   "execution_count": null,
   "metadata": {
    "colab": {},
    "colab_type": "code",
    "id": "JNri05-0KXm-",
    "slideshow": {
     "slide_type": "fragment"
    }
   },
   "outputs": [],
   "source": [
    "def sum_diff(a, b):\n",
    "    \"\"\"Returns the sum and difference of variables a and b.\"\"\"\n",
    "    my_diff = a - b\n",
    "    my_sum  = a + b\n",
    "    return my_sum, my_diff\n"
   ]
  },
  {
   "cell_type": "markdown",
   "metadata": {
    "colab_type": "text",
    "id": "i1o079FjuEEL",
    "slideshow": {
     "slide_type": "slide"
    }
   },
   "source": [
    "\n",
    "*When* should I use functions?\n",
    "\n",
    "* Probably, whenever, you find yourself writing (or copy & pasting) code that you have already written before and now want to use in a different context.\n",
    "\n",
    "*Why* should I use functions?\n",
    "\n",
    "* Isolating meaningful 'functional units' of code increases readability.\n",
    "* Fixing an error in an isolated piece of code is much easier than finding and modifying pieces of code spread over multiple scripts. \n"
   ]
  },
  {
   "cell_type": "markdown",
   "metadata": {
    "slideshow": {
     "slide_type": "slide"
    }
   },
   "source": [
    "## 'Everything is an Object in Python'"
   ]
  },
  {
   "cell_type": "markdown",
   "metadata": {
    "slideshow": {
     "slide_type": "fragment"
    }
   },
   "source": [
    "You may come across the statement that 'everything is an object in Python'.\n",
    "\n",
    "Python is an [object-oriented](https://en.wikipedia.org/wiki/Object-oriented_programming) programming (OOP) language.\n",
    "The concepts of *class* and *object* are central to OOPs: A *class* provides the definition for a general type of object by specifying the attributes and methods that any such object should have. An *object* is a concrete realization, a so-called *instance*, of a class. *Objects* may contain data in the form of *attributes* and procedures in the form of *methods*.\n",
    "\n",
    "'Everything is an object in Python' means that anything that can be used as a value (int, str, float, functions, modules, etc) is implemented as objects.\n",
    "These objects may have *attributes* (values associated with them) and *methods* (functions associated with them).\n",
    "\n",
    "We are not interested in details of OOP here, but it is important to know how to access an object's methods and attributes. "
   ]
  },
  {
   "cell_type": "code",
   "execution_count": null,
   "metadata": {
    "slideshow": {
     "slide_type": "slide"
    }
   },
   "outputs": [],
   "source": [
    "a_float = 1.1\n",
    "print(type(a_float))        # '1.1' is an instance of class 'float'\n",
    "\n",
    "print(a_float.is_integer()) # every object of type 'float',\n",
    "                            # i.e. every instance of the 'float' class\n",
    "                            # has a method 'is_integer' that acts on the object itself\n",
    "\n",
    "1.1.is_integer()            # this function can even be called like this"
   ]
  },
  {
   "cell_type": "code",
   "execution_count": null,
   "metadata": {
    "slideshow": {
     "slide_type": "fragment"
    }
   },
   "outputs": [],
   "source": [
    "a_list = [1,2,\"three\"]\n",
    "print(type(a_list))         # a_list is an instance of class 'list'\n",
    "\n",
    "a_list.append('4')          # the 'list' class defines a method 'append'\n",
    "                            # which takes another object and appends it to the list object       \n",
    "print(a_list)"
   ]
  },
  {
   "cell_type": "markdown",
   "metadata": {
    "slideshow": {
     "slide_type": "fragment"
    }
   },
   "source": [
    "Methods and attributes can be accessed via the `.` notation, i.e. by combining `object_name` + `.` + `method_name()` or `attribute_name`."
   ]
  },
  {
   "cell_type": "markdown",
   "metadata": {
    "colab_type": "text",
    "id": "KsLW1d0LEfKy",
    "slideshow": {
     "slide_type": "slide"
    }
   },
   "source": [
    "## Libraries\n",
    "\n"
   ]
  },
  {
   "cell_type": "markdown",
   "metadata": {
    "colab_type": "text",
    "id": "hkXAdxwO-hbO",
    "slideshow": {
     "slide_type": "fragment"
    }
   },
   "source": [
    "Until now, we have only worked with very basic functions and types.\n",
    "\n",
    "Suppose we want to compute the square root of 4, $\\sqrt{4}$. Usually, such a function is called `sqrt` or similar. Try this...\n"
   ]
  },
  {
   "cell_type": "code",
   "execution_count": null,
   "metadata": {
    "colab": {},
    "colab_type": "code",
    "id": "BTvHVq8K_ue3",
    "slideshow": {
     "slide_type": "fragment"
    }
   },
   "outputs": [],
   "source": [
    "sqrt(4)"
   ]
  },
  {
   "cell_type": "markdown",
   "metadata": {
    "colab_type": "text",
    "id": "b6V7mNOl_zDv",
    "slideshow": {
     "slide_type": "fragment"
    }
   },
   "source": [
    "The error means that python does not know any object of name 'sqrt'.\n",
    "\n",
    "To understand how Python identifies functions we need to introduce the concept of *namespaces* and revisit *scopes*."
   ]
  },
  {
   "cell_type": "markdown",
   "metadata": {
    "slideshow": {
     "slide_type": "slide"
    }
   },
   "source": [
    "A *namespace* is a system that ensures all the names in a program are unique and can be used without any conflict. \n",
    "\n",
    "Python implements namespaces as dictionaries, i.e. as name-to-object maps where each object is identified by a unique name.\n",
    "\n",
    "Multiple namespaces can use the same name and map it to a different object, for example:\n",
    "- *Local Namespace*: Includes names defined locally inside a function. This namespace is created when a function is called and ceases to exist when the function returns.\n",
    "- *Global Namespace*: Includes names that are used in a project. For example, the namespace of this notebook.\n",
    "- *Built-in Namespace*: Includes *built-in* [functions](https://docs.python.org/3/library/functions.html), [types](https://docs.python.org/3/library/stdtypes.html), [keywords](https://docs.python.org/3/reference/lexical_analysis.html#keywords) and [exceptions](https://docs.python.org/3/library/exceptions.html)."
   ]
  },
  {
   "cell_type": "markdown",
   "metadata": {
    "slideshow": {
     "slide_type": "slide"
    }
   },
   "source": [
    "We can inspect *namespaces* using the `dir()` function."
   ]
  },
  {
   "cell_type": "code",
   "execution_count": null,
   "metadata": {
    "slideshow": {
     "slide_type": "fragment"
    }
   },
   "outputs": [],
   "source": [
    "dir()                # global namespace\n",
    "#dir(__builtins__)   # built-in names"
   ]
  },
  {
   "cell_type": "markdown",
   "metadata": {
    "slideshow": {
     "slide_type": "fragment"
    }
   },
   "source": [
    "In this notebook, all names listed in the *global namespace* and *built-in namespace* are known to the interpreter.\n",
    "\n",
    "The 'square-root' function is not among them. To make this function available, we need to declare such a function in the namespace, as we did with the `sum_diff()` function above, or *import* it from a source outside of this notebook."
   ]
  },
  {
   "cell_type": "markdown",
   "metadata": {
    "slideshow": {
     "slide_type": "slide"
    }
   },
   "source": [
    "Python comes with a large set of predefined functions ([Standard Library](https://docs.python.org/3/library/index.html)) that are automatically installed, but not 'built-in', i.e. not immediately available in any namespace.\n",
    "These functions are grouped by topic into individual *modules* that consist of a file in which those functions are defined. \n",
    "In fact, *any* importable python file is a module!\n",
    "\n",
    "How can the functions defined in a *module* be made available in the current global namespace?"
   ]
  },
  {
   "cell_type": "code",
   "execution_count": null,
   "metadata": {
    "colab": {},
    "colab_type": "code",
    "id": "iLHwm70ZBe-5",
    "slideshow": {
     "slide_type": "fragment"
    }
   },
   "outputs": [],
   "source": [
    "import math\n",
    "print(math)"
   ]
  },
  {
   "cell_type": "markdown",
   "metadata": {
    "colab_type": "text",
    "id": "DTIuzTkZBZ41",
    "slideshow": {
     "slide_type": "fragment"
    }
   },
   "source": [
    "We imported the *math* module into the global namespace.\n",
    "The first print statement confirms that `math` is a module that is 'built-in' the standard Python distribution. Nevertheless, we need to import it into our namespace explicitly.\n",
    "\n",
    "We can now call the function `sqrt()` that is defined in this module."
   ]
  },
  {
   "cell_type": "code",
   "execution_count": null,
   "metadata": {
    "colab": {},
    "colab_type": "code",
    "id": "w587sHY7BaoQ",
    "slideshow": {
     "slide_type": "fragment"
    }
   },
   "outputs": [],
   "source": [
    "print(math.sqrt(4))"
   ]
  },
  {
   "cell_type": "markdown",
   "metadata": {
    "colab_type": "text",
    "id": "Fz6ZGLMOBkWT",
    "slideshow": {
     "slide_type": "slide"
    }
   },
   "source": [
    "\n",
    "Try calling `sqrt()` directly, as we did before. This will still fail.\n",
    "The reason for this is that we have to tell the interpreter where to find the `sqrt()` function. Currently, the 'path' to this function is in the `math` module under the name `sqrt()`, so: `math.sqrt()`.\n",
    "\n",
    "This is verbose, and sometimes a more concise way of calling functions can be convenient. For example, we could import the function `sqrt` from the module `math` explicitly into the main namespace."
   ]
  },
  {
   "cell_type": "code",
   "execution_count": null,
   "metadata": {
    "colab": {},
    "colab_type": "code",
    "id": "B1YJ0sC9DVff",
    "slideshow": {
     "slide_type": "fragment"
    }
   },
   "outputs": [],
   "source": [
    "from math import sqrt     # import single function from module\n",
    "\n",
    "print(sqrt(4))"
   ]
  },
  {
   "cell_type": "markdown",
   "metadata": {
    "colab_type": "text",
    "id": "YoOkKc-FDnL8",
    "slideshow": {
     "slide_type": "fragment"
    }
   },
   "source": [
    "It is also possible to import all functions from a module into the current namespace using the '*' wildcard. "
   ]
  },
  {
   "cell_type": "code",
   "execution_count": null,
   "metadata": {
    "colab": {},
    "colab_type": "code",
    "id": "2ALyDUxrE6Y9",
    "slideshow": {
     "slide_type": "fragment"
    }
   },
   "outputs": [],
   "source": [
    "from math import *         # import all functions from module\n",
    "\n",
    "print(sqrt(9))"
   ]
  },
  {
   "cell_type": "markdown",
   "metadata": {
    "colab_type": "text",
    "id": "FE6P48RTFF_A",
    "slideshow": {
     "slide_type": "slide"
    }
   },
   "source": [
    "However, this contaminates the namespace with many new function names, which can have undesired sideeffects.\n",
    "A possible complication is *shadowing* due to redefinition of a name in the namespace.\n",
    "\n"
   ]
  },
  {
   "cell_type": "code",
   "execution_count": null,
   "metadata": {
    "colab": {},
    "colab_type": "code",
    "id": "zv4pDs2bFFOp",
    "slideshow": {
     "slide_type": "fragment"
    }
   },
   "outputs": [],
   "source": [
    "sqrt = 5\n",
    "print(sqrt(9))"
   ]
  },
  {
   "cell_type": "markdown",
   "metadata": {
    "colab_type": "text",
    "id": "fk4fX5JYFfib",
    "slideshow": {
     "slide_type": "fragment"
    }
   },
   "source": [
    "The safest approach is to only import those function that are actually needed, or to import an entire module by its name. Function calls that be shortened by using alternative shortened names for imported libraries. For example a library for numeric computing that we will be using is frequently imported in this way:"
   ]
  },
  {
   "cell_type": "code",
   "execution_count": null,
   "metadata": {
    "colab": {},
    "colab_type": "code",
    "id": "nhw6jQIYF-oL",
    "slideshow": {
     "slide_type": "fragment"
    }
   },
   "outputs": [],
   "source": [
    "import numpy as np           # import using short name\n",
    "\n",
    "print(np.ones( (5,5) ))"
   ]
  },
  {
   "cell_type": "markdown",
   "metadata": {
    "colab_type": "text",
    "id": "XDOiM80CEzGr",
    "slideshow": {
     "slide_type": "slide"
    }
   },
   "source": [
    "## 'Introspection' and help\n"
   ]
  },
  {
   "cell_type": "markdown",
   "metadata": {
    "colab_type": "text",
    "id": "QuYdvz9PGkcO",
    "slideshow": {
     "slide_type": "fragment"
    }
   },
   "source": [
    "*Introspection* in computing is the ability to examine the type or the properties of objects at runtime. \n",
    "Python provides a few built-in functions that allow you to do this.\n",
    "\n",
    "We have used of one of those functions before, the `type()` function, to identify the precise type of several numperic types"
   ]
  },
  {
   "cell_type": "code",
   "execution_count": null,
   "metadata": {
    "colab": {},
    "colab_type": "code",
    "id": "OEF8Q7PcJJVL",
    "slideshow": {
     "slide_type": "fragment"
    }
   },
   "outputs": [],
   "source": [
    "print( type(\"test\") )\n",
    "print( type(7) )\n",
    "print( type(None) )\n",
    "print( type([]) )\n",
    "print( type(()) )\n",
    "print( type({}) )\n"
   ]
  },
  {
   "cell_type": "markdown",
   "metadata": {
    "colab_type": "text",
    "id": "1MVqodFPJWeC",
    "slideshow": {
     "slide_type": "slide"
    }
   },
   "source": [
    "Another useful function is `dir()`. We have used this function before to inspect the names (functions, variables, etc) defined in a namespace, such as the global namespace or a module.\n",
    "\n",
    "You can also use it to discover methods (functions) of objects. \n",
    "For example, applied to a string, it will give you all the methods available for objects of type string."
   ]
  },
  {
   "cell_type": "code",
   "execution_count": null,
   "metadata": {
    "colab": {},
    "colab_type": "code",
    "id": "ZVImfreLJUCB",
    "slideshow": {
     "slide_type": "fragment"
    }
   },
   "outputs": [],
   "source": [
    "my_string = \"This is a String.\"\n",
    "dir(my_string)"
   ]
  },
  {
   "cell_type": "markdown",
   "metadata": {
    "colab_type": "text",
    "id": "7vhgqkhyDbGH",
    "slideshow": {
     "slide_type": "fragment"
    }
   },
   "source": [
    "Elements in this list that have leading or tailing double underscores `__` are internal attributes or methods of the module; not of interest for now.\n",
    "Let's try one of the other methods that we have discovered:"
   ]
  },
  {
   "cell_type": "code",
   "execution_count": null,
   "metadata": {
    "colab": {},
    "colab_type": "code",
    "id": "lvGHvAZbDvql",
    "slideshow": {
     "slide_type": "fragment"
    }
   },
   "outputs": [],
   "source": [
    "print(my_string)\n",
    "print(my_string.lower())"
   ]
  },
  {
   "cell_type": "markdown",
   "metadata": {
    "colab_type": "text",
    "id": "IE29BI16KhVW",
    "slideshow": {
     "slide_type": "slide"
    }
   },
   "source": [
    "Python comes with a help utility. You have access to an interactive help by typing `help()`."
   ]
  },
  {
   "cell_type": "code",
   "execution_count": null,
   "metadata": {
    "colab": {},
    "colab_type": "code",
    "id": "XQ0y6WPRJZi3",
    "slideshow": {
     "slide_type": "fragment"
    }
   },
   "outputs": [],
   "source": [
    "help()"
   ]
  },
  {
   "cell_type": "markdown",
   "metadata": {
    "colab_type": "text",
    "id": "2u8gM03VKxZH",
    "slideshow": {
     "slide_type": "fragment"
    }
   },
   "source": [
    "Or, you can ask for a description of a specific object `xx` by executing `help(xx)`. \n",
    "This simply prints the docstring of the object `xx`.\n",
    "\n",
    "Note that when calling help on functions you **must not** include the parentheses `()` that you would otherwise use for calling that function. I.e. `help(math.sqrt)`, *not* `help(math.sqrt())`.\n"
   ]
  },
  {
   "cell_type": "code",
   "execution_count": null,
   "metadata": {
    "colab": {},
    "colab_type": "code",
    "id": "Z2LxJKd8KlfD",
    "slideshow": {
     "slide_type": "fragment"
    }
   },
   "outputs": [],
   "source": [
    "help(math.sqrt)"
   ]
  },
  {
   "cell_type": "markdown",
   "metadata": {
    "colab_type": "text",
    "id": "tB-gyTh0FgkK",
    "slideshow": {
     "slide_type": "slide"
    }
   },
   "source": [
    "A very helpful website for (not only) programming-related questions of all kind is [stackoverflow](https://stackoverflow.com). \n",
    "When you search for a programming-related question or a specific error message on the web, stackoverflow discussions will be among the first hits.\n",
    "Colab even has a built-in functionality to search for discussions on stackoverflow when you encountered an error.\n",
    "\n",
    "\n"
   ]
  },
  {
   "cell_type": "code",
   "execution_count": null,
   "metadata": {
    "colab": {},
    "colab_type": "code",
    "id": "vVboz4VhGzPQ",
    "slideshow": {
     "slide_type": "fragment"
    }
   },
   "outputs": [],
   "source": [
    "my_tuple = (1, 2, 3)\n",
    "my_tuple[2] = 1"
   ]
  },
  {
   "cell_type": "markdown",
   "metadata": {
    "colab_type": "text",
    "id": "W2eaC7kHHX8q",
    "slideshow": {
     "slide_type": "fragment"
    }
   },
   "source": [
    "These discussions are community-based and always consist of a question (at the top) and multiple responses and comments to this question (ranked by degree of community approval).\n",
    "You will often find that discussions about your question already exist, and reading them usually helps getting you on the right track to solve or better understand how to approach your specific problem.\n",
    "\n",
    "Of course, there is no guarantee for the correctness of these answers, and you need to employ your own judgement..."
   ]
  },
  {
   "cell_type": "markdown",
   "metadata": {
    "colab_type": "text",
    "id": "t8udgmPYQo0u",
    "slideshow": {
     "slide_type": "slide"
    }
   },
   "source": [
    "# Exercises"
   ]
  },
  {
   "cell_type": "markdown",
   "metadata": {
    "colab_type": "text",
    "id": "DOkOZiBhRcHK",
    "slideshow": {
     "slide_type": "fragment"
    }
   },
   "source": [
    "- In [this exercise](https://github.com/cohmathonc/biosci670/blob/master/IntroductionComputationalMethods/exercises/01_ComputingSummaryStatistics.ipynb) you will use lists, control flows and functions for computing basic summary statistics.\n",
    "\n",
    "- In [Zen of Python](https://github.com/cohmathonc/biosci670/blob/master/IntroductionComputationalMethods/exercises/02_ZenOfPython.ipynb) you will explore the `this` module and work with string and dictionary data types. (**optional**) \n"
   ]
  },
  {
   "cell_type": "markdown",
   "metadata": {},
   "source": [
    "##### About \n",
    "This notebook is part of the *biosci670* course on *Mathematical Modeling and Methods for Biomedical Science*.\n",
    "See https://github.com/cohmathonc/biosci670 for more information and material."
   ]
  }
 ],
 "metadata": {
  "celltoolbar": "Slideshow",
  "colab": {
   "collapsed_sections": [],
   "include_colab_link": true,
   "name": "L01_IntroPython.ipynb",
   "provenance": [],
   "toc_visible": true,
   "version": "0.3.2"
  },
  "kernelspec": {
   "display_name": "Python 3",
   "language": "python",
   "name": "python3"
  },
  "language_info": {
   "codemirror_mode": {
    "name": "ipython",
    "version": 3
   },
   "file_extension": ".py",
   "mimetype": "text/x-python",
   "name": "python",
   "nbconvert_exporter": "python",
   "pygments_lexer": "ipython3",
   "version": "3.6.8"
  },
  "latex_envs": {
   "LaTeX_envs_menu_present": true,
   "autoclose": false,
   "autocomplete": true,
   "bibliofile": "biblio.bib",
   "cite_by": "apalike",
   "current_citInitial": 1,
   "eqLabelWithNumbers": true,
   "eqNumInitial": 1,
   "hotkeys": {
    "equation": "Ctrl-E",
    "itemize": "Ctrl-I"
   },
   "labels_anchors": false,
   "latex_user_defs": false,
   "report_style_numbering": false,
   "user_envs_cfg": false
  },
  "toc": {
   "base_numbering": 1,
   "nav_menu": {},
   "number_sections": true,
   "sideBar": true,
   "skip_h1_title": false,
   "title_cell": "Table of Contents",
   "title_sidebar": "Contents",
   "toc_cell": false,
   "toc_position": {
    "height": "calc(100% - 180px)",
    "left": "10px",
    "top": "150px",
    "width": "280px"
   },
   "toc_section_display": true,
   "toc_window_display": false
  }
 },
 "nbformat": 4,
 "nbformat_minor": 2
}
