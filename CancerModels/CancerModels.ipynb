{
 "cells": [
  {
   "cell_type": "markdown",
   "metadata": {
    "slideshow": {
     "slide_type": "skip"
    }
   },
   "source": [
    "<a href=\"https://colab.research.google.com/github/cohmathonc/biosci670/blob/master/CancerModels/CancerModels.ipynb\" target=\"_parent\"><img src=\"https://colab.research.google.com/assets/colab-badge.svg\" alt=\"Open In Colab\"/></a>"
   ]
  },
  {
   "cell_type": "code",
   "execution_count": null,
   "metadata": {
    "slideshow": {
     "slide_type": "skip"
    }
   },
   "outputs": [],
   "source": [
    "import matplotlib.pylab as plt\n",
    "import numpy as np\n",
    "from scipy.integrate import solve_ivp, simps\n",
    "\n",
    "font = {'font.family' : 'normal',\n",
    "        'font.weight' : 'normal',\n",
    "        'font.size'   : 20}\n",
    "plt.rcParams.update(font)"
   ]
  },
  {
   "cell_type": "code",
   "execution_count": null,
   "metadata": {
    "code_folding": [
     0
    ],
    "slideshow": {
     "slide_type": "skip"
    }
   },
   "outputs": [],
   "source": [
    "def plot_dose_tumor(t, y, administered_dose_rate=None, received_dose_rate=None, \n",
    "                    prolif_fraction=None, show_hlines=True, labels=[]):\n",
    "    subplot_cnt = 0\n",
    "    has_dose_rate = isinstance(administered_dose_rate, np.ndarray) or isinstance(received_dose_rate, np.ndarray)\n",
    "    has_prolif_fraction = isinstance(prolif_fraction, np.ndarray)\n",
    "    if has_dose_rate and has_prolif_fraction and y.ndim==1:\n",
    "        fig, axes = plt.subplots(3, 1, figsize=(15, 10), sharex=True, gridspec_kw = {'height_ratios':[1, 3, 1]})\n",
    "        N = y\n",
    "    elif has_dose_rate and y.ndim==1:\n",
    "        fig, axes = plt.subplots(2, 1, figsize=(15, 10), sharex=True, gridspec_kw = {'height_ratios':[2, 3]})\n",
    "        N = y\n",
    "    elif has_dose_rate and has_prolif_fraction and y.ndim>1:\n",
    "        fig, axes = plt.subplots(3, 1, figsize=(15, 10), sharex=True, gridspec_kw = {'height_ratios':[1, 3, 1]})\n",
    "        N = y[0,:]\n",
    "        N2= y[1,:]\n",
    "    elif has_dose_rate and y.ndim>1:\n",
    "        fig, axes = plt.subplots(2, 1, figsize=(15, 10), sharex=True, gridspec_kw = {'height_ratios':[2, 3]})\n",
    "        N = y[0,:]\n",
    "        N2= y[1,:]\n",
    "\n",
    "    # plot dose\n",
    "    if has_dose_rate:\n",
    "        if isinstance(administered_dose_rate, np.ndarray):\n",
    "            axes[0].plot(t, administered_dose_rate, label='administered dose I(t)')\n",
    "        if isinstance(received_dose_rate, np.ndarray):\n",
    "            axes[0].plot(t, received_dose_rate, label='dose acting on tumor C(t)')\n",
    "        axes[0].set_ylabel('dose rate')\n",
    "        axes[0].legend()\n",
    "        axes[0].grid()\n",
    "        axes[0].axhline(y=0, c='k', linestyle='--')  \n",
    "    \n",
    "    # plot tumor cell population\n",
    "    if y.ndim==1:\n",
    "        axes[1].plot(t, N)\n",
    "    else:\n",
    "        for dim in range(y.shape[0]):\n",
    "            if len(labels)==y.shape[0]:\n",
    "                axes[1].plot(t, y[dim, :], label=labels[dim])\n",
    "            else:\n",
    "                axes[1].plot(t, y[dim, :])\n",
    "    axes[1].set_ylabel('tumor cells $N(t)$')\n",
    "    axes[1].set_yscale('log')\n",
    "    N_min = np.min(N)\n",
    "    N_max = np.max(N)\n",
    "    axes[1].set_ylim(0.1, 5*N_max )\n",
    "    axes[1].set_yticks(np.logspace(0, int(np.log10(N_max)), num=(int(np.log10(N_max))+1)))\n",
    "    axes[1].axhline(y=1, c='k', linestyle='--')\n",
    "    axes[1].legend()\n",
    "    axes[1].grid()\n",
    "    \n",
    "    if has_prolif_fraction:\n",
    "        axes[2].plot(t, prolif_fraction)\n",
    "        axes[2].set_ylabel('Gompertz Growth $G$')\n",
    "        axes[2].set_xlabel('time [days]')\n",
    "        axes[2].grid()\n",
    "    else:\n",
    "        axes[1].set_xlabel('time [days]')\n",
    "        \n",
    "    if isinstance(dose_rate, np.ndarray) and show_hlines:\n",
    "        for i, d in enumerate(dose_rate):\n",
    "            if d>0:\n",
    "                for ax in axes:\n",
    "                    ax.axvline(x=t[i], color='r', linestyle=':')\n",
    "    plt.subplots_adjust(bottom=0.1, right=0.8, top=0.9, hspace=0.05)\n",
    "    \n",
    "    return axes "
   ]
  },
  {
   "cell_type": "markdown",
   "metadata": {
    "slideshow": {
     "slide_type": "slide"
    }
   },
   "source": [
    "# Cancer Growth & Therapy Models"
   ]
  },
  {
   "cell_type": "markdown",
   "metadata": {
    "slideshow": {
     "slide_type": "skip"
    }
   },
   "source": [
    "An important application of cancer growth models is for treatment optimization.\n",
    "Here we will review and implement some of the treatment models that lead to the development of important treatment paradigms. \n",
    "\n",
    "Some of the content of this notebook is based on [[1]](#Benzekry_2015) which provides an overview of the historic development of mathematical models for chemotherapy."
   ]
  },
  {
   "cell_type": "markdown",
   "metadata": {
    "slideshow": {
     "slide_type": "fragment"
    }
   },
   "source": [
    "## Log-Kill Hypothesis"
   ]
  },
  {
   "cell_type": "markdown",
   "metadata": {
    "slideshow": {
     "slide_type": "fragment"
    }
   },
   "source": [
    "Skipper, Schable and Wilcox introduced the first theoretical concepts for the optimal design of chemotherapy schedules in the 1960.\n",
    "They observed that L1210 leukemic cells in mice grow *exponentially*,  until a lethal tumor volume of about $10^9$ cells [[2]](#SKIPPER_1964).\n",
    "Exponential growth implies a constant doubling time, or more generally, a constant fractional increase, regardless of tumor size. "
   ]
  },
  {
   "cell_type": "markdown",
   "metadata": {
    "slideshow": {
     "slide_type": "slide"
    }
   },
   "source": [
    "The Skipper-Schabel-Wilcox model postulates that **\"a given dose of a given drug will kill approximately the same fraction, not the same number, of widely different-sized tumor cell populations -- so long as they are similarly exposed and both the growth fraction and the proportion of drug-resistant phenotypes are the same.\"**"
   ]
  },
  {
   "cell_type": "markdown",
   "metadata": {
    "slideshow": {
     "slide_type": "fragment"
    }
   },
   "source": [
    "This model resulted in development of the **log kill hypothesis** which  states that the same fraction of tumor cells is killed by a given dose of chemotherapy kills, regardless of the size of the tumor at the time of treatment. \n",
    "\n",
    "Reduction of the cell population by a constant fraction, corresponds to a reduction by a constant amount on a logarithmic scale.\n",
    "For instance, reducing a population of $N=10^4$ cells to $N'=10^3$ cells corresponds to a 90% decrease in cell number, or a decrease by 1 on a logarithmic scale:\n",
    "\n",
    "\\begin{align}\n",
    "\\frac{N}{N'}&=10  &\\rightarrow & &\\text{log kill}&=\\log_{10}\\frac{N}{N'}=1 \\\\\n",
    "&&&&\\frac{N-N'}{N} &=1-\\frac{1}{10}=90\\%\n",
    "\\end{align}\n",
    "This is called a \"one log-kill\" effect."
   ]
  },
  {
   "cell_type": "markdown",
   "metadata": {
    "slideshow": {
     "slide_type": "slide"
    }
   },
   "source": [
    "### Model"
   ]
  },
  {
   "cell_type": "markdown",
   "metadata": {
    "slideshow": {
     "slide_type": "fragment"
    }
   },
   "source": [
    "Consider the following model:\n",
    "\n",
    "$$\\frac{d N}{d t}= \\rho N - \\kappa\\, C(t)\\, N $$\n",
    "\n",
    "where $N$ is the *number of tumor cells*, $\\rho$ is the *exponential growth rate*, $C(t)$ the rate by which a dose $D$ of some therapeutic agent is acting on the the tumor and $\\kappa$ the *sensitivity* of tumor cells to this agent. \n",
    "\n",
    "Here, we assume that the effect of the agent is immediate and not affected by metabolism.\n",
    "In this case, $C(t)$ is identical to the instantaneous dose rate $I(t)$ at which the agent enters the body:\n",
    "$$C(t)=I(t)=\\frac{d D}{d t}$$\n",
    "\n",
    "Units:\n",
    "\\begin{align}\n",
    "[N] &= 1  & [\\rho] &= \\frac{1}{T}  & [C]&=\\frac{[D]}{T} & [\\kappa] &= \\frac{1}{[D]} \n",
    "\\end{align}\n"
   ]
  },
  {
   "cell_type": "markdown",
   "metadata": {
    "slideshow": {
     "slide_type": "slide"
    }
   },
   "source": [
    "If we assume that $C(t)$ is non-zero only in some time interval $t\\in [t_{\\text{start}}, t_{\\text{end}}]$ during which treatment is given, above model becomes\n",
    "\n",
    "$$\\frac{d N}{d t}= \n",
    "\\begin{cases}\n",
    "\\rho N & \\text{for } t < t_{\\text{start}}, \\, t >t_\\text{end}\\\\\n",
    "\\rho N - \\kappa\\, C(t)\\, N  & \\text{for } t_{\\text{start}} \\leq t \\leq t_\\text{end}\\\\\n",
    "\\end{cases}\n",
    "$$\n",
    "\n",
    "and integration yields:\n",
    "\n",
    "$$N(t)= \n",
    "\\begin{cases}\n",
    "N_0 \\exp(\\rho\\, t)& \\text{for } t < t_{\\text{start}}, \\, t > t_\\text{end}\\\\\n",
    "N_0 \\exp(\\rho\\, t - \\kappa\\int_{t_\\text{start}}^{t} C(\\tau) \\,d\\tau) & \\text{for } t_{\\text{start}} \\leq t \\leq t_\\text{end}\\\\\n",
    "\\end{cases}\n",
    "$$"
   ]
  },
  {
   "cell_type": "markdown",
   "metadata": {
    "slideshow": {
     "slide_type": "skip"
    }
   },
   "source": [
    "Let's examine how the 'log kill' depends on the time of the treatment relative to the growth stage of the tumor.\n",
    "\n",
    "\\begin{align}\n",
    "\\frac{N(t_\\text{start})}{N(t_\\text{end})}&=\\frac{N_0 \\exp(\\rho\\, t_\\text{start})}{N_0 \\exp(\\rho\\, t_\\text{end} - \\kappa\\int_{t_\\text{start}}^{t_\\text{end}} C(\\tau) \\,d\\tau)} \n",
    "= \\frac{\\exp(\\kappa\\int_{t_\\text{start}}^{t} C(\\tau) \\,d\\tau)}{\\exp(\\rho\\, (t_\\text{end} - t_\\text{start}))}\\\\\n",
    "\\log_{e}\\frac{N(t_\\text{start})}{N(t_\\text{end})}&= \\kappa\\,\\int_{t_\\text{start}}^{t_\\text{end}}C(\\tau)\\, d\\tau - \\rho\\,(t_{\\text{end}}-t_{\\text{start}})\n",
    "\\end{align}"
   ]
  },
  {
   "cell_type": "markdown",
   "metadata": {
    "slideshow": {
     "slide_type": "fragment"
    }
   },
   "source": [
    "Assume that total dose $D$ can be delivered instantaneously (relative to the relevant time scale), i.e. $C(t)=\\delta(t-t_{treat})\\, D$ and $t_{\\text{start}} \\leq t_\\text{treat} \\leq t_{\\text{end}}$:\n",
    "\n",
    "$$\\log_{e}\\frac{N(t_\\text{start})}{N(t_\\text{end})}= \\kappa\\, D - \\rho\\,(t_{\\text{end}}-t_{\\text{start}})$$\n",
    "\n",
    "Since $\\log_{b}(a)=\\frac{\\log_{x}(a)}{\\log_x(b)}$:\n",
    "\n",
    "$$\\text{log kill} = \\log_{10}\\frac{N(t_\\text{start})}{N(t_\\text{end})}= \\frac{\\kappa\\, D - \\rho\\,(t_{\\text{end}}-t_{\\text{start}})}{\\log_e(10)}\\, ,$$\n",
    "\n",
    "which means that the killing ratio *log kill* depends on the duration of the treatment (regrowth!) and the total dose given during treatment, but not on the time at which treatment is given.\n",
    "\n"
   ]
  },
  {
   "cell_type": "markdown",
   "metadata": {
    "slideshow": {
     "slide_type": "slide"
    }
   },
   "source": [
    "### Implementation"
   ]
  },
  {
   "cell_type": "code",
   "execution_count": null,
   "metadata": {
    "slideshow": {
     "slide_type": "fragment"
    }
   },
   "outputs": [],
   "source": [
    "def model_log_kill(t, y, r=0.1, k=1, C=0):\n",
    "    \"\"\"\n",
    "    y[0] corresponds to tumor cell number N(t)\n",
    "    y_p[0] corresponds to change in tumor cell number dN/dt\n",
    "    r = exponential growth factor\n",
    "    C = current dose rate experienced by tumor\n",
    "    k = killing efficiency\n",
    "    \"\"\"\n",
    "    y_p = np.zeros(y.shape)\n",
    "    y_p[0] = r * y[0] -  k * y[0] * C  \n",
    "    return y_p"
   ]
  },
  {
   "cell_type": "markdown",
   "metadata": {
    "slideshow": {
     "slide_type": "slide"
    }
   },
   "source": [
    "Let's assume that the dose $D$ of the drug reaches tumor cells at constant rate throughout the duration of treatment $T$: \n",
    "\n",
    "$$C(t) = C = \\frac{D}{T}\\qquad \\text{for  }\\, t_{\\text{start}} \\leq t \\leq t_\\text{end}$$\n",
    "\n"
   ]
  },
  {
   "cell_type": "markdown",
   "metadata": {},
   "source": [
    "For a given time discretization of the simulation time period, we construct an array contains the the current rate at which the treatment is administered at each time point $t_i$."
   ]
  },
  {
   "cell_type": "code",
   "execution_count": null,
   "metadata": {
    "code_folding": [
     1
    ],
    "slideshow": {
     "slide_type": "fragment"
    }
   },
   "outputs": [],
   "source": [
    "# this function and its parameters are specific to the type of dosing schedule chosen\n",
    "def dose_administration_rate(t, t_start, T, D):\n",
    "    \"\"\"\n",
    "    t: discretization of simulation time period\n",
    "    t_start: start of treatment\n",
    "    T: duration of treatment\n",
    "    D: total dose pere treatment (given at constant rate D/T)\n",
    "    \"\"\"\n",
    "    delta_t = t[1]-t[0]\n",
    "    t_end = t_start+T\n",
    "    dose_rate = np.zeros(t.shape)\n",
    "    for i, ti in enumerate(t):\n",
    "        if (ti>=t_start) and (ti<t_end): \n",
    "            dose_rate[i] = D\n",
    "    dose_rate = dose_rate/len(dose_rate[dose_rate>0])/delta_t\n",
    "    return dose_rate\n",
    "\n",
    "# discretization of simulation time period\n",
    "sim_time = 100\n",
    "delta_t  = 1\n",
    "t = np.arange(0, sim_time+delta_t, delta_t)\n",
    "\n",
    "# treatment schedule\n",
    "t_start  = 10.0\n",
    "T = 5\n",
    "t_end    = t_start + T\n",
    "dose_rate = dose_administration_rate(t, t_start, t_end, 1)\n",
    "\n",
    "plt.plot(t, dose_rate, 'x')"
   ]
  },
  {
   "cell_type": "code",
   "execution_count": null,
   "metadata": {
    "code_folding": [
     0
    ],
    "slideshow": {
     "slide_type": "slide"
    }
   },
   "outputs": [],
   "source": [
    "# Solve model\n",
    "\n",
    "# time period\n",
    "sim_time = 100\n",
    "delta_t  = 0.1\n",
    "t = np.arange(0, sim_time+delta_t, delta_t)\n",
    "\n",
    "# treatment schedule\n",
    "t_start  = 10.0\n",
    "T = 0.1\n",
    "\n",
    "total_dose = 1 * np.log(10)\n",
    "dose_rate = dose_administration_rate(t, t_start, T, total_dose)\n",
    "\n",
    "# other model parameters\n",
    "log_growth = 0.1\n",
    "kill_eff = 1\n",
    "initial_tumor_cell_population = 1E6\n",
    "\n",
    "# solution\n",
    "y = np.ones(t.shape[0])*np.nan                       # initialize solution array \n",
    "y[0] = np.array(initial_tumor_cell_population)       # initial values\n",
    "for i in range(len(t)-1):\n",
    "    sol = solve_ivp(fun=lambda t, y: model_log_kill(t, y, r=log_growth, k=kill_eff, C=dose_rate[i]),\n",
    "                    t_span=[t[i],t[i+1]], y0=[y[i]])\n",
    "    y[i+1] = sol.y[-1][-1]               \n",
    "\n",
    "# plot results\n",
    "plot_dose_tumor(t, y, received_dose_rate=dose_rate)\n",
    "\n",
    "# compute log kill\n",
    "t_end = t_start + T\n",
    "i_start = (np.abs(t-t_start)).argmin() \n",
    "i_end = (np.abs(t-t_end)).argmin()\n",
    "log_kill = np.log10(y[i_start]/y[i_end+1])\n",
    "print(\"log kill between time '%.2f' and '%.2f': %f\"%(t_start, t_end, log_kill))\n",
    "\n"
   ]
  },
  {
   "cell_type": "markdown",
   "metadata": {
    "slideshow": {
     "slide_type": "slide"
    }
   },
   "source": [
    "Assume that the entire dose $D$ is delivered in a single simulation time step.\n",
    "If the simulation time step is large compared to the time scale of tumor regrowth, we can assume that \n",
    "\n",
    "$$\\text{log kill} = \\log_{10}\\frac{N(t_\\text{start})}{N(t_\\text{stop})} \\approx \\frac{\\kappa\\, D}{\\log_e(10)} $$\n",
    "and thus\n",
    "$$\\kappa\\, D \\approx \\text{log kill} \\cdot \\log_e(10)$$\n",
    "\n",
    "So to achieve *1 log kill*, $\\kappa\\, D = 1 \\cdot \\log_e(10)$"
   ]
  },
  {
   "cell_type": "markdown",
   "metadata": {
    "slideshow": {
     "slide_type": "slide"
    }
   },
   "source": [
    "### Repeated Treatment Administration"
   ]
  },
  {
   "cell_type": "markdown",
   "metadata": {
    "slideshow": {
     "slide_type": "fragment"
    }
   },
   "source": [
    "Often, therapy is administered in cycles with a certain repetition period."
   ]
  },
  {
   "cell_type": "code",
   "execution_count": null,
   "metadata": {
    "slideshow": {
     "slide_type": "fragment"
    }
   },
   "outputs": [],
   "source": [
    "def dose_administration_rate_cycles(t, t_start, T, n_cycles, cycle_period, D_cycle):\n",
    "    delta_t = t[1]-t[0]\n",
    "    steps_per_cycle = int(cycle_period/delta_t)\n",
    "    dose_rate = np.zeros(t.shape)\n",
    "    # find start time of first cycle\n",
    "    start_time_index = (np.abs(t-t_start)).argmin() \n",
    "    # compute dose rate for each cycle\n",
    "    for i_cycle in range(n_cycles):\n",
    "        i_start = start_time_index+i_cycle*steps_per_cycle\n",
    "        i_end   = start_time_index+(i_cycle+1)*steps_per_cycle\n",
    "        for i in range(i_start, i_end):\n",
    "            if (t[i]>=t[i_start]) and (t[i]<t[i_start]+T):\n",
    "                dose_rate[i] = D_cycle\n",
    "        # normalize total dose given in cycle to D_cycle\n",
    "        dose_rate_cycle = dose_rate[i_start:i_end]\n",
    "        #print(len(dose_rate_cycle[dose_rate_cycle>0]))\n",
    "        dose_rate_cycle = dose_rate_cycle/len(dose_rate_cycle[dose_rate_cycle>0])/delta_t\n",
    "        dose_rate[i_start:i_end] = dose_rate_cycle\n",
    "    return dose_rate"
   ]
  },
  {
   "cell_type": "code",
   "execution_count": null,
   "metadata": {
    "code_folding": [
     0
    ],
    "slideshow": {
     "slide_type": "slide"
    }
   },
   "outputs": [],
   "source": [
    "# Solve model\n",
    "\n",
    "# time period\n",
    "sim_time = 300\n",
    "delta_t  = 0.1\n",
    "t = np.arange(0, sim_time+delta_t, delta_t)\n",
    "\n",
    "# treatment schedule\n",
    "t_start  = 0.0\n",
    "T = 0.1\n",
    "\n",
    "n_cycles = 15\n",
    "cycle_period = 14\n",
    "total_dose = 1 * np.log(10)\n",
    "# n_cycles = 30\n",
    "# cycle_period = 7\n",
    "# total_dose = 0.5 * np.log(10)\n",
    "\n",
    "print(\"accumulative dose: %f\"%(n_cycles*total_dose/np.log(10)))\n",
    "\n",
    "dose_rate = dose_administration_rate_cycles(t, t_start, T, n_cycles, cycle_period, total_dose)\n",
    "\n",
    "# other model parameters\n",
    "log_growth = 0.1\n",
    "kill_eff = 1\n",
    "initial_tumor_cell_population = 1E6\n",
    "\n",
    "# solution\n",
    "y = np.ones(t.shape[0])*np.nan                       # initialize solution array \n",
    "y[0] = np.array(initial_tumor_cell_population)       # initial values\n",
    "for i in range(len(t)-1):\n",
    "    sol = solve_ivp(fun=lambda t, y: model_log_kill(t, y, r=log_growth, k=kill_eff, C=dose_rate[i]),\n",
    "                    t_span=[t[i],t[i+1]], y0=[y[i]])\n",
    "    y[i+1] = sol.y[-1][-1]               \n",
    "\n",
    "# plot results\n",
    "plot_dose_tumor(t, y, administered_dose_rate=dose_rate, received_dose_rate=None)"
   ]
  },
  {
   "cell_type": "markdown",
   "metadata": {
    "slideshow": {
     "slide_type": "skip"
    }
   },
   "source": [
    "Tumor eradication and *cure* is assumed when $N(t)<1$ at some time point $t$.\n",
    "\n",
    "**Note:**\n",
    "\n",
    "ODE-based models describe average quantities. \n",
    "When the magnitudes of those quantities assume values that correspond to (few) single objects, e.g. single cells, or fractions, this description may become unsuitable.\n",
    "\n",
    "First, fractions of single objects may not be meaningful. For example, the ode model here predicts recurrence from tumor cell numbers $N<<1$.\n",
    "Second, stochastic effects gain importance and may critically influence the systems' behavior.\n"
   ]
  },
  {
   "cell_type": "markdown",
   "metadata": {
    "slideshow": {
     "slide_type": "slide"
    }
   },
   "source": [
    "---\n",
    "**Exercise**\n",
    "\n",
    "For an initial tumor burden of $10^6$ cells and $\\rho=0.1$:\n",
    "- What single dose of therapeutic agent (in units of 'log kill') would need to be given to eradicate the tumor immediately?\n",
    "- Due to toxicity, the maximum instantaneous dose is limited to the 'maximum tolerable dose' (MTD). Suppose that the MTD can be given periodically with recovery breaks of 14 days or more in between doses and that 1 MTD corresponds to an effect of 1 log-kill.\n",
    "  How would you schedule drug adminstrations (start of treatment, period and number of cycles) to achieve *cure* with as little total dose ( MTD * number of cycles ) possible.\n",
    "- Would *more frequent* adminstration of *doses below the MTD* result in better predicted outcome at similar total dose?  \n",
    "\n",
    "---"
   ]
  },
  {
   "cell_type": "markdown",
   "metadata": {
    "slideshow": {
     "slide_type": "skip"
    }
   },
   "source": [
    "Indeed, it was demonstrated [[3]](#Skipper_1965) (for Leukemia)  that a large-dose / short time shedule was superior to a chronic low-dose schedule with similar or larger dose.\n",
    "\n",
    "However, the experimental system was limited to a specific leukemic cell line, and when applied to other (solid) tumors, the log-kill hypothesis did not lead to the expected results.\n",
    "Also, this model assumes the cancer cell population to be homogeneously sensitive to the drug."
   ]
  },
  {
   "cell_type": "markdown",
   "metadata": {
    "slideshow": {
     "slide_type": "slide"
    }
   },
   "source": [
    "## Norton-Simon Hypothesis"
   ]
  },
  {
   "cell_type": "markdown",
   "metadata": {
    "slideshow": {
     "slide_type": "fragment"
    }
   },
   "source": [
    "Studies of tumor kinetics in the 1960 led to the realization that the growth rate of solid tumors was not constant but rather decreased with tumor volume.\n",
    "It was shown that the growth curve patterns could be well described by several growth models, the most famous one of those being the Gompertz model; [[4]](#Benzekry_2014) provides a recent overview of different models and their predictive properties for experimental data.\n",
    "\n",
    "Norton and Simon [[5]](#Norton_1977) revisited the log-kill hypothesis in the 1970 in order to extend it to growing tumors with non-constant specific growth rate.\n",
    "As chemotherapy is mostly based on anti-mitotic agents, they suggest that only actively proliferating cells should be affected by treatment."
   ]
  },
  {
   "cell_type": "markdown",
   "metadata": {
    "slideshow": {
     "slide_type": "slide"
    }
   },
   "source": [
    "### Model"
   ]
  },
  {
   "cell_type": "markdown",
   "metadata": {
    "slideshow": {
     "slide_type": "fragment"
    }
   },
   "source": [
    "Recall the Gompertz Model:\n",
    "    \n",
    "\\begin{align}\n",
    "      \\frac{dN}{dt} &=G(t)N(t) \\tag{1}\\\\\n",
    "      \\frac{dG}{dt} &=-\\gamma\\, G(t) \\tag{2}\n",
    "\\end{align}\n",
    "\n",
    "where the population $N(t)$ grows or shrinks over time with time-dependent growth factor $G(t)$, and the growth factor $G(t)$ decays exponentially over time with constant rate $\\gamma$. "
   ]
  },
  {
   "cell_type": "markdown",
   "metadata": {
    "slideshow": {
     "slide_type": "fragment"
    }
   },
   "source": [
    "The solution as derived in the lecture notes:\n",
    "\n",
    "$$N(t) = N_0\\,e^{(-\\frac{G_0}{\\gamma}(e^{-\\gamma\\, t}-1))} \\tag{3}$$\n",
    "\n",
    "with initial cell number $N_0$ and initial growth fraction $G_0$. \n",
    "Imposing that the system reaches its carrying capacity $K$ as $t\\rightarrow +\\infty$ allows to interpret the parameters $G_0$ and $\\gamma$ of this model in terms of $K$ and $N_0$:\n",
    "\n",
    "$$\\frac{G_0}{\\gamma}=\\ln\\left(\\frac{K}{N_0}\\right) \\tag{4}$$\n",
    "\n"
   ]
  },
  {
   "cell_type": "markdown",
   "metadata": {
    "slideshow": {
     "slide_type": "slide"
    }
   },
   "source": [
    "We implement Norton and Simon's hypothesis by extending equation (1) of this model by a treatment term ($-\\kappa\\, C(t)$, as before) that only affects the proliferative fraction $G(t)$ of the tumor.\n",
    "\n",
    "$$\\frac{dN}{dt} =G(t)\\, N(t)\\, (1-\\kappa\\, C(t)) \\tag{5}$$"
   ]
  },
  {
   "cell_type": "markdown",
   "metadata": {
    "slideshow": {
     "slide_type": "fragment"
    }
   },
   "source": [
    "Instead of modeling the decrease of the proliferative fraction $G$ over time, here we are interested in the relation between proliferative fraction and tumor population.\n",
    "\n",
    "From (4) and (5):\n",
    "\\begin{align}\n",
    "\\ln\\left(\\frac{N}{N_0}\\right) &= -\\frac{G_0}{\\gamma}\\, e^{-\\gamma\\, t} + \\frac{G_0}{\\gamma}\\\\\n",
    "\\ln\\left(\\frac{N}{N_0}\\right) - \\ln\\left(\\frac{K}{N_0}\\right)&= -\\frac{G_0}{\\gamma}\\, e^{-\\gamma\\, t} \\\\\n",
    "\\gamma\\ln\\left(\\frac{K}{N}\\right) &= G_0\\, e^{-\\gamma\\, t} = G(t) \\tag{6}\n",
    "\\end{align}\n",
    "\n",
    "Substituting (6) into (5) yields the final expression:\n",
    "$$\\frac{dN}{dt} =\\gamma\\ln\\left(\\frac{K}{N}\\right)\\, N(t)\\, (1-\\kappa\\, C(t)) \\tag{5}$$"
   ]
  },
  {
   "cell_type": "markdown",
   "metadata": {
    "slideshow": {
     "slide_type": "slide"
    }
   },
   "source": [
    "### Implementation"
   ]
  },
  {
   "cell_type": "code",
   "execution_count": null,
   "metadata": {
    "slideshow": {
     "slide_type": "fragment"
    }
   },
   "outputs": [],
   "source": [
    "def model_norton_simon(t, y, r=1, K=1, k=1, C=0):\n",
    "    \"\"\"\n",
    "    y[0] corresponds to tumor cell number N(t)\n",
    "    y_p[0] corresponds to change in tumor cell number dN/dt\n",
    "    r = exponential growth factor\n",
    "    C = current dose rate experienced by tumor\n",
    "    k = killing efficiency\n",
    "    \"\"\"\n",
    "    y_p = np.zeros(y.shape)\n",
    "    y_p[0] = r*np.log(K/y[0])* y[0] * (1 -  k * C)  \n",
    "    return y_p"
   ]
  },
  {
   "cell_type": "code",
   "execution_count": null,
   "metadata": {
    "slideshow": {
     "slide_type": "slide"
    }
   },
   "outputs": [],
   "source": [
    "# Solve model\n",
    "\n",
    "# time period\n",
    "sim_time = 300\n",
    "delta_t  = 0.1\n",
    "t = np.arange(0, sim_time+delta_t, delta_t)\n",
    "\n",
    "# treatment schedule\n",
    "t_start  = 10.0\n",
    "T = 0.1\n",
    "\n",
    "n_cycles = 8\n",
    "cycle_period = 13\n",
    "total_dose = 16\n",
    "\n",
    "dose_rate = dose_administration_rate_cycles(t, t_start, T, n_cycles, cycle_period, total_dose)\n",
    "\n",
    "# other model parameters\n",
    "gomp_growth = 0.05\n",
    "\n",
    "kill_eff = 1\n",
    "initial_tumor_cell_population = 1E7\n",
    "carrying_cap = 1E10\n",
    "\n",
    "# solution\n",
    "y = np.ones(t.shape[0])*np.nan                       # initialize solution array \n",
    "y[0] = np.array(initial_tumor_cell_population)       # initial values\n",
    "for i in range(len(t)-1):\n",
    "    sol = solve_ivp(fun=lambda t, y: model_norton_simon(t, y, r=gomp_growth, K=carrying_cap, k=kill_eff, C=dose_rate[i]),\n",
    "                    t_span=[t[i],t[i+1]], y0=[y[i]])\n",
    "    y[i+1] = sol.y[-1][-1]               \n",
    "\n",
    "    \n",
    "# plot results\n",
    "prolif_fraction = gomp_growth*np.log(carrying_cap/y)\n",
    "axes = plot_dose_tumor(t, y, administered_dose_rate=dose_rate, received_dose_rate=None, prolif_fraction=prolif_fraction)\n",
    "\n",
    "\n",
    "# add different dosing schedule\n",
    "# cycle_period = 15\n",
    "# dose_rate = dose_administration_rate_cycles(t, t_start, T, n_cycles, cycle_period, total_dose)\n",
    "# # solution\n",
    "# y2 = np.ones(t.shape[0])*np.nan                       # initialize solution array \n",
    "# y2[0] = np.array(initial_tumor_cell_population)       # initial values\n",
    "# for i in range(len(t)-1):\n",
    "#     sol = solve_ivp(fun=lambda t, y: model_norton_simon(t, y, r=gomp_growth, K=carrying_cap, k=kill_eff, C=dose_rate[i]),\n",
    "#                     t_span=[t[i],t[i+1]], y0=[y2[i]])\n",
    "#     y2[i+1] = sol.y[-1][-1]               \n",
    "\n",
    "# axes[1].plot(t, y2, label='15 day cycle')\n"
   ]
  },
  {
   "cell_type": "markdown",
   "metadata": {
    "slideshow": {
     "slide_type": "slide"
    }
   },
   "source": [
    "The Norton-Simon Hypothesis predicts superiority of densified dosing regimens:\n",
    "Less intercycle time implies less regrowth, smaller size at beginning of next cycle implies larger proliferating fraction and thus larger fraction killed by the drug.\n",
    "This has been confirmed in clinical trials that reduced inter-cycle time from 21 days to 14 days and showed benefit of the applying the denser regimen [[6]](#Held_2006).\n",
    "\n",
    "Another result from this model is that multidrug combination therapies are most effective when drugs are administered sequentially rather than alternating, so that the treatment schedule for each of the drugs is 'densified'. This prediction was confirmed in clinical trials in e.g. breast cancer [[7]](#Citron_2003).\n",
    "\n",
    "The Norton-Simon model implies that larger absolute kill of cancer cells resulting from early therapy might be counter-balanced by faster regrowth due to the higher growth rates of those smaller tumors.\n",
    "This may explain observations that adjuvant chemotherapy of breast cancer has less impact on overall survival (a function of eventual tumor body burden) than on disease-free survival (time to relapse), see this [figure](https://www.ncbi.nlm.nih.gov/books/NBK20771/figure/A8245/?report=objectonly) in [[8]](#Gilewski)."
   ]
  },
  {
   "cell_type": "markdown",
   "metadata": {
    "slideshow": {
     "slide_type": "slide"
    }
   },
   "source": [
    "## Tumor Heterogeneity"
   ]
  },
  {
   "cell_type": "markdown",
   "metadata": {
    "slideshow": {
     "slide_type": "fragment"
    }
   },
   "source": [
    "Both, the log-kill and Norton-Simon hypotheses assume the population of cancer cells to be homogeneous, with equal sensitivity to the treatment drug.\n",
    "We now consider the problem of dosing for heterogeneous tumors, consisting of subpopulations of cancer cells with distinctive sensitivities to a given drug.\n",
    "The following model is based on [[8]](#Hahnfeldt_2003).\n",
    "\n",
    "\\begin{align}\n",
    "\\frac{dN_1}{dt} & = \\left(\\rho_1 - \\gamma_1 - \\alpha\\, C(t)\\right)\\, N_1(t) + \\gamma_2\\, N_2(t) \\\\\n",
    "\\frac{dN_2}{dt} & = \\left(\\rho_2 - \\gamma_2 - \\beta\\, C(t)\\right)\\, N_2(t) + \\gamma_1\\, N_1(t) \\\\\n",
    "\\end{align}\n",
    "\n",
    "Cells of subpopulation $N_1$ and $N_2$ have net proliferations $\\rho_1$, $\\rho_2$ and experience exposure to the treatment drug $C(t)$ different with different sensitivities $\\alpha$ and $\\beta$.\n",
    "Cells from one subpopulation can move to the other subpopulation with transition rates $\\gamma_1$ and $\\gamma_2$.\n",
    "This transition may for example correspond to cells moving from a non-mitotic compartment to a mitotic one and vice versa.\n",
    "\n",
    "Due to different sensitivities, exposure to treatment will alter the relative proportion of cells in each of the subpopulations from their equilibrium proportions.\n",
    "Transition rates between these subpopulations capture the tendency of these subpopulations to return to their equilibrium proportions once the toxic insult ceases."
   ]
  },
  {
   "cell_type": "markdown",
   "metadata": {
    "slideshow": {
     "slide_type": "slide"
    }
   },
   "source": [
    "### 'Metronomic' and irregular dosing schedules"
   ]
  },
  {
   "cell_type": "code",
   "execution_count": null,
   "metadata": {
    "slideshow": {
     "slide_type": "fragment"
    }
   },
   "outputs": [],
   "source": [
    "def model_heterogeneity(t, y, r1=1, r2=1, g1=0.5, g2=0.5, a=0.1, b=0.2, C=0):\n",
    "    \"\"\"\n",
    "    y[0] corresponds to tumor cell number N1(t)\n",
    "    y[1] corresponds to tumor cell number N2(t)\n",
    "    y_p[0] corresponds to change in tumor cell number dN1/dt\n",
    "    y_p[1] corresponds to change in tumor cell number dN2/dt\n",
    "    r1, r2 = exponential growth factors\n",
    "    g1, g2 = conversion rates\n",
    "    a, b = drug sensitivities\n",
    "    \"\"\"\n",
    "    y_p = np.zeros(y.shape)\n",
    "    y_p[0] = (r1 - g1 - a*C) * y[0] + g2 * y[1]\n",
    "    y_p[1] = (r2 - g2 - b*C) * y[1] + g1 * y[0]\n",
    "    return y_p"
   ]
  },
  {
   "cell_type": "code",
   "execution_count": null,
   "metadata": {
    "slideshow": {
     "slide_type": "slide"
    }
   },
   "outputs": [],
   "source": [
    "# time period\n",
    "sim_time = 15\n",
    "delta_t  = 0.1\n",
    "t = np.arange(0, sim_time+delta_t, delta_t)\n",
    "\n",
    "# treatment schedule\n",
    "t_start  = 1.0\n",
    "T = 0.1\n",
    "\n",
    "dose_rate_metronomic = dose_administration_rate_cycles(t, t_start=1, T=0.1, n_cycles=9, \n",
    "                                                  cycle_period=1, D_cycle=1)\n",
    "dose_rate_irreg_high = dose_administration_rate_cycles(t, t_start=1, T=0.1, n_cycles=3, \n",
    "                                                  cycle_period=3, D_cycle=2)\n",
    "dose_rate_irreg_low  = dose_administration_rate_cycles(t, t_start=3, T=0.1, n_cycles=3, \n",
    "                                                  cycle_period=3, D_cycle=1)\n",
    "dose_rate_irreg = dose_rate_irreg_low + dose_rate_irreg_high\n",
    "\n",
    "plt.plot(t, dose_rate_metronomic)\n",
    "plt.plot(t, dose_rate_irreg)\n",
    "# plt.plot(t, dose_rate_irreg_high)\n",
    "# plt.plot(t, dose_rate_irreg_low)"
   ]
  },
  {
   "cell_type": "markdown",
   "metadata": {
    "slideshow": {
     "slide_type": "slide"
    }
   },
   "source": [
    "## Solving the model"
   ]
  },
  {
   "cell_type": "code",
   "execution_count": null,
   "metadata": {
    "slideshow": {
     "slide_type": "fragment"
    }
   },
   "outputs": [],
   "source": [
    "# define solver for reuse\n",
    "def solve(t, N0, r1, r2, g1, g2, a, b, dose_rate):\n",
    "    y = np.ones((2,t.shape[0]))*np.nan                     # initialize solution array \n",
    "    y[:,0] = np.array([N0,N0])                             # initial values\n",
    "    for i in range(len(t)-1):\n",
    "        sol = solve_ivp(fun=lambda t, y: model_heterogeneity(t, y, r1=r1, r2=r2, g1=g1, g2=g2, \n",
    "                                                             a=a, b=b, C=dose_rate[i]),\n",
    "                        t_span=[t[i],t[i+1]], y0=y[:,i])\n",
    "        y[:,i+1] = sol.y[:,-1]               \n",
    "\n",
    "    y_sum = np.sum(y, axis=0)\n",
    "    y_all = np.vstack([y,y_sum])\n",
    "    return y_all"
   ]
  },
  {
   "cell_type": "code",
   "execution_count": null,
   "metadata": {
    "slideshow": {
     "slide_type": "fragment"
    }
   },
   "outputs": [],
   "source": [
    "r1 = r2 = 1.0\n",
    "a = 1.0\n",
    "b = 0.1\n",
    "# slow resensitization\n",
    "g1 = 0.2\n",
    "g2 = 1.8\n",
    "\n",
    "dose_factor = 2\n",
    "N0 = 10\n",
    "\n",
    "# solution metronomic\n",
    "y_metr_all = solve(t, N0, r1, r2, g1, g2, a, b, dose_rate_metronomic*dose_factor)\n",
    "\n",
    "labels = ['more sensitive', 'more resistant', 'all']\n",
    "\n",
    "axes = plot_dose_tumor(t, y_metr_all, administered_dose_rate=dose_rate_metronomic, received_dose_rate=None, \n",
    "                       labels=['metronomic -- '+label for label in labels], show_hlines=False)"
   ]
  },
  {
   "cell_type": "markdown",
   "metadata": {
    "slideshow": {
     "slide_type": "slide"
    }
   },
   "source": [
    "### Response to these dosing schedules"
   ]
  },
  {
   "cell_type": "markdown",
   "metadata": {
    "slideshow": {
     "slide_type": "fragment"
    }
   },
   "source": [
    "- Two subpopulations, with high and low sensitivity, respectively.\n",
    "- Treated by 'irregular' and metronomic schedule\n",
    "\n",
    "'Irregular' schedule with higher dose upfront is competitive early on, but not in the long term."
   ]
  },
  {
   "cell_type": "code",
   "execution_count": null,
   "metadata": {
    "slideshow": {
     "slide_type": "fragment"
    }
   },
   "outputs": [],
   "source": [
    "# params from fig 5\n",
    "r1 = r2 = 1.0\n",
    "a = 1.0\n",
    "b = 0.1\n",
    "g1 = 0.2\n",
    "g2 = 1.8\n",
    "\n",
    "dose_factor = 4\n",
    "N0 = 10\n",
    "\n",
    "# solution metronomic\n",
    "y_metr_all = solve(t, N0, r1, r2, g1, g2, a, b, dose_rate_metronomic*dose_factor)\n",
    "  \n",
    "# solution irregular\n",
    "y_irr_all = solve(t, N0, r1, r2, g1, g2, a, b, dose_rate_irreg*dose_factor)\n",
    "\n",
    "labels = ['more sensitive', 'more resistant', 'all']\n",
    "# axes = plot_dose_tumor(t, y_metr_all, administered_dose_rate=dose_rate_metronomic, received_dose_rate=None, \n",
    "#                        labels=['metronomic -- '+label for label in labels], show_hlines=False)\n",
    "\n",
    "# for i, label in enumerate(labels):\n",
    "#     axes[1].plot(t, y_irr_all[i,:], label='irregular -- '+ label, line_style = '--')\n",
    "# axes[1].legend()"
   ]
  },
  {
   "cell_type": "code",
   "execution_count": null,
   "metadata": {
    "slideshow": {
     "slide_type": "fragment"
    }
   },
   "outputs": [],
   "source": [
    "fig, ax = plt.subplots(1, 1, figsize=(15, 7))\n",
    "# metronomic -- blue\n",
    "# irregular -- red\n",
    "# total population -- solid\n",
    "ax.plot(t, y_metr_all[2,:], color='b', linestyle='-', label='metronomic, total population')\n",
    "ax.plot(t, y_irr_all[2,:], color='r', linestyle='-', label='irregular, total population')\n",
    "# more resistant -- dashed\n",
    "ax.plot(t, y_metr_all[1,:], color='b', linestyle='--', label='metronomic, more resistant')\n",
    "ax.plot(t, y_irr_all[1,:], color='r', linestyle='--', label='irregular, more resistant')\n",
    "ax.axhline(y=1, c='k', linestyle='--')\n",
    "ax.set_yscale('log')\n",
    "ax.grid()\n",
    "ax.legend()"
   ]
  },
  {
   "cell_type": "markdown",
   "metadata": {
    "slideshow": {
     "slide_type": "slide"
    }
   },
   "source": [
    "### Effect of resensitization rate on treatment effect"
   ]
  },
  {
   "cell_type": "markdown",
   "metadata": {
    "slideshow": {
     "slide_type": "fragment"
    }
   },
   "source": [
    "- Two subpopulations, with high and low sensitivity, respectively\n",
    "- Treated by 'irregular' and metronomic schedule\n",
    "- two scenarios: slow vs quick resensitization"
   ]
  },
  {
   "cell_type": "code",
   "execution_count": null,
   "metadata": {
    "slideshow": {
     "slide_type": "fragment"
    }
   },
   "outputs": [],
   "source": [
    "# params from fig 6\n",
    "r1 = r2 = 1.0\n",
    "a = 1.0\n",
    "b = 0.1\n",
    "\n",
    "dose_factor = 4\n",
    "N0 = 10\n",
    "\n",
    "#== slow resensitization\n",
    "g1 = 0.1\n",
    "g2 = 0.9\n",
    "y_metr_slow_all = solve(t, N0, r1, r2, g1, g2, a, b, dose_rate_metronomic*dose_factor)\n",
    "y_irr_slow_all = solve(t, N0, r1, r2, g1, g2, a, b, dose_rate_irreg*dose_factor)\n",
    "\n",
    "#== quick resensitization\n",
    "g1 = 0.4\n",
    "g2 = 3.6\n",
    "y_metr_quick_all = solve(t, N0, r1, r2, g1, g2, a, b, dose_rate_metronomic*dose_factor)\n",
    "y_irr_quick_all = solve(t, N0, r1, r2, g1, g2, a, b, dose_rate_irreg*dose_factor)\n"
   ]
  },
  {
   "cell_type": "code",
   "execution_count": null,
   "metadata": {
    "slideshow": {
     "slide_type": "fragment"
    }
   },
   "outputs": [],
   "source": [
    "fig, ax = plt.subplots(1, 1, figsize=(15, 7))\n",
    "# metronomic -- blue\n",
    "# irregular -- red\n",
    "# quickly resentizing -- dashed\n",
    "ax.plot(t, y_metr_quick_all[2,:], color='b', linestyle='--', label='metronomic, quickly resensitizing')\n",
    "ax.plot(t, y_irr_quick_all[2,:], color='r', linestyle='--', label='irregular, quickly resensitizing')\n",
    "# slowly resensitizing -- solid\n",
    "ax.plot(t, y_metr_slow_all[2,:], color='b', linestyle='-', label='metronomic, slowly resensitizing')\n",
    "ax.plot(t, y_irr_slow_all[2,:], color='r', linestyle='-', label='irregular, slowly resensitizing')\n",
    "ax.axhline(y=1, c='k', linestyle='--')\n",
    "ax.set_yscale('log')\n",
    "ax.grid()\n",
    "ax.legend()\n"
   ]
  },
  {
   "cell_type": "markdown",
   "metadata": {
    "slideshow": {
     "slide_type": "fragment"
    }
   },
   "source": [
    "Differential response between irregular (red) and metronomic (blue) is small in the slowly resensitizing scenario (solid) but large in the quickly resensitizing scenario (dashed).\n",
    "\n",
    "The slow resensitizing case may be representative of tumor cell populations, whereas the quickly resensitizing case may be more representative of endothelial cells which are also affected by chemotherapy.\n",
    "\n",
    "This differential response of quickly resensitizing populations under irregular vs metronomic treatment schedules has been proposed as explanation for the observed increased therapeutic gain under metronomic dosing:\n",
    "Metronomic dosing may potentiate the anti-angiogenic properties of chemotherapeutic drugs."
   ]
  },
  {
   "cell_type": "markdown",
   "metadata": {},
   "source": [
    "# References"
   ]
  },
  {
   "cell_type": "markdown",
   "metadata": {},
   "source": [
    "<a id='Benzekry_2015'>[1]</a>\n",
    "Benzekry, S., Pasquier, E., Barbolosi, D., Lacarelle, B., Barlési, F., André, N., Ciccolini, J., 2015. Metronomic reloaded: Theoretical models bringing chemotherapy into the era of precision medicine. Semin. Cancer Biol. 35, 53–61. https://doi.org/10.1016/j.semcancer.2015.09.002\n",
    "\n",
    "<a id='SKIPPER_1964'>[2]</a>\n",
    "SKIPPER, H.E., SCHABEL Jr., F.M., WILCOX, W.S., 1964. EXPERIMENTAL EVALUATION OF POTENTIAL ANTICANCER AGENTS. XIII. ON THE. Cancer Chemother. Rep. 35, 1–111.\n",
    "\n",
    "<a id='SKIPPER_1965'>[3]</a>\n",
    "Skipper, H.E., 1965. The effects of chemotherapy on the kinetics of leukemic cell behavior. Cancer Res. 25, 1544–1550.\n",
    "\n",
    "<a id='Benzekry_2014'>[4]</a>\n",
    "Benzekry, S., Lamont, C., Beheshti, A., Tracz, A., Ebos, J.M.L., Hlatky, L., Hahnfeldt, P., 2014. Classical Mathematical Models for Description and Prediction of Experimental Tumor Growth. PLoS Comput. Biol. 10, e1003800. https://doi.org/10.1371/journal.pcbi.1003800\n",
    "\n",
    "<a id='Norton_1977'>[5]</a>\n",
    "Norton, L., Simon, R., 1977. Tumor size, sensitivity to therapy, and design of treatment schedules. Cancer Treat. Rep. 61, 1307–1317.\n",
    "\n",
    "<a id='Held_2006'>[6]</a>\n",
    "Held, G., Schubert, J., Reiser, M., Pfreundschuh, M., 2006. Dose-Intensified Treatment of Advanced-Stage Diffuse Large B-Cell Lymphomas. Seminars in Hematology 43, 221–229. https://doi.org/10.1053/j.seminhematol.2006.07.003\n",
    "\n",
    "<a id='Citron_2003'>[7]</a>\n",
    "Citron, M.L., Berry, D.A., Cirrincione, C., Hudis, C., Winer, E.P., Gradishar, W.J., Davidson, N.E., Martino, S., Livingston, R., Ingle, J.N., Perez, E.A., Carpenter, J., Hurd, D., Holland, J.F., Smith, B.L., Sartor, C.I., Leung, E.H., Abrams, J., Schilsky, R.L., Muss, H.B., Norton, L., 2003. Randomized Trial of Dose-Dense Versus Conventionally Scheduled and Sequential Versus Concurrent Combination Chemotherapy as Postoperative Adjuvant Treatment of Node-Positive Primary Breast Cancer: First Report of Intergroup Trial C9741/Cancer and Leukemia Group B Trial 9741. Journal of Clinical Oncology 21, 1431–1439. https://doi.org/10.1200/JCO.2003.09.081\n",
    "\n",
    "<a id='Gilewski'>[8]</a> Gilewski TA, Dang C, Surbone A, et al. Cytokinetics. In: Bast RC Jr, Kufe DW, Pollock RE, et al., editors. Holland-Frei Cancer Medicine. 5th edition. Hamilton (ON): BC Decker; 2000. Chapter 38. Available from: https://www.ncbi.nlm.nih.gov/books/NBK20771/\n",
    "\n",
    "<a id='Hahnfeldt_2003'>[9]</a>\n",
    "Hahnfeldt, P., Folkman, J., Hlatky, L., 2003. Minimizing Long-Term Tumor Burden: The Logic for Metronomic Chemotherapeutic Dosing and its Antiangiogenic Basis. J. Theor. Biol. 220, 545–554. https://doi.org/10.1006/jtbi.2003.3162\n",
    "\n",
    "<a id='Hahnfeldt_2003'>[10]</a>\n",
    "Traina, T.A., Norton, L., 2011a. Norton-Simon Hypothesis, in: Schwab, M. (Ed.), Encyclopedia of Cancer. Springer Berlin Heidelberg, Berlin, Heidelberg, pp. 2557–2559. https://doi.org/10.1007/978-3-642-16483-5_4130\n",
    "\n",
    "<a id='Hahnfeldt_2003'>[11]</a>\n",
    "Traina, T.A., Norton, L., 2011b. Log-Kill Hypothesis, in: Schwab, M. (Ed.), Encyclopedia of Cancer. Springer Berlin Heidelberg, Berlin, Heidelberg, pp. 2074–2075. https://doi.org/10.1007/978-3-642-16483-5_3409\n",
    " \n"
   ]
  },
  {
   "cell_type": "markdown",
   "metadata": {},
   "source": [
    "###### About \n",
    "This notebook is part of the *biosci670* course on *Mathematical Modeling and Methods for Biomedical Science*.\n",
    "See https://github.com/cohmathonc/biosci670 for more information and material."
   ]
  }
 ],
 "metadata": {
  "celltoolbar": "Slideshow",
  "kernelspec": {
   "display_name": "Python 3",
   "language": "python",
   "name": "python3"
  },
  "language_info": {
   "codemirror_mode": {
    "name": "ipython",
    "version": 3
   },
   "file_extension": ".py",
   "mimetype": "text/x-python",
   "name": "python",
   "nbconvert_exporter": "python",
   "pygments_lexer": "ipython3",
   "version": "3.6.8"
  },
  "toc": {
   "base_numbering": 1,
   "nav_menu": {},
   "number_sections": true,
   "sideBar": true,
   "skip_h1_title": false,
   "title_cell": "Table of Contents",
   "title_sidebar": "Contents",
   "toc_cell": false,
   "toc_position": {
    "height": "calc(100% - 180px)",
    "left": "10px",
    "top": "150px",
    "width": "313.390625px"
   },
   "toc_section_display": true,
   "toc_window_display": false
  }
 },
 "nbformat": 4,
 "nbformat_minor": 2
}
