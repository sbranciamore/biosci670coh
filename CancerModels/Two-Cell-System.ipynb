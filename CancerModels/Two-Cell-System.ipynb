{
 "cells": [
  {
   "cell_type": "code",
   "execution_count": null,
   "metadata": {},
   "outputs": [],
   "source": [
    "import numpy as np\n",
    "from scipy.integrate import solve_ivp\n",
    "import matplotlib.pylab as plt\n",
    "\n",
    "# interactive ipython widgets\n",
    "import ipywidgets as widgets\n",
    "from IPython.display import display"
   ]
  },
  {
   "cell_type": "markdown",
   "metadata": {},
   "source": [
    "# Two-Cell Interaction"
   ]
  },
  {
   "cell_type": "markdown",
   "metadata": {},
   "source": [
    "This notebook provides an implementation of the two cell system discussed in [1].\n",
    "See [2] for a mathematical analysis of this model.\n",
    "\n",
    "[1] Zhou, X., Franklin, R.A., Adler, M., Jacox, J.B., Bailis, W., Shyer, J.A., Flavell, R.A., Mayo, A., Alon, U., Medzhitov, R., 2018. Circuit Design Features of a Stable Two-Cell System. Cell 172, 744-757.e17. https://doi.org/10.1016/j.cell.2018.01.015\n",
    "\n",
    "[2] Adler, M., Mayo, A., Zhou, X., Franklin, R.A., Jacox, J.B., Medzhitov, R., Alon, U., 2018. Endocytosis as a stabilizing mechanism for tissue homeostasis. Proc. Natl. Acad. Sci. 115, E1926–E1935. https://doi.org/10.1073/pnas.1714377115\n"
   ]
  },
  {
   "cell_type": "markdown",
   "metadata": {},
   "source": [
    "## Model"
   ]
  },
  {
   "cell_type": "code",
   "execution_count": null,
   "metadata": {
    "code_folding": []
   },
   "outputs": [],
   "source": [
    "def MM(C, k):\n",
    "    \"\"\"Michaelis Menten\"\"\"\n",
    "    return C/(k+C)\n",
    "\n",
    "\n",
    "def model(t, y, \n",
    "          lambda_1=0.9, lambda_2=0.8, mu_1=0.3, mu_2=0.3, K=1E6, gamma=0.08,\n",
    "          beta_11=2.4E2, beta_12=4.7E2, beta_21=0.7E2, beta_22=0, \n",
    "          alpha_12=9.4E2, alpha_21=5.1E2, k_12=1.7E7, k_21=2.3E7,\n",
    "          Theta=0, omega=0):\n",
    "    \"\"\"\n",
    "    See 'Circuit Design Features of a Stable Two-Cell System', method details eqns (1)-(4).\n",
    "    \n",
    "    - with values from experimental measurements\n",
    "        - proliferation rates: lambda 1, 2\n",
    "        - death rates: mu 1, 2\n",
    "        - carrying capacity: K\n",
    "        - degradation rate of tumor growth factors: gamma\n",
    "    - with values adapted from www.bionumbers.hms.harvard.edu\n",
    "        - secretion rate of growth factors: beta 11, 12, 21, 22\n",
    "        - internalizations rates of growth factors: alpha 12, 21\n",
    "        - binding affinities of growth factors: k 12, 21\n",
    "    - cross regulation: Theta, omega\n",
    "      (-1 -> downregulation, 1 -> upregulation, 0 -> no interaction)\n",
    "    \"\"\"\n",
    "    #- unit conversions\n",
    "    # alpha, beta in units molecules/cell/min -> molecules/cell/day\n",
    "    min_in_day = 24 * 60\n",
    "    alpha_12 = alpha_12 * min_in_day\n",
    "    alpha_21 = alpha_21 * min_in_day\n",
    "    beta_11 = beta_11 * min_in_day\n",
    "    beta_12 = beta_12 * min_in_day\n",
    "    beta_21 = beta_21 * min_in_day\n",
    "    beta_22 = beta_22 * min_in_day\n",
    "    # gamma in units of hours -> day\n",
    "    gamma = gamma * 24\n",
    "    \n",
    "    # initial conditions\n",
    "    X1, X2, C12, C21 = y\n",
    "    \n",
    "    # rate equations\n",
    "    X1p  = X1 * ( lambda_1 * MM(C21, k_21) * (1-X1/K) - mu_1 )\n",
    "    X2p  = X2 * ( lambda_2 * MM(C12, k_12)            - mu_2 )\n",
    "    C12p =   beta_12 * X1 * ( 1 - 1./2. * Theta * (1 + Theta) + Theta * MM(C21, k_21) ) \\\n",
    "           + beta_22 * X2 - alpha_12 * X2 * MM(C12, k_12) - gamma * C12\n",
    "    C21p =   beta_21 * X2 * ( 1 - 1./2. * omega * (1 + omega) + omega * MM(C12, k_12) ) \\\n",
    "           + beta_11 * X1 - alpha_21 * X1 * MM(C21, k_21) - gamma * C21\n",
    "\n",
    "    yp = [X1p, X2p, C12p, C21p]\n",
    "    return np.array(yp)"
   ]
  },
  {
   "cell_type": "markdown",
   "metadata": {},
   "source": [
    "## Interactive Interface"
   ]
  },
  {
   "cell_type": "markdown",
   "metadata": {},
   "source": [
    "We use [Ipython Widgets](https://ipywidgets.readthedocs.io/en/stable/index.html) to obtain an interactive interface that facilitates parameter exploration.\n",
    "\n",
    "This is not compatible with Colab, therefore you will need to run this notebook either in a local Jupyter installation, or via [Binder](https://mybinder.readthedocs.io/en/latest/) as explained in the README file of this repository.\n",
    "\n",
    "\n",
    "First, we define a function that solves above model and plots the solution for a given set of initial values and model parameters: "
   ]
  },
  {
   "cell_type": "code",
   "execution_count": null,
   "metadata": {},
   "outputs": [],
   "source": [
    "def solve_and_plot(X1_0, X2_0, C12_0, C21_0, t_max, **kwargs):\n",
    "    # solve\n",
    "    y0  = np.array([X1_0, X2_0, C12_0, C21_0])\n",
    "    sol = solve_ivp(fun=lambda t, y: model(t, y, **kwargs), t_span=[0, t_max], y0=y0)\n",
    "    # plot\n",
    "    fig, ax = plt.subplots(1,1, figsize=(12,8))\n",
    "    ax.plot(sol.t, sol.y[0,:], label= 'X1')\n",
    "    ax.plot(sol.t, sol.y[1,:], label= 'X2')\n",
    "    ax.set_xlabel(\"time [days]\")\n",
    "    ax.set_ylabel(\"population size\")\n",
    "    #plt.plot(sol.t, sol.y[2,:], label= 'C12')\n",
    "    #plt.plot(sol.t, sol.y[3,:], label= 'C21')\n",
    "    ax.legend()"
   ]
  },
  {
   "cell_type": "markdown",
   "metadata": {},
   "source": [
    "Then, we create a 'widget' ([interactive interface](https://ipywidgets.readthedocs.io/en/stable/examples/Widget%20List.html)) for each input value of the `solve_and_plot` function, and define how those individual widgets are [grouped and arranged](https://ipywidgets.readthedocs.io/en/stable/examples/Widget%20Styling.html)."
   ]
  },
  {
   "cell_type": "code",
   "execution_count": null,
   "metadata": {},
   "outputs": [],
   "source": [
    "# Setup for use of model with IPython Widgets \n",
    "# https://ipywidgets.readthedocs.io/en/stable/index.html\n",
    "\n",
    "# default values from 'Circuit Design Features of a Stable Two-Cell System', \n",
    "# method details 'Model circuit parameters'\n",
    "\n",
    "#-- from experimental measurements\n",
    "shared_widget_params = { 'continuous_update' : False, \n",
    "                         'disabled' : False,  \n",
    "                         'orientation' : 'horizontal',\n",
    "                         'readout' : True}\n",
    "# proliferation rates\n",
    "lambda_1 = widgets.FloatSlider(value=0.9, max=10.0, step=0.1, description=r'\\(\\lambda_1\\)', **shared_widget_params, readout_format='.2f')\n",
    "lambda_2 = widgets.FloatSlider(value=0.8, max=10.0, step=0.1, description=r'\\(\\lambda_2\\)', **shared_widget_params, readout_format='.2f')\n",
    "# death rates\n",
    "mu_1 = widgets.FloatSlider(value=0.3, min=0, max=10.0, step=0.1, description=r'\\(\\mu_1\\)', **shared_widget_params, readout_format='.2f')\n",
    "mu_2 = widgets.FloatSlider(value=0.3, min=0, max=10.0, step=0.1, description=r'\\(\\mu_2\\)', **shared_widget_params, readout_format='.2f')\n",
    "# carrying capacity\n",
    "K = widgets.IntSlider( value=1E6, min=1E3, max=1E9, description='K', step=1E3, **shared_widget_params, readout_format='.3g')\n",
    "# degradation rate of tumor growth factors\n",
    "gamma = widgets.FloatSlider(value=0.08, min=0, max=1.0, step=0.01, description=r'\\(\\gamma\\)', **shared_widget_params, readout_format='.2f')\n",
    "\n",
    "#-- adapted from www.bionumbers.hms.harvard.edu\n",
    "# secretion rate of growth factors\n",
    "beta_11 = widgets.FloatSlider(value=2.4E2, min=0, max=1E3, step=10, description=r'\\(\\beta_{11}\\)', **shared_widget_params, readout_format='.2f')\n",
    "beta_12 = widgets.FloatSlider(value=4.7E2, min=0, max=1E3, step=10, description=r'\\(\\beta_{12}\\)', **shared_widget_params, readout_format='.2f')\n",
    "beta_21 = widgets.FloatSlider(value=0.7E2, min=0, max=1E3, step=10, description=r'\\(\\beta_{21}\\)', **shared_widget_params, readout_format='.2f')\n",
    "beta_22 = widgets.FloatSlider(value=0, min=0, max=1E3, step=10, description=r'\\(\\beta_{22}\\)', **shared_widget_params, readout_format='.2f') \n",
    "# internalizations rates of growth factors\n",
    "alpha_12 = widgets.FloatSlider(value=0.4E2, min=0, max=1E3, step=10, description=r'\\(\\alpha_{12}\\)', **shared_widget_params, readout_format='.2f') \n",
    "alpha_21 = widgets.FloatSlider(value=5.1E2, min=0, max=1E3, step=10, description=r'\\(\\alpha_{21}\\)', **shared_widget_params, readout_format='.2f') \n",
    "# binding affinities of growth factors\n",
    "k_12 = widgets.FloatSlider(value=1.8E7, min=0, max=1E9, step=1E5, description=r'\\(k_{12}\\)', **shared_widget_params, readout_format='.3g')\n",
    "k_21 = widgets.FloatSlider(value=2.3E7, min=0, max=1E9, step=1E5, description=r'\\(k_{21}\\)', **shared_widget_params, readout_format='.3g') \n",
    "\n",
    "# cross regulation: \n",
    "Theta = widgets.IntSlider( value=1, min=-1, max=1, step=1, description=r'\\(\\Theta\\)', **shared_widget_params, readout_format='d')\n",
    "omega = widgets.IntSlider( value=-1, min=-1, max=1, step=1, description=r'\\(\\omega\\)', **shared_widget_params, readout_format='d')\n",
    "\n",
    "#-- initial values\n",
    "X1_0 = widgets.IntText( value=1E3, description=r'\\(X_1 (t=0)\\)', **shared_widget_params)\n",
    "X2_0 = widgets.IntText( value=1E3, description=r'\\(X_2 (t=0)\\)', **shared_widget_params)\n",
    "C12_0 = widgets.FloatText( value=10, description=r'\\(C_{12} (t=0)\\)', **shared_widget_params)\n",
    "C21_0 = widgets.FloatText( value=1, description=r'\\(C_{21} (t=0)\\)', **shared_widget_params)\n",
    "#-- max simulation time\n",
    "t_max = widgets.FloatText( value=60, description='t_max', **shared_widget_params)\n",
    "\n",
    "#-- grouping and spatial arrangement of 'widgets'\n",
    "label_init = widgets.Label(value=\"Initialization\")\n",
    "label_interaction = widgets.Label(value=\"Interaction\")\n",
    "label_loggrowth = widgets.Label(value=\"Log-Growth Parameters\")\n",
    "label_growthfactors = widgets.Label(value=\"Growth Factor Parameters\")\n",
    "\n",
    "box1  = widgets.VBox( [label_init, X1_0, X2_0, C12_0, C21_0, t_max, label_interaction, Theta, omega] )\n",
    "box2  = widgets.VBox( [label_loggrowth, lambda_1, lambda_2, mu_1, mu_2, K] )\n",
    "box3 = widgets.VBox([label_growthfactors, gamma, beta_11, beta_12, beta_21, beta_22, alpha_12, alpha_21, k_12, k_21])\n",
    "ui = widgets.HBox([box1, box2, box3])\n"
   ]
  },
  {
   "cell_type": "code",
   "execution_count": null,
   "metadata": {},
   "outputs": [],
   "source": [
    "# call solver & plotting using widgets for parameter input\n",
    "out = widgets.interactive_output(solve_and_plot, {'X1_0': X1_0, \n",
    "                                               'X2_0': X2_0, \n",
    "                                               'C12_0': C12_0,\n",
    "                                               'C21_0' : C21_0,\n",
    "                                               't_max' : t_max,\n",
    "                                               'lambda_1' : lambda_1,\n",
    "                                               'lambda_2' : lambda_2,\n",
    "                                               'mu_1' : mu_1,\n",
    "                                               'mu_2' : mu_2,\n",
    "                                               'K' : K,\n",
    "                                               'gamma' : gamma,\n",
    "                                               'beta_11' : beta_11,\n",
    "                                               'beta_12' : beta_12,\n",
    "                                               'beta_21' : beta_21,\n",
    "                                               'beta_22' : beta_22,\n",
    "                                               'alpha_12' : alpha_12,\n",
    "                                               'alpha_21' : alpha_21,\n",
    "                                               'k_12' : k_12,\n",
    "                                               'k_21' : k_21, \n",
    "                                               'Theta' : Theta,\n",
    "                                               'omega' : omega\n",
    "                                              })"
   ]
  },
  {
   "cell_type": "code",
   "execution_count": null,
   "metadata": {},
   "outputs": [],
   "source": [
    "# display widget\n",
    "display(ui, out)"
   ]
  },
  {
   "cell_type": "markdown",
   "metadata": {},
   "source": [
    "###### About \n",
    "This notebook is part of the *biosci670* course on *Mathematical Modeling and Methods for Biomedical Science*.\n",
    "See https://github.com/cohmathonc/biosci670 for more information and material."
   ]
  }
 ],
 "metadata": {
  "kernelspec": {
   "display_name": "Python 3",
   "language": "python",
   "name": "python3"
  },
  "language_info": {
   "codemirror_mode": {
    "name": "ipython",
    "version": 3
   },
   "file_extension": ".py",
   "mimetype": "text/x-python",
   "name": "python",
   "nbconvert_exporter": "python",
   "pygments_lexer": "ipython3",
   "version": "3.6.8"
  },
  "toc": {
   "base_numbering": 1,
   "nav_menu": {},
   "number_sections": true,
   "sideBar": true,
   "skip_h1_title": false,
   "title_cell": "Table of Contents",
   "title_sidebar": "Contents",
   "toc_cell": false,
   "toc_position": {},
   "toc_section_display": true,
   "toc_window_display": false
  }
 },
 "nbformat": 4,
 "nbformat_minor": 2
}
